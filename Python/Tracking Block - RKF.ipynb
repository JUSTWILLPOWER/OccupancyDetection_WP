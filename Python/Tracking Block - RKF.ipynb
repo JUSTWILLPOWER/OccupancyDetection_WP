{
 "cells": [
  {
   "cell_type": "code",
   "execution_count": 26,
   "metadata": {},
   "outputs": [],
   "source": [
    "import numpy as np\n",
    "import pandas as pd\n",
    "import matplotlib.pyplot as plt\n",
    "import csv\n",
    "import pyqtgraph as pg\n",
    "from pyqtgraph.Qt import QtCore, QtGui\n",
    "%gui qt5\n",
    "import time"
   ]
  },
  {
   "cell_type": "markdown",
   "metadata": {},
   "source": [
    "### Plotting"
   ]
  },
  {
   "cell_type": "code",
   "execution_count": null,
   "metadata": {},
   "outputs": [],
   "source": [
    "#set up plottig GUI\n",
    "app = QtGui.QApplication([])\n",
    "pg.setConfigOption('background','w')  "
   ]
  },
  {
   "cell_type": "code",
   "execution_count": null,
   "metadata": {},
   "outputs": [],
   "source": [
    "win = pg.GraphicsWindow(title=\"Occupancy Detection GUI\")\n",
    "plot1 = win.addPlot()\n",
    "plot1.setXRange(-6,6)\n",
    "plot1.setYRange(0,6)\n",
    "plot1.setLabel('left',text = 'Y position (m)')\n",
    "plot1.setLabel('bottom', text= 'X position (m)')\n",
    "s1 = plot1.plot([],[],pen=None,symbol='o')"
   ]
  },
  {
   "cell_type": "markdown",
   "metadata": {},
   "source": [
    "### Helper Functions"
   ]
  },
  {
   "cell_type": "code",
   "execution_count": 27,
   "metadata": {},
   "outputs": [],
   "source": [
    "def readMeasurements(file):\n",
    "\n",
    "    with open(file, newline='') as csvfile:\n",
    "        data = list(csv.reader(csvfile))\n",
    "\n",
    "    centroidFramesCartesianMeasurement = list()\n",
    "    headerFound = False\n",
    "    for rowIndex in range(0, len(data)):\n",
    "        row = data[rowIndex]\n",
    "        if row[0] == 'X' and row[1] == 'Y' and row[2] == 'CentroidNumber':\n",
    "            if headerFound:\n",
    "                centroidFramesCartesianMeasurement.append(frame)\n",
    "                frame = np.array([])\n",
    "            else:\n",
    "                headerFound = True\n",
    "                frame = np.array([])\n",
    "        elif headerFound:\n",
    "            if (not((row[0]) and (row[1]))):\n",
    "                centroidFramesCartesianMeasurement.append(frame)\n",
    "                headerFound = False\n",
    "            else:\n",
    "                X = float(row[0])\n",
    "                Y = float(row[1])\n",
    "#                CentroidNumber = (row[2])\n",
    "                if(np.size(frame) ==0):\n",
    "                    frame = np.array([[X],[Y]]) #transposed structure\n",
    "                else:\n",
    "                    frameTemp= np.array([[X],[Y]])\n",
    "                    frame = np.hstack((frame,frameTemp))\n",
    "\n",
    "    for i in range(0,len(centroidFramesCartesianMeasurement)):\n",
    "        if(np.size(centroidFramesCartesianMeasurement[i]) == 0):\n",
    "            centroidFramesCartesianMeasurement[i] = np.reshape(centroidFramesCartesianMeasurement[i],(0,0)) #Force dimensions for empty arrays\n",
    "\n",
    "    return(centroidFramesCartesianMeasurement)"
   ]
  },
  {
   "cell_type": "code",
   "execution_count": 28,
   "metadata": {},
   "outputs": [],
   "source": [
    "def predict(x, P, A, Q): #predict function\n",
    "    xpred = np.matmul(A,x)\n",
    "    Ppred = np.matmul(A,P)\n",
    "    Ppred = np.matmul(Ppred,np.transpose(A)) + Q\n",
    "    return(xpred, Ppred)"
   ]
  },
  {
   "cell_type": "code",
   "execution_count": 29,
   "metadata": {},
   "outputs": [],
   "source": [
    "def innovation(xpred, Ppred, z, H, R): #innovation function\n",
    "    nu = z - np.matmul(H,xpred)\n",
    "    S = np.matmul(H,Ppred)\n",
    "    S = R + np.matmul(S, np.transpose(H))\n",
    "    return(nu, S)\n"
   ]
  },
  {
   "cell_type": "code",
   "execution_count": 30,
   "metadata": {},
   "outputs": [],
   "source": [
    "def innovation_update(xpred, Ppred, nu, S, H):\n",
    "    K = np.matmul(Ppred, np.transpose(H))\n",
    "    K = np.matmul(K,np.linalg.inv(S)) #check inverse function\n",
    "    xnew = xpred + np.matmul(K,nu)\n",
    "    Pnew = np.matmul(K,S)\n",
    "    Pnew = Ppred - np.matmul(Pnew,np.transpose(K)) \n",
    "    return(xnew, Pnew)"
   ]
  },
  {
   "cell_type": "code",
   "execution_count": 31,
   "metadata": {},
   "outputs": [],
   "source": [
    "def cart2pol(x, y):\n",
    "    rho = np.sqrt(x**2 + y**2)\n",
    "    phi = np.arctan2(y, x)\n",
    "    return(rho, phi)"
   ]
  },
  {
   "cell_type": "code",
   "execution_count": 32,
   "metadata": {},
   "outputs": [],
   "source": [
    "def data_associate(centroidPred, rthetacentroid):\n",
    "    rthetacentroidCurrent = rthetacentroid\n",
    "    centpredCol = np.size(centroidPred,1)\n",
    "    rthetaCol = np.size(rthetacentroid,1)\n",
    "\n",
    "    for i in list(range(0,centpredCol)):\n",
    "        r1 = centroidPred[0][i]\n",
    "        r2 = rthetacentroid[0]\n",
    "        theta1 = centroidPred[2][i]\n",
    "        theta2 = rthetacentroid[1]\n",
    "        temp = np.sqrt(np.multiply(r1,r1) + np.multiply(r2,r2) - np.multiply(np.multiply(np.multiply(2,r1),r2),np.cos(theta2-theta1)))\n",
    "        if(i==0):\n",
    "            minDist = temp\n",
    "        else:\n",
    "            minDist = np.vstack((minDist,temp))\n",
    "\n",
    "    currentFrame = np.empty((2,max(centpredCol,rthetaCol)))\n",
    "    currentFrame[:] = np.nan\n",
    "\n",
    "    minDist = np.reshape(minDist, (centpredCol,rthetaCol))\n",
    "    minDistOrg = minDist\n",
    "\n",
    "    for i in list(range(0,min(centpredCol,rthetaCol))):\n",
    "        if((np.ndim(minDist)) == 1):\n",
    "            minDist = np.reshape(minDist,(rthetaCol,1))\n",
    "            minDistOrg = np.reshape(minDistOrg,(rthetaCol,1))\n",
    "        val = np.min(minDist)\n",
    "        resultOrg = np.argwhere(minDistOrg == val)\n",
    "        result = np.argwhere(minDist == val)\n",
    "        minRowOrg = resultOrg[0][0]\n",
    "        minColOrg = resultOrg[0][1]\n",
    "        minRow = result[0][0]\n",
    "        minCol = result[0][1]\n",
    "        currentFrame[:,minRowOrg] = rthetacentroid[:,minColOrg]\n",
    "        minDist = np.delete(minDist,minRow,0)\n",
    "        minDist = np.delete(minDist,minCol,1)\n",
    "        rthetacentroidCurrent = np.delete(rthetacentroidCurrent,minCol,1)\n",
    "\n",
    "    index = 0\n",
    "    if (rthetacentroidCurrent.size != 0): #check indexing\n",
    "        for i in list(range(centpredCol,rthetaCol)):\n",
    "            currentFrame[:,i] = rthetacentroidCurrent[:,index]\n",
    "            index += 1 \n",
    "\n",
    "    return(currentFrame)"
   ]
  },
  {
   "cell_type": "markdown",
   "metadata": {},
   "source": [
    "### Main Code"
   ]
  },
  {
   "cell_type": "code",
   "execution_count": 34,
   "metadata": {},
   "outputs": [],
   "source": [
    "#initialise matrices \n",
    "centroidX =np.zeros((4,1))\n",
    "centroidP = []\n",
    "delT = 0.0500\n",
    "A = np.array([[1,delT,0,0], [0,1,0,0], [0,0,1,delT], [0,0,0,1]])\n",
    "H = np.array([[1,0,0,0],[0,0,1,0]])\n",
    "P = np.identity(4);\n",
    "Q = np.multiply(0.9,np.identity(4))\n",
    "R = np.array([[1],[1]])\n",
    "centroidP.extend([P])\n",
    "\n",
    "filePath = 'ClusterData.csv'\n",
    "rawxycentroidData = readMeasurements(filePath)\n",
    "#clear the csv file since its read\n",
    "# open(filePath, \"w\").close()\n",
    "\n",
    "for currentrawxycentroidData in rawxycentroidData:\n",
    "\n",
    "    xytransposecentroidData = currentrawxycentroidData\n",
    "    rthetacentroidData=xytransposecentroidData\n",
    "    if (xytransposecentroidData.size != 0): \n",
    "        [rthetacentroidData[0,:],rthetacentroidData[1,:]] = cart2pol(xytransposecentroidData[0,:],xytransposecentroidData[1,:])\n",
    "    if((rthetacentroidData.size != 0)):\n",
    "        currentFrame = data_associate(centroidX, rthetacentroidData)\n",
    "        addittionalCentroids = (np.size(rthetacentroidData,1)-np.size(centroidX,1))\n",
    "        if(addittionalCentroids>0):\n",
    "            centroidX = np.pad(centroidX, ((0,0),(0,addittionalCentroids)), 'constant') #initialises previous iteration to zer\n",
    "            for newFrameIndex in list((range(0, addittionalCentroids))):\n",
    "                centroidP.extend([P])\n",
    "        for currentFrameIndex in list((range(0,np.size(currentFrame,1)))):\n",
    "            if(not(np.isnan(currentFrame[0,currentFrameIndex]))):\n",
    "                [xpred, Ppred] = predict(centroidX[:,currentFrameIndex], centroidP[currentFrameIndex], A, Q)\n",
    "                [nu, S] = innovation(xpred, Ppred, currentFrame[:, currentFrameIndex], H, R)\n",
    "                [centroidX[:,currentFrameIndex],  centroidP[currentFrameIndex]] = innovation_update(xpred, Ppred, nu, S, H)\n",
    "            else:\n",
    "                [centroidX[:,currentFrameIndex], centroidP[currentFrameIndex]] = predict(centroidX[:,currentFrameIndex], centroidP[currentFrameIndex], A, Q)                   \n",
    "    else:\n",
    "        for noFrameIndex in list((range(0,np.size(centroidX,1)))):\n",
    "            [centroidX[:,noFrameIndex], centroidP[noFrameIndex]] = predict(centroidX[:,noFrameIndex], centroidP[noFrameIndex], A, Q)\n",
    "    \n",
    "    #centroidX is 4xN array that contains that centroid information for that frame\n",
    "    centroidFrame = pd.DataFrame(np.transpose(centroidX), \n",
    "             columns=['FilteredRange', 'FilteredDoppler', 'FilteredTheta', 'FilteredAngularVelocity'])\n",
    "    centroidFrame['CentroidNumber'] = centroidFrame.index\n",
    "    #write out to a csv file\n",
    "    centroidFrame.to_csv('CentroidData.csv', header=True, index=False, mode='a')\n"
   ]
  },
  {
   "cell_type": "markdown",
   "metadata": {},
   "source": [
    "### Questions\n",
    "<ul>\n",
    "    <li> How does it deal with removed centroids? I.e person 0 leaves and person 1 stays. In terms of data structure? </li>\n",
    "</ul>"
   ]
  },
  {
   "cell_type": "markdown",
   "metadata": {},
   "source": [
    "### Plotting"
   ]
  },
  {
   "cell_type": "code",
   "execution_count": null,
   "metadata": {},
   "outputs": [],
   "source": [
    "xPos = []\n",
    "yPos = []\n",
    "for i in range(0, len(radius1)):\n",
    "    xPos = np.append(xPos,radius1[i]*(np.cos(theta1[i])))\n",
    "    yPos = np.append(yPos, radius1[i]*(np.sin(theta1[i])))\n",
    "    s1.setData(xPos, yPos)\n",
    "    QtGui.QApplication.processEvents() \n",
    "    time.sleep(0.1)"
   ]
  }
 ],
 "metadata": {
  "kernelspec": {
   "display_name": "Python 3",
   "language": "python",
   "name": "python3"
  },
  "language_info": {
   "codemirror_mode": {
    "name": "ipython",
    "version": 3
   },
   "file_extension": ".py",
   "mimetype": "text/x-python",
   "name": "python",
   "nbconvert_exporter": "python",
   "pygments_lexer": "ipython3",
   "version": "3.7.1"
  }
 },
 "nbformat": 4,
 "nbformat_minor": 2
}
