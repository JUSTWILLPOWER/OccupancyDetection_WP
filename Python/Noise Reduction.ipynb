{
 "cells": [
  {
   "cell_type": "code",
   "execution_count": 78,
   "metadata": {},
   "outputs": [],
   "source": [
    "import numpy as np\n",
    "import pandas as pd\n",
    "from scipy.io import savemat\n",
    "#pyqtgraph -> fast plotting\n",
    "import pyqtgraph as pg\n",
    "from pyqtgraph.Qt import QtGui\n",
    "%gui qt5\n",
    "import time\n",
    "from scipy.spatial.distance import euclidean\n",
    "import matplotlib.pyplot as plt\n",
    "from sklearn.cluster import DBSCAN"
   ]
  },
  {
   "cell_type": "markdown",
   "metadata": {},
   "source": [
    "### Load Data"
   ]
  },
  {
   "cell_type": "code",
   "execution_count": 2,
   "metadata": {},
   "outputs": [],
   "source": [
    "#one person slow walk\n",
    "#TLV Data Load\n",
    "tlvData = (loadmat('C:\\\\Users\\\\hasna\\\\Documents\\\\GitHub\\\\OccupancyDetection\\\\Data\\\\Matlab Data\\\\slowWalk.mat'))['tlvStream'][0]"
   ]
  },
  {
   "cell_type": "code",
   "execution_count": 66,
   "metadata": {},
   "outputs": [],
   "source": [
    "#two people slow walk\n",
    "#TLV Data Load\n",
    "#loads of points\n",
    "tlvData = (loadmat('C:\\\\Users\\\\hasna\\\\Documents\\\\GitHub\\\\OccupancyDetection\\\\Data\\\\Matlab Data\\\\2PeopleMoving.mat'))['tlvStream'][0]"
   ]
  },
  {
   "cell_type": "code",
   "execution_count": 3,
   "metadata": {},
   "outputs": [],
   "source": [
    "#three people walk\n",
    "#TLV Data Load\n",
    "tlvData = (loadmat('C:\\\\Users\\\\hasna\\\\Documents\\\\GitHub\\\\OccupancyDetection\\\\Data\\\\Matlab Data\\\\3PeopleWalking.mat'))['tlvStream'][0]"
   ]
  },
  {
   "cell_type": "code",
   "execution_count": 63,
   "metadata": {},
   "outputs": [],
   "source": [
    "#initialise variables\n",
    "lostSync = False\n",
    "\n",
    "#valid header variables and constant\n",
    "magicBytes = np.array([2,1,4,3,6,5,8,7], dtype= 'uint8')\n",
    "\n",
    "isMagicOk = False\n",
    "isDataOk = False\n",
    "gotHeader = False\n",
    "\n",
    "frameHeaderLength = 52 #52 bytes long\n",
    "tlvHeaderLengthInBytes = 8\n",
    "pointLengthInBytes = 16\n",
    "frameNumber = 1\n",
    "targetFrameNumber = 0\n",
    "targetLengthInBytes = 68\n",
    "\n",
    "#graph constraints\n",
    "weightThreshold = 0.2 #minimum distance between points\n",
    "minClusterSize = 30"
   ]
  },
  {
   "cell_type": "markdown",
   "metadata": {},
   "source": [
    "### Plotting Setup"
   ]
  },
  {
   "cell_type": "code",
   "execution_count": 3,
   "metadata": {},
   "outputs": [],
   "source": [
    "app = QtGui.QApplication([])\n",
    "pg.setConfigOption('background','w')"
   ]
  },
  {
   "cell_type": "code",
   "execution_count": 73,
   "metadata": {},
   "outputs": [],
   "source": [
    "win = pg.GraphicsWindow(title=\"Testing GUI\")\n",
    "plot1 = win.addPlot()\n",
    "plot1.setXRange(-6,6)\n",
    "plot1.setYRange(0,6)\n",
    "plot1.setLabel('left',text = 'Y position (m)')\n",
    "plot1.setLabel('bottom', text= 'X position (m)')\n",
    "s1 = plot1.plot([],[],pen=None,symbol='o')\n",
    "\n",
    "plot2 = win.addPlot()\n",
    "plot2.setXRange(-6,6)\n",
    "plot2.setYRange(0,6)\n",
    "plot2.setLabel('left',text = 'Y position (m)')\n",
    "plot2.setLabel('bottom', text= 'X position (m)')\n",
    "s2 = plot2.plot([],[],pen=None,symbol='o')"
   ]
  },
  {
   "cell_type": "markdown",
   "metadata": {},
   "source": [
    "### Main Code"
   ]
  },
  {
   "cell_type": "code",
   "execution_count": 74,
   "metadata": {},
   "outputs": [],
   "source": [
    "def dfs(vertexDf, edgeMatrix, startNode):\n",
    "    \n",
    "    visited = []\n",
    "    dfsStack = [int(startNode)]\n",
    "\n",
    "    while not(len(dfsStack) == 0):\n",
    "        vertex = dfsStack.pop()\n",
    "        if vertex not in visited:\n",
    "            #find unvisited nodes\n",
    "            unvisitedNodes = vertexDf['VertexID'].values[np.logical_not(np.isnan(edgeMatrix[int(vertex), :]))]\n",
    "            unvisitedNodes = list(unvisitedNodes)\n",
    "            visited.append(vertex)\n",
    "            #add unvisited nodes to the stack\n",
    "            for node in unvisitedNodes:\n",
    "                if node not in visited:\n",
    "                    dfsStack.append(node)\n",
    "    return visited"
   ]
  },
  {
   "cell_type": "code",
   "execution_count": 75,
   "metadata": {},
   "outputs": [],
   "source": [
    "def centroid(clusterList):\n",
    "    centroids = np.array([])\n",
    "    for cluster in clusterList:\n",
    "        xMean = np.mean(cluster['X'].values)\n",
    "        yMean = np.mean(cluster['Y'].values)\n",
    "        if len(centroids) == 0:\n",
    "            centroids = np.array([xMean,yMean])\n",
    "        else:\n",
    "            centroids = np.concatenate((centroids, np.array([xMean,yMean])), axis=0)\n",
    "    return centroids"
   ]
  },
  {
   "cell_type": "code",
   "execution_count": 76,
   "metadata": {},
   "outputs": [],
   "source": [
    "#clear plots\n",
    "centroidData = list()\n",
    "for tlvStream in tlvData:\n",
    "    tlvStream = np.frombuffer(tlvStream, dtype = 'uint8')\n",
    "    \n",
    "    #tlv header\n",
    "    index = 0\n",
    "    #tlv header parsing\n",
    "    tlvType = tlvStream[index:index+4].view(dtype=np.uint32)\n",
    "    tlvLength = tlvStream[index+4:index+8].view(dtype=np.uint32)\n",
    "    \n",
    "    index += tlvHeaderLengthInBytes\n",
    "    tlvDataLength = tlvLength - tlvHeaderLengthInBytes\n",
    "\n",
    "    if tlvType == 6: \n",
    "        numberOfPoints = tlvDataLength/pointLengthInBytes\n",
    "        p = tlvStream[index:index+tlvDataLength[0]].view(np.single)\n",
    "        pointCloud = np.reshape(p,(4, int(numberOfPoints)),order=\"F\")\n",
    "\n",
    "        if not(pointCloud is None):\n",
    "            #constrain point cloud to within the effective sensor range\n",
    "            #range 1 < x < 6\n",
    "            #azimuth -50 deg to 50 deg\n",
    "            #check whether corresponding range and azimuth data are within the constraints\n",
    "\n",
    "            effectivePointCloud = np.array([])\n",
    "            for index in range(0, len(pointCloud[0,:])):\n",
    "                if (pointCloud[0,index] > 1 and pointCloud[0,index] < 6) \\\n",
    "                and (pointCloud[1, index] > -50*np.pi/180 \\\n",
    "                     and pointCloud[1, index] < 50*np.pi/180):\n",
    "        \n",
    "                    #concatenate columns to the new point cloud\n",
    "                    if len(effectivePointCloud) == 0:\n",
    "                        effectivePointCloud = np.reshape(pointCloud[:, index], (4,1), order=\"F\")\n",
    "                    else:\n",
    "                        point = np.reshape(pointCloud[:, index], (4,1),order=\"F\")\n",
    "                        effectivePointCloud = np.hstack((effectivePointCloud, point))\n",
    "                        \n",
    "\n",
    "            if len(effectivePointCloud) != 0:\n",
    "                posX = np.multiply(effectivePointCloud[0,:], np.sin(effectivePointCloud[1,:]))\n",
    "                posY = np.multiply(effectivePointCloud[0,:], np.cos(effectivePointCloud[1,:]))\n",
    "                s1.setData(posX, posY) #pre filtering\n",
    "                QtGui.QApplication.processEvents()\n",
    "                #vertex dataframe\n",
    "                vertexID = np.arange(len(posX))\n",
    "                vertexDf = pd.DataFrame({'VertexID':vertexID, 'X':posX, 'Y':posY})\n",
    "                #minimum number of points to qualify as a person\n",
    "                if len(vertexDf.values) >= minClusterSize: #do you even have one cluster\n",
    "                    #preallocate edgeMatrix\n",
    "                    #edges are denoted by their respective weights\n",
    "                    #undirected graph with constraint that two nodes can only be connected by one edge\n",
    "                    edgeMatrix = np.zeros((len(posX), len(posY)))\n",
    "                    #vertices are saved as np arrays\n",
    "                    #evaluate edge Matrix and create graph\n",
    "                    for rowIndex in range(0, edgeMatrix.shape[0]):\n",
    "                        for colIndex in range(0, edgeMatrix.shape[1]):\n",
    "                            if rowIndex == colIndex:\n",
    "                                continue #diagonal element\n",
    "                            elif edgeMatrix[rowIndex, colIndex] != 0:\n",
    "                                continue #element already filled\n",
    "                            else:\n",
    "                                pointA = (vertexDf.values[rowIndex])[1:] #extract x y position disregarding the vertexID\n",
    "                                pointB = (vertexDf.values[colIndex])[1:] #extract x y position disregarding the vertexID\n",
    "                                length = euclidean(pointA, pointB)\n",
    "                                #fill elements\n",
    "                                edgeMatrix[rowIndex,colIndex] = length\n",
    "                                edgeMatrix[colIndex, rowIndex] = length\n",
    "\n",
    "                    #weight based reduction of graph/remove edges by replacing edge weight by np.NaN\n",
    "                    weightMask = np.logical_or(np.greater(edgeMatrix,weightThreshold), np.equal(edgeMatrix, 0))\n",
    "                    edgeMatrix[weightMask] = np.NaN\n",
    "\n",
    "                    #perform DFS to find connected components\n",
    "                    componentsList = list() #list of components\n",
    "                    vertexList = list() #used to hold vertices that have been considered\n",
    "                    for vertex in vertexDf['VertexID']:\n",
    "                        if vertex not in vertexList:\n",
    "                            visitedNodes = dfs(vertexDf, edgeMatrix, vertex)\n",
    "                            componentsList.append(visitedNodes)\n",
    "                            for vertex in visitedNodes:\n",
    "                                if vertex not in vertexList:\n",
    "                                    vertexList.append(vertex)\n",
    "\n",
    "                    #use minimum cluster size to remove bad cluster matches\n",
    "                    #and extract clusters\n",
    "                    clusterList = list()\n",
    "                    clusterDf = pd.DataFrame([])\n",
    "                    for cluster in componentsList:\n",
    "                        if len(cluster) >= minClusterSize:\n",
    "                            pointCluster = vertexDf.loc[np.array(cluster)]\n",
    "                            clusterList.append(pointCluster)\n",
    "                            clusterDf = pd.concat([clusterDf, pointCluster], ignore_index=True)\n",
    "                    #add plotting\n",
    "                    if len(clusterDf.values) > 0:\n",
    "                        s2.setData(clusterDf['X'].values, clusterDf['Y'].values)\n",
    "                        QtGui.QApplication.processEvents()\n",
    "                    #calculate centroid\n",
    "                    centroids = list()\n",
    "                    centroids = centroid(clusterList)\n",
    "                    centroidData.append(centroids)\n",
    "                else:\n",
    "                    centroidData.append([])\n",
    "                    \n",
    "\n"
   ]
  },
  {
   "cell_type": "code",
   "execution_count": 79,
   "metadata": {},
   "outputs": [],
   "source": [
    "savemat('centroidData.mat', {'data':centroidData})"
   ]
  },
  {
   "cell_type": "code",
   "execution_count": 61,
   "metadata": {},
   "outputs": [
    {
     "data": {
      "text/plain": [
       "(0, 6)"
      ]
     },
     "execution_count": 61,
     "metadata": {},
     "output_type": "execute_result"
    },
    {
     "data": {
      "image/png": "[encoded data removed]",
      "text/plain": [
       "<Figure size 432x288 with 1 Axes>"
      ]
     },
     "metadata": {
      "needs_background": "light"
     },
     "output_type": "display_data"
    }
   ],
   "source": [
    "#plot first frame of two people walking after runnining throug algorithm\n",
    "plt.figure()\n",
    "cluster = clusterList[0]\n",
    "plt.scatter(cluster['X'], cluster['Y'])\n",
    "plt.xlim(-6, 6)\n",
    "plt.ylim(0,6)"
   ]
  },
  {
   "cell_type": "code",
   "execution_count": null,
   "metadata": {},
   "outputs": [],
   "source": []
  },
  {
   "cell_type": "markdown",
   "metadata": {},
   "source": [
    "#### Unit Tests"
   ]
  },
  {
   "cell_type": "code",
   "execution_count": 3,
   "metadata": {},
   "outputs": [],
   "source": [
    "#dfs unit test and overall algorithm test set \n",
    "posX = np.array([2,2.1,2.2,2.1,2.2,2.2,5,5.1,5,4,5])\n",
    "posY = np.array([4,4,4,3.8,3.9,3.95,2,2,2.1,4,5])"
   ]
  },
  {
   "cell_type": "code",
   "execution_count": 347,
   "metadata": {},
   "outputs": [],
   "source": [
    "#unit test to check vertex and edge generation\n",
    "posX = np.array([1,1,1,2,3])\n",
    "posY = np.array([4,3,2,4,4])"
   ]
  },
  {
   "cell_type": "code",
   "execution_count": 169,
   "metadata": {},
   "outputs": [],
   "source": [
    "#vertex dataframe\n",
    "vertexID = np.arange(len(posX))\n",
    "vertexDf = pd.DataFrame({'VertexID':vertexID, 'X':posX, 'Y':posY})\n",
    "#minimum number of points to qualify as a person\n",
    "if len(vertexDf.values) >= minClusterSize: #do you even have one cluster\n",
    "    #preallocate edgeMatrix\n",
    "    #edges are denoted by their respective weights\n",
    "    #undirected graph with constraint that two nodes can only be connected by one edge\n",
    "    edgeMatrix = np.zeros((len(posX), len(posY)))\n",
    "    #vertices are saved as np arrays\n",
    "    #evaluate edge Matrix and create graph\n",
    "    for rowIndex in range(0, edgeMatrix.shape[0]):\n",
    "        for colIndex in range(0, edgeMatrix.shape[1]):\n",
    "            if rowIndex == colIndex:\n",
    "                continue #diagonal element\n",
    "            elif edgeMatrix[rowIndex, colIndex] != 0:\n",
    "                continue #element already filled\n",
    "            else:\n",
    "                pointA = (vertexDf.values[rowIndex])[1:] #extract x y position disregarding the vertexID\n",
    "                pointB = (vertexDf.values[colIndex])[1:] #extract x y position disregarding the vertexID\n",
    "                length = euclidean(pointA, pointB)\n",
    "                #fill elements\n",
    "                edgeMatrix[rowIndex,colIndex] = length\n",
    "                edgeMatrix[colIndex, rowIndex] = length\n",
    "\n",
    "    #weight based reduction of graph/remove edges by replacing edge weight by np.NaN\n",
    "    weightMask = np.logical_or(np.greater(edgeMatrix,weightThreshold), np.equal(edgeMatrix, 0))\n",
    "    edgeMatrix[weightMask] = np.NaN\n",
    "\n",
    "    #perform DFS to find connected components\n",
    "    componentsList = list() #list of components\n",
    "    vertexList = list() #used to hold vertices that have been considered\n",
    "    for vertex in vertexDf['VertexID']:\n",
    "        if vertex not in vertexList:\n",
    "            visitedNodes = dfs(vertexDf, edgeMatrix, vertex)\n",
    "            componentsList.append(visitedNodes)\n",
    "            for vertex in visitedNodes:\n",
    "                if vertex not in vertexList:\n",
    "                    vertexList.append(vertex)\n",
    "                    \n",
    "    #use minimum cluster size to remove bad cluster matches\n",
    "    #and extract clusters\n",
    "    clusterList = list()\n",
    "    for cluster in componentsList:\n",
    "        if len(cluster) >= minClusterSize:\n",
    "            pointCluster = vertexDf.loc[np.array(cluster)]\n",
    "            clusterList.append(pointCluster)\n",
    "            \n",
    "else:\n",
    "    print('NOT ENOUGH POINTS')\n"
   ]
  },
  {
   "cell_type": "code",
   "execution_count": 162,
   "metadata": {},
   "outputs": [],
   "source": [
    "def dfs(vertexDf, edgeMatrix, startNode):\n",
    "    \n",
    "    visited = []\n",
    "    dfsStack = [int(startNode)]\n",
    "\n",
    "    while not(len(dfsStack) == 0):\n",
    "        vertex = dfsStack.pop()\n",
    "        if vertex not in visited:\n",
    "            #find unvisited nodes\n",
    "            unvisitedNodes = vertexDf['VertexID'].values[np.logical_not(np.isnan(edgeMatrix[int(vertex), :]))]\n",
    "            unvisitedNodes = list(unvisitedNodes)\n",
    "            visited.append(vertex)\n",
    "            #add unvisited nodes to the stack\n",
    "            for node in unvisitedNodes:\n",
    "                if node not in visited:\n",
    "                    dfsStack.append(node)\n",
    "    return visited"
   ]
  },
  {
   "cell_type": "code",
   "execution_count": 177,
   "metadata": {},
   "outputs": [
    {
     "data": {
      "text/plain": [
       "(0, 6)"
      ]
     },
     "execution_count": 177,
     "metadata": {},
     "output_type": "execute_result"
    },
    {
     "data": {
      "image/png": "[encoded data removed]",
      "text/plain": [
       "<Figure size 432x288 with 1 Axes>"
      ]
     },
     "metadata": {
      "needs_background": "light"
     },
     "output_type": "display_data"
    }
   ],
   "source": [
    "#plot the first frame of two people walking\n",
    "plt.figure()\n",
    "plt.scatter(posX, posY)\n",
    "plt.xlim(-6, 6)\n",
    "plt.ylim(0,6)"
   ]
  },
  {
   "cell_type": "code",
   "execution_count": 178,
   "metadata": {},
   "outputs": [
    {
     "data": {
      "text/plain": [
       "(0, 6)"
      ]
     },
     "execution_count": 178,
     "metadata": {},
     "output_type": "execute_result"
    },
    {
     "data": {
      "image/png": "[encoded data removed]",
      "text/plain": [
       "<Figure size 432x288 with 1 Axes>"
      ]
     },
     "metadata": {
      "needs_background": "light"
     },
     "output_type": "display_data"
    }
   ],
   "source": [
    "#plot first frame of two people walking after runnining throug algorithm\n",
    "plt.figure()\n",
    "for cluster in clusterList:\n",
    "    plt.scatter(cluster['X'], cluster['Y'])\n",
    "plt.xlim(-6, 6)\n",
    "plt.ylim(0,6)"
   ]
  }
 ],
 "metadata": {
  "kernelspec": {
   "display_name": "Python 3",
   "language": "python",
   "name": "python3"
  },
  "language_info": {
   "codemirror_mode": {
    "name": "ipython",
    "version": 3
   },
   "file_extension": ".py",
   "mimetype": "text/x-python",
   "name": "python",
   "nbconvert_exporter": "python",
   "pygments_lexer": "ipython3",
   "version": "3.7.1"
  }
 },
 "nbformat": 4,
 "nbformat_minor": 2
}
