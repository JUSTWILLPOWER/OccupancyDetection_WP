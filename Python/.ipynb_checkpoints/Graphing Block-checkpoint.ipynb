{
 "cells": [
  {
   "cell_type": "code",
   "execution_count": 1,
   "metadata": {},
   "outputs": [],
   "source": [
    "import time\n",
    "import numpy as np\n",
    "import pandas as pd\n",
    "\n",
    "#pyqtgraph -> fast plotting\n",
    "import pyqtgraph as pg\n",
    "from pyqtgraph.Qt import QtCore, QtGui\n",
    "%gui qt5\n",
    "\n",
    "import signal\n",
    "signal.signal(signal.SIGINT, signal.SIG_DFL)\n",
    "\n",
    "import sys\n",
    "from PyQt5.QtCore import QCoreApplication\n",
    "import signal\n",
    "signal.signal(signal.SIGINT, signal.SIG_DFL)\n",
    "\n",
    "import sys\n",
    "from PyQt5.QtCore import QCoreApplication\n",
    "\n",
    "import time"
   ]
  },
  {
   "cell_type": "markdown",
   "metadata": {},
   "source": [
    "### Read and plot "
   ]
  },
  {
   "cell_type": "code",
   "execution_count": 21,
   "metadata": {},
   "outputs": [],
   "source": [
    "#set up plottig GUI\n",
    "app = QtGui.QApplication([])\n",
    "pg.setConfigOption('background','w')   "
   ]
  },
  {
   "cell_type": "code",
   "execution_count": 44,
   "metadata": {},
   "outputs": [],
   "source": [
    "win = pg.GraphicsWindow(title=\"Occupancy Detection GUI\")\n",
    "plot1 = win.addPlot()\n",
    "plot1.setXRange(-6,6)\n",
    "plot1.setYRange(0,6)\n",
    "plot1.setLabel('left',text = 'Y position (m)')\n",
    "plot1.setLabel('bottom', text= 'X position (m)')\n",
    "s1 = plot1.plot([],[],pen=None,symbol='x')\n",
    "occupancyEstimate = win.addLabel(text=\"Occupancy Estimate: 0\")\n",
    "plot2 = win.addPlot()\n",
    "plot2.setXRange(-6,6)\n",
    "plot2.setYRange(0,6)\n",
    "plot2.setLabel('left',text = 'Y position (m)')\n",
    "plot2.setLabel('bottom', text= 'X position (m)')\n",
    "s2 = plot2.plot([],[],pen=None,symbol='o')"
   ]
  },
  {
   "cell_type": "code",
   "execution_count": 2,
   "metadata": {},
   "outputs": [],
   "source": [
    "def readMeasurements(file):\n",
    "    #read in measurements from csv\n",
    "    rawCentroidData = pd.read_csv(file, header=None)\n",
    "    #find headers and frames within headers\n",
    "    #each header has the structure X, Y, CentroidNumber\n",
    "    #below each header is the frame data\n",
    "    centroidFrames = list()\n",
    "    headerFound = False\n",
    "    for rowIndex in range(0, rawCentroidData.shape[0]):\n",
    "        row = rawCentroidData.loc[rowIndex]\n",
    "        if row[0] == 'FilteredRange': #header has been found\n",
    "            if headerFound: \n",
    "                #actual data was found last frame and this frame actual data is found again\n",
    "                #past frame ended so add to list\n",
    "                centroidFrames.append(frame)\n",
    "                frame = pd.DataFrame([])\n",
    "            else:\n",
    "                #header found\n",
    "                headerFound = True\n",
    "                frame = pd.DataFrame([])\n",
    "            #data should be following\n",
    "        elif headerFound:\n",
    "            #actual data\n",
    "            radius = np.float(row[0])\n",
    "            theta = np.float(row[2])\n",
    "            centroidNumber = int(row[4])\n",
    "            if len(frame) == 0:\n",
    "                frame = pd.DataFrame({'Range':radius, 'Theta':theta, 'CentroidNumber':centroidNumber}, index=range(1))\n",
    "            else:\n",
    "                data = pd.DataFrame({'Range':radius, 'Theta':theta, 'CentroidNumber':centroidNumber}, index=range(centroidNumber,centroidNumber+1))\n",
    "                frame = pd.concat([frame,data])\n",
    "    \n",
    "    return centroidFrames"
   ]
  },
  {
   "cell_type": "code",
   "execution_count": 49,
   "metadata": {},
   "outputs": [
    {
     "ename": "KeyError",
     "evalue": "'0'",
     "output_type": "error",
     "traceback": [
      "\u001b[1;31m---------------------------------------------------------------------------\u001b[0m",
      "\u001b[1;31mKeyError\u001b[0m                                  Traceback (most recent call last)",
      "\u001b[1;32m<ipython-input-49-d950f6f9c321>\u001b[0m in \u001b[0;36m<module>\u001b[1;34m\u001b[0m\n\u001b[0;32m     14\u001b[0m     \u001b[0mposXOG\u001b[0m \u001b[1;33m=\u001b[0m \u001b[0mnp\u001b[0m\u001b[1;33m.\u001b[0m\u001b[0mmultiply\u001b[0m\u001b[1;33m(\u001b[0m\u001b[0mframe\u001b[0m\u001b[1;33m[\u001b[0m\u001b[1;34m'Range'\u001b[0m\u001b[1;33m]\u001b[0m\u001b[1;33m,\u001b[0m \u001b[0mnp\u001b[0m\u001b[1;33m.\u001b[0m\u001b[0mcos\u001b[0m\u001b[1;33m(\u001b[0m\u001b[0mframe\u001b[0m\u001b[1;33m[\u001b[0m\u001b[1;34m'Theta'\u001b[0m\u001b[1;33m]\u001b[0m\u001b[1;33m)\u001b[0m\u001b[1;33m)\u001b[0m\u001b[1;33m\u001b[0m\u001b[1;33m\u001b[0m\u001b[0m\n\u001b[0;32m     15\u001b[0m     \u001b[0mposYOG\u001b[0m \u001b[1;33m=\u001b[0m \u001b[0mnp\u001b[0m\u001b[1;33m.\u001b[0m\u001b[0mmultiply\u001b[0m\u001b[1;33m(\u001b[0m\u001b[0mframe\u001b[0m\u001b[1;33m[\u001b[0m\u001b[1;34m'Range'\u001b[0m\u001b[1;33m]\u001b[0m\u001b[1;33m,\u001b[0m \u001b[0mnp\u001b[0m\u001b[1;33m.\u001b[0m\u001b[0msin\u001b[0m\u001b[1;33m(\u001b[0m\u001b[0mframe\u001b[0m\u001b[1;33m[\u001b[0m\u001b[1;34m'Theta'\u001b[0m\u001b[1;33m]\u001b[0m\u001b[1;33m)\u001b[0m\u001b[1;33m)\u001b[0m\u001b[1;33m\u001b[0m\u001b[1;33m\u001b[0m\u001b[0m\n\u001b[1;32m---> 16\u001b[1;33m     \u001b[0ms2\u001b[0m\u001b[1;33m.\u001b[0m\u001b[0msetData\u001b[0m\u001b[1;33m(\u001b[0m\u001b[0mposXOG\u001b[0m\u001b[1;33m.\u001b[0m\u001b[0mvalues\u001b[0m\u001b[1;33m,\u001b[0m\u001b[0mposYOG\u001b[0m\u001b[1;33m.\u001b[0m\u001b[0mvalues\u001b[0m\u001b[1;33m)\u001b[0m\u001b[1;33m\u001b[0m\u001b[1;33m\u001b[0m\u001b[0m\n\u001b[0m\u001b[0;32m     17\u001b[0m \u001b[1;33m\u001b[0m\u001b[0m\n\u001b[0;32m     18\u001b[0m     \u001b[1;31m#slice out all incorrect frames\u001b[0m\u001b[1;33m\u001b[0m\u001b[1;33m\u001b[0m\u001b[1;33m\u001b[0m\u001b[0m\n",
      "\u001b[1;32m~\\Anaconda3\\lib\\site-packages\\pyqtgraph\\graphicsItems\\PlotDataItem.py\u001b[0m in \u001b[0;36msetData\u001b[1;34m(self, *args, **kargs)\u001b[0m\n\u001b[0;32m    459\u001b[0m         \u001b[0mprofiler\u001b[0m\u001b[1;33m(\u001b[0m\u001b[1;34m'set data'\u001b[0m\u001b[1;33m)\u001b[0m\u001b[1;33m\u001b[0m\u001b[1;33m\u001b[0m\u001b[0m\n\u001b[0;32m    460\u001b[0m \u001b[1;33m\u001b[0m\u001b[0m\n\u001b[1;32m--> 461\u001b[1;33m         \u001b[0mself\u001b[0m\u001b[1;33m.\u001b[0m\u001b[0mupdateItems\u001b[0m\u001b[1;33m(\u001b[0m\u001b[1;33m)\u001b[0m\u001b[1;33m\u001b[0m\u001b[1;33m\u001b[0m\u001b[0m\n\u001b[0m\u001b[0;32m    462\u001b[0m         \u001b[0mprofiler\u001b[0m\u001b[1;33m(\u001b[0m\u001b[1;34m'update items'\u001b[0m\u001b[1;33m)\u001b[0m\u001b[1;33m\u001b[0m\u001b[1;33m\u001b[0m\u001b[0m\n\u001b[0;32m    463\u001b[0m \u001b[1;33m\u001b[0m\u001b[0m\n",
      "\u001b[1;32m~\\Anaconda3\\lib\\site-packages\\pyqtgraph\\graphicsItems\\PlotDataItem.py\u001b[0m in \u001b[0;36mupdateItems\u001b[1;34m(self)\u001b[0m\n\u001b[0;32m    491\u001b[0m \u001b[1;33m\u001b[0m\u001b[0m\n\u001b[0;32m    492\u001b[0m         \u001b[1;32mif\u001b[0m \u001b[0mscatterArgs\u001b[0m\u001b[1;33m[\u001b[0m\u001b[1;34m'symbol'\u001b[0m\u001b[1;33m]\u001b[0m \u001b[1;32mis\u001b[0m \u001b[1;32mnot\u001b[0m \u001b[1;32mNone\u001b[0m\u001b[1;33m:\u001b[0m\u001b[1;33m\u001b[0m\u001b[1;33m\u001b[0m\u001b[0m\n\u001b[1;32m--> 493\u001b[1;33m             \u001b[0mself\u001b[0m\u001b[1;33m.\u001b[0m\u001b[0mscatter\u001b[0m\u001b[1;33m.\u001b[0m\u001b[0msetData\u001b[0m\u001b[1;33m(\u001b[0m\u001b[0mx\u001b[0m\u001b[1;33m=\u001b[0m\u001b[0mx\u001b[0m\u001b[1;33m,\u001b[0m \u001b[0my\u001b[0m\u001b[1;33m=\u001b[0m\u001b[0my\u001b[0m\u001b[1;33m,\u001b[0m \u001b[1;33m**\u001b[0m\u001b[0mscatterArgs\u001b[0m\u001b[1;33m)\u001b[0m\u001b[1;33m\u001b[0m\u001b[1;33m\u001b[0m\u001b[0m\n\u001b[0m\u001b[0;32m    494\u001b[0m             \u001b[0mself\u001b[0m\u001b[1;33m.\u001b[0m\u001b[0mscatter\u001b[0m\u001b[1;33m.\u001b[0m\u001b[0mshow\u001b[0m\u001b[1;33m(\u001b[0m\u001b[1;33m)\u001b[0m\u001b[1;33m\u001b[0m\u001b[1;33m\u001b[0m\u001b[0m\n\u001b[0;32m    495\u001b[0m         \u001b[1;32melse\u001b[0m\u001b[1;33m:\u001b[0m\u001b[1;33m\u001b[0m\u001b[1;33m\u001b[0m\u001b[0m\n",
      "\u001b[1;32m~\\Anaconda3\\lib\\site-packages\\pyqtgraph\\graphicsItems\\ScatterPlotItem.py\u001b[0m in \u001b[0;36msetData\u001b[1;34m(self, *args, **kargs)\u001b[0m\n\u001b[0;32m    306\u001b[0m         \u001b[0moldData\u001b[0m \u001b[1;33m=\u001b[0m \u001b[0mself\u001b[0m\u001b[1;33m.\u001b[0m\u001b[0mdata\u001b[0m  \u001b[1;31m## this causes cached pixmaps to be preserved while new data is registered.\u001b[0m\u001b[1;33m\u001b[0m\u001b[1;33m\u001b[0m\u001b[0m\n\u001b[0;32m    307\u001b[0m         \u001b[0mself\u001b[0m\u001b[1;33m.\u001b[0m\u001b[0mclear\u001b[0m\u001b[1;33m(\u001b[0m\u001b[1;33m)\u001b[0m  \u001b[1;31m## clear out all old data\u001b[0m\u001b[1;33m\u001b[0m\u001b[1;33m\u001b[0m\u001b[0m\n\u001b[1;32m--> 308\u001b[1;33m         \u001b[0mself\u001b[0m\u001b[1;33m.\u001b[0m\u001b[0maddPoints\u001b[0m\u001b[1;33m(\u001b[0m\u001b[1;33m*\u001b[0m\u001b[0margs\u001b[0m\u001b[1;33m,\u001b[0m \u001b[1;33m**\u001b[0m\u001b[0mkargs\u001b[0m\u001b[1;33m)\u001b[0m\u001b[1;33m\u001b[0m\u001b[1;33m\u001b[0m\u001b[0m\n\u001b[0m\u001b[0;32m    309\u001b[0m \u001b[1;33m\u001b[0m\u001b[0m\n\u001b[0;32m    310\u001b[0m     \u001b[1;32mdef\u001b[0m \u001b[0maddPoints\u001b[0m\u001b[1;33m(\u001b[0m\u001b[0mself\u001b[0m\u001b[1;33m,\u001b[0m \u001b[1;33m*\u001b[0m\u001b[0margs\u001b[0m\u001b[1;33m,\u001b[0m \u001b[1;33m**\u001b[0m\u001b[0mkargs\u001b[0m\u001b[1;33m)\u001b[0m\u001b[1;33m:\u001b[0m\u001b[1;33m\u001b[0m\u001b[1;33m\u001b[0m\u001b[0m\n",
      "\u001b[1;32m~\\Anaconda3\\lib\\site-packages\\pyqtgraph\\graphicsItems\\ScatterPlotItem.py\u001b[0m in \u001b[0;36maddPoints\u001b[1;34m(self, *args, **kargs)\u001b[0m\n\u001b[0;32m    407\u001b[0m         \u001b[0mself\u001b[0m\u001b[1;33m.\u001b[0m\u001b[0mbounds\u001b[0m \u001b[1;33m=\u001b[0m \u001b[1;33m[\u001b[0m\u001b[1;32mNone\u001b[0m\u001b[1;33m,\u001b[0m \u001b[1;32mNone\u001b[0m\u001b[1;33m]\u001b[0m\u001b[1;33m\u001b[0m\u001b[1;33m\u001b[0m\u001b[0m\n\u001b[0;32m    408\u001b[0m         \u001b[0mself\u001b[0m\u001b[1;33m.\u001b[0m\u001b[0minvalidate\u001b[0m\u001b[1;33m(\u001b[0m\u001b[1;33m)\u001b[0m\u001b[1;33m\u001b[0m\u001b[1;33m\u001b[0m\u001b[0m\n\u001b[1;32m--> 409\u001b[1;33m         \u001b[0mself\u001b[0m\u001b[1;33m.\u001b[0m\u001b[0mupdateSpots\u001b[0m\u001b[1;33m(\u001b[0m\u001b[0mnewData\u001b[0m\u001b[1;33m)\u001b[0m\u001b[1;33m\u001b[0m\u001b[1;33m\u001b[0m\u001b[0m\n\u001b[0m\u001b[0;32m    410\u001b[0m         \u001b[0mself\u001b[0m\u001b[1;33m.\u001b[0m\u001b[0msigPlotChanged\u001b[0m\u001b[1;33m.\u001b[0m\u001b[0memit\u001b[0m\u001b[1;33m(\u001b[0m\u001b[0mself\u001b[0m\u001b[1;33m)\u001b[0m\u001b[1;33m\u001b[0m\u001b[1;33m\u001b[0m\u001b[0m\n\u001b[0;32m    411\u001b[0m \u001b[1;33m\u001b[0m\u001b[0m\n",
      "\u001b[1;32m~\\Anaconda3\\lib\\site-packages\\pyqtgraph\\graphicsItems\\ScatterPlotItem.py\u001b[0m in \u001b[0;36mupdateSpots\u001b[1;34m(self, dataSet)\u001b[0m\n\u001b[0;32m    560\u001b[0m                 \u001b[0mdataSet\u001b[0m\u001b[1;33m[\u001b[0m\u001b[1;34m'sourceRect'\u001b[0m\u001b[1;33m]\u001b[0m\u001b[1;33m[\u001b[0m\u001b[0mmask\u001b[0m\u001b[1;33m]\u001b[0m \u001b[1;33m=\u001b[0m \u001b[0msourceRect\u001b[0m\u001b[1;33m\u001b[0m\u001b[1;33m\u001b[0m\u001b[0m\n\u001b[0;32m    561\u001b[0m \u001b[1;33m\u001b[0m\u001b[0m\n\u001b[1;32m--> 562\u001b[1;33m             \u001b[0mself\u001b[0m\u001b[1;33m.\u001b[0m\u001b[0mfragmentAtlas\u001b[0m\u001b[1;33m.\u001b[0m\u001b[0mgetAtlas\u001b[0m\u001b[1;33m(\u001b[0m\u001b[1;33m)\u001b[0m \u001b[1;31m# generate atlas so source widths are available.\u001b[0m\u001b[1;33m\u001b[0m\u001b[1;33m\u001b[0m\u001b[0m\n\u001b[0m\u001b[0;32m    563\u001b[0m \u001b[1;33m\u001b[0m\u001b[0m\n\u001b[0;32m    564\u001b[0m             \u001b[0mdataSet\u001b[0m\u001b[1;33m[\u001b[0m\u001b[1;34m'width'\u001b[0m\u001b[1;33m]\u001b[0m \u001b[1;33m=\u001b[0m \u001b[0mnp\u001b[0m\u001b[1;33m.\u001b[0m\u001b[0marray\u001b[0m\u001b[1;33m(\u001b[0m\u001b[0mlist\u001b[0m\u001b[1;33m(\u001b[0m\u001b[0mimap\u001b[0m\u001b[1;33m(\u001b[0m\u001b[0mQtCore\u001b[0m\u001b[1;33m.\u001b[0m\u001b[0mQRectF\u001b[0m\u001b[1;33m.\u001b[0m\u001b[0mwidth\u001b[0m\u001b[1;33m,\u001b[0m \u001b[0mdataSet\u001b[0m\u001b[1;33m[\u001b[0m\u001b[1;34m'sourceRect'\u001b[0m\u001b[1;33m]\u001b[0m\u001b[1;33m)\u001b[0m\u001b[1;33m)\u001b[0m\u001b[1;33m)\u001b[0m\u001b[1;33m/\u001b[0m\u001b[1;36m2\u001b[0m\u001b[1;33m\u001b[0m\u001b[1;33m\u001b[0m\u001b[0m\n",
      "\u001b[1;32m~\\Anaconda3\\lib\\site-packages\\pyqtgraph\\graphicsItems\\ScatterPlotItem.py\u001b[0m in \u001b[0;36mgetAtlas\u001b[1;34m(self)\u001b[0m\n\u001b[0;32m    202\u001b[0m     \u001b[1;32mdef\u001b[0m \u001b[0mgetAtlas\u001b[0m\u001b[1;33m(\u001b[0m\u001b[0mself\u001b[0m\u001b[1;33m)\u001b[0m\u001b[1;33m:\u001b[0m\u001b[1;33m\u001b[0m\u001b[1;33m\u001b[0m\u001b[0m\n\u001b[0;32m    203\u001b[0m         \u001b[1;32mif\u001b[0m \u001b[1;32mnot\u001b[0m \u001b[0mself\u001b[0m\u001b[1;33m.\u001b[0m\u001b[0matlasValid\u001b[0m\u001b[1;33m:\u001b[0m\u001b[1;33m\u001b[0m\u001b[1;33m\u001b[0m\u001b[0m\n\u001b[1;32m--> 204\u001b[1;33m             \u001b[0mself\u001b[0m\u001b[1;33m.\u001b[0m\u001b[0mbuildAtlas\u001b[0m\u001b[1;33m(\u001b[0m\u001b[1;33m)\u001b[0m\u001b[1;33m\u001b[0m\u001b[1;33m\u001b[0m\u001b[0m\n\u001b[0m\u001b[0;32m    205\u001b[0m         \u001b[1;32mif\u001b[0m \u001b[0mself\u001b[0m\u001b[1;33m.\u001b[0m\u001b[0matlas\u001b[0m \u001b[1;32mis\u001b[0m \u001b[1;32mNone\u001b[0m\u001b[1;33m:\u001b[0m\u001b[1;33m\u001b[0m\u001b[1;33m\u001b[0m\u001b[0m\n\u001b[0;32m    206\u001b[0m             \u001b[1;32mif\u001b[0m \u001b[0mlen\u001b[0m\u001b[1;33m(\u001b[0m\u001b[0mself\u001b[0m\u001b[1;33m.\u001b[0m\u001b[0matlasData\u001b[0m\u001b[1;33m)\u001b[0m \u001b[1;33m==\u001b[0m \u001b[1;36m0\u001b[0m\u001b[1;33m:\u001b[0m\u001b[1;33m\u001b[0m\u001b[1;33m\u001b[0m\u001b[0m\n",
      "\u001b[1;32m~\\Anaconda3\\lib\\site-packages\\pyqtgraph\\graphicsItems\\ScatterPlotItem.py\u001b[0m in \u001b[0;36mbuildAtlas\u001b[1;34m(self)\u001b[0m\n\u001b[0;32m    152\u001b[0m         \u001b[1;32mfor\u001b[0m \u001b[0mkey\u001b[0m\u001b[1;33m,\u001b[0m \u001b[0msourceRect\u001b[0m \u001b[1;32min\u001b[0m \u001b[0mself\u001b[0m\u001b[1;33m.\u001b[0m\u001b[0msymbolMap\u001b[0m\u001b[1;33m.\u001b[0m\u001b[0mitems\u001b[0m\u001b[1;33m(\u001b[0m\u001b[1;33m)\u001b[0m\u001b[1;33m:\u001b[0m\u001b[1;33m\u001b[0m\u001b[1;33m\u001b[0m\u001b[0m\n\u001b[0;32m    153\u001b[0m             \u001b[1;32mif\u001b[0m \u001b[0msourceRect\u001b[0m\u001b[1;33m.\u001b[0m\u001b[0mwidth\u001b[0m\u001b[1;33m(\u001b[0m\u001b[1;33m)\u001b[0m \u001b[1;33m==\u001b[0m \u001b[1;36m0\u001b[0m\u001b[1;33m:\u001b[0m\u001b[1;33m\u001b[0m\u001b[1;33m\u001b[0m\u001b[0m\n\u001b[1;32m--> 154\u001b[1;33m                 \u001b[0mimg\u001b[0m \u001b[1;33m=\u001b[0m \u001b[0mrenderSymbol\u001b[0m\u001b[1;33m(\u001b[0m\u001b[0mkey\u001b[0m\u001b[1;33m[\u001b[0m\u001b[1;36m0\u001b[0m\u001b[1;33m]\u001b[0m\u001b[1;33m,\u001b[0m \u001b[0mkey\u001b[0m\u001b[1;33m[\u001b[0m\u001b[1;36m1\u001b[0m\u001b[1;33m]\u001b[0m\u001b[1;33m,\u001b[0m \u001b[0msourceRect\u001b[0m\u001b[1;33m.\u001b[0m\u001b[0mpen\u001b[0m\u001b[1;33m,\u001b[0m \u001b[0msourceRect\u001b[0m\u001b[1;33m.\u001b[0m\u001b[0mbrush\u001b[0m\u001b[1;33m)\u001b[0m\u001b[1;33m\u001b[0m\u001b[1;33m\u001b[0m\u001b[0m\n\u001b[0m\u001b[0;32m    155\u001b[0m                 \u001b[0mimages\u001b[0m\u001b[1;33m.\u001b[0m\u001b[0mappend\u001b[0m\u001b[1;33m(\u001b[0m\u001b[0mimg\u001b[0m\u001b[1;33m)\u001b[0m  \u001b[1;31m## we only need this to prevent the images being garbage collected immediately\u001b[0m\u001b[1;33m\u001b[0m\u001b[1;33m\u001b[0m\u001b[0m\n\u001b[0;32m    156\u001b[0m                 \u001b[0marr\u001b[0m \u001b[1;33m=\u001b[0m \u001b[0mfn\u001b[0m\u001b[1;33m.\u001b[0m\u001b[0mimageToArray\u001b[0m\u001b[1;33m(\u001b[0m\u001b[0mimg\u001b[0m\u001b[1;33m,\u001b[0m \u001b[0mcopy\u001b[0m\u001b[1;33m=\u001b[0m\u001b[1;32mFalse\u001b[0m\u001b[1;33m,\u001b[0m \u001b[0mtranspose\u001b[0m\u001b[1;33m=\u001b[0m\u001b[1;32mFalse\u001b[0m\u001b[1;33m)\u001b[0m\u001b[1;33m\u001b[0m\u001b[1;33m\u001b[0m\u001b[0m\n",
      "\u001b[1;32m~\\Anaconda3\\lib\\site-packages\\pyqtgraph\\graphicsItems\\ScatterPlotItem.py\u001b[0m in \u001b[0;36mrenderSymbol\u001b[1;34m(symbol, size, pen, brush, device)\u001b[0m\n\u001b[0;32m     83\u001b[0m         \u001b[0mp\u001b[0m\u001b[1;33m.\u001b[0m\u001b[0msetRenderHint\u001b[0m\u001b[1;33m(\u001b[0m\u001b[0mp\u001b[0m\u001b[1;33m.\u001b[0m\u001b[0mAntialiasing\u001b[0m\u001b[1;33m)\u001b[0m\u001b[1;33m\u001b[0m\u001b[1;33m\u001b[0m\u001b[0m\n\u001b[0;32m     84\u001b[0m         \u001b[0mp\u001b[0m\u001b[1;33m.\u001b[0m\u001b[0mtranslate\u001b[0m\u001b[1;33m(\u001b[0m\u001b[0mdevice\u001b[0m\u001b[1;33m.\u001b[0m\u001b[0mwidth\u001b[0m\u001b[1;33m(\u001b[0m\u001b[1;33m)\u001b[0m\u001b[1;33m*\u001b[0m\u001b[1;36m0.5\u001b[0m\u001b[1;33m,\u001b[0m \u001b[0mdevice\u001b[0m\u001b[1;33m.\u001b[0m\u001b[0mheight\u001b[0m\u001b[1;33m(\u001b[0m\u001b[1;33m)\u001b[0m\u001b[1;33m*\u001b[0m\u001b[1;36m0.5\u001b[0m\u001b[1;33m)\u001b[0m\u001b[1;33m\u001b[0m\u001b[1;33m\u001b[0m\u001b[0m\n\u001b[1;32m---> 85\u001b[1;33m         \u001b[0mdrawSymbol\u001b[0m\u001b[1;33m(\u001b[0m\u001b[0mp\u001b[0m\u001b[1;33m,\u001b[0m \u001b[0msymbol\u001b[0m\u001b[1;33m,\u001b[0m \u001b[0msize\u001b[0m\u001b[1;33m,\u001b[0m \u001b[0mpen\u001b[0m\u001b[1;33m,\u001b[0m \u001b[0mbrush\u001b[0m\u001b[1;33m)\u001b[0m\u001b[1;33m\u001b[0m\u001b[1;33m\u001b[0m\u001b[0m\n\u001b[0m\u001b[0;32m     86\u001b[0m     \u001b[1;32mfinally\u001b[0m\u001b[1;33m:\u001b[0m\u001b[1;33m\u001b[0m\u001b[1;33m\u001b[0m\u001b[0m\n\u001b[0;32m     87\u001b[0m         \u001b[0mp\u001b[0m\u001b[1;33m.\u001b[0m\u001b[0mend\u001b[0m\u001b[1;33m(\u001b[0m\u001b[1;33m)\u001b[0m\u001b[1;33m\u001b[0m\u001b[1;33m\u001b[0m\u001b[0m\n",
      "\u001b[1;32m~\\Anaconda3\\lib\\site-packages\\pyqtgraph\\graphicsItems\\ScatterPlotItem.py\u001b[0m in \u001b[0;36mdrawSymbol\u001b[1;34m(painter, symbol, size, pen, brush)\u001b[0m\n\u001b[0;32m     60\u001b[0m     \u001b[0mpainter\u001b[0m\u001b[1;33m.\u001b[0m\u001b[0msetBrush\u001b[0m\u001b[1;33m(\u001b[0m\u001b[0mbrush\u001b[0m\u001b[1;33m)\u001b[0m\u001b[1;33m\u001b[0m\u001b[1;33m\u001b[0m\u001b[0m\n\u001b[0;32m     61\u001b[0m     \u001b[1;32mif\u001b[0m \u001b[0misinstance\u001b[0m\u001b[1;33m(\u001b[0m\u001b[0msymbol\u001b[0m\u001b[1;33m,\u001b[0m \u001b[0mbasestring\u001b[0m\u001b[1;33m)\u001b[0m\u001b[1;33m:\u001b[0m\u001b[1;33m\u001b[0m\u001b[1;33m\u001b[0m\u001b[0m\n\u001b[1;32m---> 62\u001b[1;33m         \u001b[0msymbol\u001b[0m \u001b[1;33m=\u001b[0m \u001b[0mSymbols\u001b[0m\u001b[1;33m[\u001b[0m\u001b[0msymbol\u001b[0m\u001b[1;33m]\u001b[0m\u001b[1;33m\u001b[0m\u001b[1;33m\u001b[0m\u001b[0m\n\u001b[0m\u001b[0;32m     63\u001b[0m     \u001b[1;32mif\u001b[0m \u001b[0mnp\u001b[0m\u001b[1;33m.\u001b[0m\u001b[0misscalar\u001b[0m\u001b[1;33m(\u001b[0m\u001b[0msymbol\u001b[0m\u001b[1;33m)\u001b[0m\u001b[1;33m:\u001b[0m\u001b[1;33m\u001b[0m\u001b[1;33m\u001b[0m\u001b[0m\n\u001b[0;32m     64\u001b[0m         \u001b[0msymbol\u001b[0m \u001b[1;33m=\u001b[0m \u001b[0mlist\u001b[0m\u001b[1;33m(\u001b[0m\u001b[0mSymbols\u001b[0m\u001b[1;33m.\u001b[0m\u001b[0mvalues\u001b[0m\u001b[1;33m(\u001b[0m\u001b[1;33m)\u001b[0m\u001b[1;33m)\u001b[0m\u001b[1;33m[\u001b[0m\u001b[0msymbol\u001b[0m \u001b[1;33m%\u001b[0m \u001b[0mlen\u001b[0m\u001b[1;33m(\u001b[0m\u001b[0mSymbols\u001b[0m\u001b[1;33m)\u001b[0m\u001b[1;33m]\u001b[0m\u001b[1;33m\u001b[0m\u001b[1;33m\u001b[0m\u001b[0m\n",
      "\u001b[1;31mKeyError\u001b[0m: '0'"
     ]
    },
    {
     "name": "stdout",
     "output_type": "stream",
     "text": [
      "[09:44:03]  Ignored exception:\n",
      "\n",
      "    |==============================>>\n",
      "    |  Traceback (most recent call last):\n",
      "    |    File \"C:\\Users\\hasna\\Anaconda3\\lib\\runpy.py\", line 193, in _run_module_as_main\n",
      "    |      \"__main__\", mod_spec)\n",
      "    |    File \"C:\\Users\\hasna\\Anaconda3\\lib\\runpy.py\", line 85, in _run_code\n",
      "    |      exec(code, run_globals)\n",
      "    |    File \"C:\\Users\\hasna\\Anaconda3\\lib\\site-packages\\ipykernel_launcher.py\", line 16, in <module>\n",
      "    |      app.launch_new_instance()\n",
      "    |    File \"C:\\Users\\hasna\\Anaconda3\\lib\\site-packages\\traitlets\\config\\application.py\", line 658, in launch_instance\n",
      "    |      app.start()\n",
      "    |    File \"C:\\Users\\hasna\\Anaconda3\\lib\\site-packages\\ipykernel\\kernelapp.py\", line 505, in start\n",
      "    |      self.io_loop.start()\n",
      "    |    File \"C:\\Users\\hasna\\Anaconda3\\lib\\site-packages\\tornado\\platform\\asyncio.py\", line 148, in start\n",
      "    |      self.asyncio_loop.run_forever()\n",
      "    |    File \"C:\\Users\\hasna\\Anaconda3\\lib\\asyncio\\base_events.py\", line 528, in run_forever\n",
      "    |      self._run_once()\n",
      "    |    File \"C:\\Users\\hasna\\Anaconda3\\lib\\asyncio\\base_events.py\", line 1764, in _run_once\n",
      "    |      handle._run()\n",
      "    |    File \"C:\\Users\\hasna\\Anaconda3\\lib\\asyncio\\events.py\", line 88, in _run\n",
      "    |      self._context.run(self._callback, *self._args)\n",
      "    |    File \"C:\\Users\\hasna\\Anaconda3\\lib\\site-packages\\tornado\\ioloop.py\", line 743, in _run_callback\n",
      "    |      ret = callback()\n",
      "    |    File \"C:\\Users\\hasna\\Anaconda3\\lib\\site-packages\\ipykernel\\kernelbase.py\", line 314, in advance_eventloop\n",
      "    |      eventloop(self)\n",
      "    |    File \"C:\\Users\\hasna\\Anaconda3\\lib\\site-packages\\ipykernel\\eventloops.py\", line 129, in loop_qt5\n",
      "    |      return loop_qt4(kernel)\n",
      "    |    File \"C:\\Users\\hasna\\Anaconda3\\lib\\site-packages\\ipykernel\\eventloops.py\", line 122, in loop_qt4\n",
      "    |      _loop_qt(kernel.app)\n",
      "    |    File \"C:\\Users\\hasna\\Anaconda3\\lib\\site-packages\\ipykernel\\eventloops.py\", line 106, in _loop_qt\n",
      "    |      app.exec_()\n",
      "    |    File \"C:\\Users\\hasna\\Anaconda3\\lib\\site-packages\\pyqtgraph\\widgets\\GraphicsView.py\", line 154, in paintEvent\n",
      "    |      return QtGui.QGraphicsView.paintEvent(self, ev)\n",
      "    |    File \"C:\\Users\\hasna\\Anaconda3\\lib\\site-packages\\pyqtgraph\\debug.py\", line 93, in w\n",
      "    |      printExc('Ignored exception:')\n",
      "    |    --- exception caught here ---\n",
      "    |    File \"C:\\Users\\hasna\\Anaconda3\\lib\\site-packages\\pyqtgraph\\debug.py\", line 91, in w\n",
      "    |      func(*args, **kwds)\n",
      "    |    File \"C:\\Users\\hasna\\Anaconda3\\lib\\site-packages\\pyqtgraph\\graphicsItems\\ScatterPlotItem.py\", line 760, in paint\n",
      "    |      atlas = self.fragmentAtlas.getAtlas()\n",
      "    |    File \"C:\\Users\\hasna\\Anaconda3\\lib\\site-packages\\pyqtgraph\\graphicsItems\\ScatterPlotItem.py\", line 204, in getAtlas\n",
      "    |      self.buildAtlas()\n",
      "    |    File \"C:\\Users\\hasna\\Anaconda3\\lib\\site-packages\\pyqtgraph\\graphicsItems\\ScatterPlotItem.py\", line 154, in buildAtlas\n",
      "    |      img = renderSymbol(key[0], key[1], sourceRect.pen, sourceRect.brush)\n",
      "    |    File \"C:\\Users\\hasna\\Anaconda3\\lib\\site-packages\\pyqtgraph\\graphicsItems\\ScatterPlotItem.py\", line 85, in renderSymbol\n",
      "    |      drawSymbol(p, symbol, size, pen, brush)\n",
      "    |    File \"C:\\Users\\hasna\\Anaconda3\\lib\\site-packages\\pyqtgraph\\graphicsItems\\ScatterPlotItem.py\", line 62, in drawSymbol\n",
      "    |      symbol = Symbols[symbol]\n",
      "    |  KeyError: '0'\n",
      "    |==============================<<\n"
     ]
    }
   ],
   "source": [
    "filePath = 'CentroidData.csv'\n",
    "\n",
    "centroidFrames = readMeasurements(filePath)\n",
    "\n",
    "#remove all information within the file\n",
    "# open(filePath, \"w\").close()\n",
    "\n",
    "#plot information\n",
    "for frame in centroidFrames:\n",
    "    #plot all required information\n",
    "    if np.equal(frame.values, np.array([[0,0,0]])).all():\n",
    "        continue\n",
    "        \n",
    "    posXOG = np.multiply(frame['Range'], np.cos(frame['Theta']))\n",
    "    posYOG = np.multiply(frame['Range'], np.sin(frame['Theta']))\n",
    "    s2.setData(posXOG.values,posYOG.values)\n",
    "    \n",
    "    #slice out all incorrect frames\n",
    "    #if 1 < R < 6 and 50 < Theta < 130 (in degrees)\n",
    "    frame = frame[np.less(frame['Range'],5.5).values]\n",
    "    frame = frame[np.greater(frame['Range'],1).values]\n",
    "    frame = frame[np.greater(frame['Theta'], \n",
    "                             np.multiply(np.pi,\n",
    "                                         np.divide(40, 180))).values]\n",
    "    frame = frame[np.less(frame['Theta'], \n",
    "                         np.multiply(np.pi,\n",
    "                                     np.divide(140, 180))).values]\n",
    "    #find x and y positions and occupancy number\n",
    "    posX = np.multiply(frame['Range'], np.cos(frame['Theta']))\n",
    "    posY = np.multiply(frame['Range'], np.sin(frame['Theta']))\n",
    "    numberOfTargets = len(posX)\n",
    "    \n",
    "    s1.setData(posX.values, posY.values)\n",
    "    message = \"Occupancy Estimate: \" + str(numberOfTargets)\n",
    "    win.removeItem(occupancyEstimate)\n",
    "    occupancyEstimate = win.addLabel(text=message)\n",
    "    QtGui.QApplication.processEvents() \n",
    "    time.sleep(0.1)\n",
    "    \n",
    "#     enter = input()\n",
    "#     if enter == 'q':\n",
    "#         break\n",
    "    \n",
    "\n",
    "    "
   ]
  },
  {
   "cell_type": "markdown",
   "metadata": {},
   "source": [
    "### Notes\n",
    "<ul> \n",
    "    <li> If a person leaves and another comes will it match ? </li>\n",
    "</ul>"
   ]
  },
  {
   "cell_type": "code",
   "execution_count": 50,
   "metadata": {},
   "outputs": [
    {
     "data": {
      "text/plain": [
       "(array([1.86217896]), array([4.72032793]))"
      ]
     },
     "execution_count": 50,
     "metadata": {},
     "output_type": "execute_result"
    }
   ],
   "source": [
    "posXOG.values,posYOG.values"
   ]
  },
  {
   "cell_type": "code",
   "execution_count": null,
   "metadata": {},
   "outputs": [],
   "source": []
  }
 ],
 "metadata": {
  "kernelspec": {
   "display_name": "Python 3",
   "language": "python",
   "name": "python3"
  },
  "language_info": {
   "codemirror_mode": {
    "name": "ipython",
    "version": 3
   },
   "file_extension": ".py",
   "mimetype": "text/x-python",
   "name": "python",
   "nbconvert_exporter": "python",
   "pygments_lexer": "ipython3",
   "version": "3.7.1"
  }
 },
 "nbformat": 4,
 "nbformat_minor": 2
}
