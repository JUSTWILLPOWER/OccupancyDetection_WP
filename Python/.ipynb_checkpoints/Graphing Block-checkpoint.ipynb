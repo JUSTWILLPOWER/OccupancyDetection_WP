{
 "cells": [
  {
   "cell_type": "code",
   "execution_count": 2,
   "metadata": {},
   "outputs": [],
   "source": [
    "import time\n",
    "import numpy as np\n",
    "import pandas as pd\n",
    "\n",
    "#pyqtgraph -> fast plotting\n",
    "import pyqtgraph as pg\n",
    "from pyqtgraph.Qt import QtCore, QtGui\n",
    "%gui qt5\n",
    "\n",
    "import signal\n",
    "signal.signal(signal.SIGINT, signal.SIG_DFL)\n",
    "\n",
    "import sys\n",
    "from PyQt5.QtCore import QCoreApplication\n",
    "import signal\n",
    "signal.signal(signal.SIGINT, signal.SIG_DFL)\n",
    "\n",
    "import sys\n",
    "from PyQt5.QtCore import QCoreApplication\n",
    "\n",
    "import time"
   ]
  },
  {
   "cell_type": "markdown",
   "metadata": {},
   "source": [
    "### Read and plot "
   ]
  },
  {
   "cell_type": "code",
   "execution_count": 3,
   "metadata": {},
   "outputs": [],
   "source": [
    "#set up plottig GUI\n",
    "app = QtGui.QApplication([])\n",
    "pg.setConfigOption('background','w')   "
   ]
  },
  {
   "cell_type": "code",
   "execution_count": 5,
   "metadata": {},
   "outputs": [],
   "source": [
    "win = pg.GraphicsWindow(title=\"Occupancy Detection GUI\")\n",
    "plot1 = win.addPlot()\n",
    "plot1.setXRange(-6,6)\n",
    "plot1.setYRange(0,6)\n",
    "plot1.setLabel('left',text = 'Y position (m)')\n",
    "plot1.setLabel('bottom', text= 'X position (m)')\n",
    "s1 = plot1.plot([],[],pen=None,symbol='x')\n",
    "#use HTML tags to specify colour and size\n",
    "# box = win.addViewBox()\n",
    "# occupancyEstimate = pg.TextItem(text=\"Occupancy Estimate: 0\", color=(255,255,255), \n",
    "#                                 anchor=(0.5,0.5), border='w', fill=(0, 0, 255, 100))\n",
    "# box.addItem(occupancyEstimate)\n",
    "\n",
    "occupancyEstimate = win.addLabel(text=\"Occupancy Estimate: 0\")"
   ]
  },
  {
   "cell_type": "code",
   "execution_count": 6,
   "metadata": {},
   "outputs": [],
   "source": [
    "def readMeasurements(file):\n",
    "    #read in measurements from csv\n",
    "    rawCentroidData = pd.read_csv(file, header=None)\n",
    "    #find headers and frames within headers\n",
    "    #each header has the structure X, Y, CentroidNumber\n",
    "    #below each header is the frame data\n",
    "    centroidFrames = list()\n",
    "    headerFound = False\n",
    "    for rowIndex in range(0, rawCentroidData.shape[0]):\n",
    "        row = rawCentroidData.loc[rowIndex]\n",
    "        if row[0] == 'FilteredRange': #header has been found\n",
    "            if headerFound: \n",
    "                #actual data was found last frame and this frame actual data is found again\n",
    "                #past frame ended so add to list\n",
    "                centroidFrames.append(frame)\n",
    "                frame = pd.DataFrame([])\n",
    "            else:\n",
    "                #header found\n",
    "                headerFound = True\n",
    "                frame = pd.DataFrame([])\n",
    "            #data should be following\n",
    "        elif headerFound:\n",
    "            #actual data\n",
    "            radius = np.float(row[0])\n",
    "            theta = np.float(row[2])\n",
    "            centroidNumber = int(row[4])\n",
    "            if len(frame) == 0:\n",
    "                frame = pd.DataFrame({'Range':radius, 'Theta':theta, 'CentroidNumber':centroidNumber}, index=range(1))\n",
    "            else:\n",
    "                data = pd.DataFrame({'Range':radius, 'Theta':theta, 'CentroidNumber':centroidNumber}, index=range(centroidNumber,centroidNumber+1))\n",
    "                frame = pd.concat([frame,data])\n",
    "    \n",
    "    return centroidFrames"
   ]
  },
  {
   "cell_type": "code",
   "execution_count": 9,
   "metadata": {},
   "outputs": [
    {
     "ename": "KeyboardInterrupt",
     "evalue": "",
     "output_type": "error",
     "traceback": [
      "\u001b[1;31m---------------------------------------------------------------------------\u001b[0m",
      "\u001b[1;31mKeyboardInterrupt\u001b[0m                         Traceback (most recent call last)",
      "\u001b[1;32m<ipython-input-9-1d1b80fb25e6>\u001b[0m in \u001b[0;36m<module>\u001b[1;34m\u001b[0m\n\u001b[0;32m     21\u001b[0m     \u001b[0moccupancyEstimate\u001b[0m \u001b[1;33m=\u001b[0m \u001b[0mwin\u001b[0m\u001b[1;33m.\u001b[0m\u001b[0maddLabel\u001b[0m\u001b[1;33m(\u001b[0m\u001b[0mtext\u001b[0m\u001b[1;33m=\u001b[0m\u001b[0mmessage\u001b[0m\u001b[1;33m)\u001b[0m\u001b[1;33m\u001b[0m\u001b[1;33m\u001b[0m\u001b[0m\n\u001b[0;32m     22\u001b[0m     \u001b[0mQtGui\u001b[0m\u001b[1;33m.\u001b[0m\u001b[0mQApplication\u001b[0m\u001b[1;33m.\u001b[0m\u001b[0mprocessEvents\u001b[0m\u001b[1;33m(\u001b[0m\u001b[1;33m)\u001b[0m\u001b[1;33m\u001b[0m\u001b[1;33m\u001b[0m\u001b[0m\n\u001b[1;32m---> 23\u001b[1;33m     \u001b[0mtime\u001b[0m\u001b[1;33m.\u001b[0m\u001b[0msleep\u001b[0m\u001b[1;33m(\u001b[0m\u001b[1;36m0.1\u001b[0m\u001b[1;33m)\u001b[0m\u001b[1;33m\u001b[0m\u001b[1;33m\u001b[0m\u001b[0m\n\u001b[0m\u001b[0;32m     24\u001b[0m \u001b[1;33m\u001b[0m\u001b[0m\n\u001b[0;32m     25\u001b[0m \u001b[1;33m\u001b[0m\u001b[0m\n",
      "\u001b[1;31mKeyboardInterrupt\u001b[0m: "
     ]
    }
   ],
   "source": [
    "filePath = 'CentroidData.csv'\n",
    "\n",
    "centroidFrames = readMeasurements(filePath)\n",
    "\n",
    "#remove all information within the file\n",
    "# open(filePath, \"w\").close()\n",
    "\n",
    "#plot information\n",
    "for frame in centroidFrames:\n",
    "    #plot all required information\n",
    "    if np.equal(frame.values, np.array([[0,0,0]])).all():\n",
    "        continue\n",
    "    #find x and y positions and occupancy number\n",
    "    posX = np.multiply(frame['Range'], np.cos(frame['Theta']))\n",
    "    posY = np.multiply(frame['Range'], np.sin(frame['Theta']))\n",
    "    numberOfTargets = np.max(frame['CentroidNumber']) + 1\n",
    "    \n",
    "    s1.setData(posX, posY)\n",
    "    message = \"Occupancy Estimate: \" + str(numberOfTargets)\n",
    "    win.removeItem(occupancyEstimate)\n",
    "    occupancyEstimate = win.addLabel(text=message)\n",
    "    QtGui.QApplication.processEvents() \n",
    "    time.sleep(0.1)\n",
    "    \n",
    "\n",
    "    "
   ]
  },
  {
   "cell_type": "code",
   "execution_count": null,
   "metadata": {},
   "outputs": [],
   "source": []
  }
 ],
 "metadata": {
  "kernelspec": {
   "display_name": "Python 3",
   "language": "python",
   "name": "python3"
  },
  "language_info": {
   "codemirror_mode": {
    "name": "ipython",
    "version": 3
   },
   "file_extension": ".py",
   "mimetype": "text/x-python",
   "name": "python",
   "nbconvert_exporter": "python",
   "pygments_lexer": "ipython3",
   "version": "3.7.1"
  }
 },
 "nbformat": 4,
 "nbformat_minor": 2
}
