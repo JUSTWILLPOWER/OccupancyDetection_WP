{
 "cells": [
  {
   "cell_type": "code",
   "execution_count": 15,
   "metadata": {},
   "outputs": [],
   "source": [
    "import serial\n",
    "import time\n",
    "import numpy as np\n",
    "\n",
    "#pyqtgraph -> fast plotting\n",
    "import pyqtgraph as pg\n",
    "from pyqtgraph.Qt import QtGui\n",
    "%gui qt\n",
    "\n",
    "import copy\n",
    "from scipy.io import loadmat"
   ]
  },
  {
   "cell_type": "code",
   "execution_count": 16,
   "metadata": {},
   "outputs": [],
   "source": [
    "#load relevant header data\n",
    "rawHeaderData = (loadmat('C:\\\\Users\\\\hasna\\\\Documents\\\\GitHub\\\\OccupancyDetection\\\\Data\\\\rawframeHeader.mat'))['rawframeHeader'][0]"
   ]
  },
  {
   "cell_type": "code",
   "execution_count": 17,
   "metadata": {},
   "outputs": [],
   "source": [
    "#preprocessing\n",
    "headerStream = np.array([])\n",
    "for number in rawHeaderData[0]:\n",
    "    headerStream = np.uint8(np.append(headerStream,number[0]))"
   ]
  },
  {
   "cell_type": "code",
   "execution_count": 18,
   "metadata": {},
   "outputs": [],
   "source": [
    "def readHeader(recieveHeader):\n",
    "    headerContent = dict()\n",
    "    index = 0\n",
    "    \n",
    "    headerContent['magicBytes'] = recieveHeader[index:index+8]\n",
    "    index += 20\n",
    "    \n",
    "    headerContent['packetLength'] = recieveHeader[index:index+4].view(dtype=np.uint32)\n",
    "    index += 4\n",
    "        \n",
    "    headerContent['frameNumber'] = recieveHeader[index:index+4].view(dtype=np.uint32)\n",
    "    index += 24\n",
    "    \n",
    "    headerContent['numTLVs'] = recieveHeader[index:index+2].view(dtype=np.uint16)\n",
    "    \n",
    "    return headerContent"
   ]
  },
  {
   "cell_type": "code",
   "execution_count": 35,
   "metadata": {},
   "outputs": [],
   "source": [
    "#initialise variables\n",
    "lostSync = False\n",
    "\n",
    "#valid header variables and constant\n",
    "magicBytes = np.array([2,1,4,3,6,5,8,7], dtype= 'uint8')\n",
    "\n",
    "isMagicOk = False\n",
    "isDataOk = False\n",
    "gotHeader = False\n",
    "\n",
    "frameHeaderLength = 52 #52 bytes long\n",
    "tlvHeaderLengthInBytes = 8\n",
    "pointLengthInBytes = 16\n",
    "frameNumber = 1\n",
    "targetFrameNumber = 0\n",
    "\n"
   ]
  },
  {
   "cell_type": "code",
   "execution_count": 19,
   "metadata": {},
   "outputs": [],
   "source": [
    "header = readHeader(headerStream)"
   ]
  },
  {
   "cell_type": "code",
   "execution_count": 20,
   "metadata": {},
   "outputs": [
    {
     "data": {
      "text/plain": [
       "{'magicBytes': array([2, 1, 4, 3, 6, 5, 8, 7], dtype=uint8),\n",
       " 'packetLength': array([1146], dtype=uint32),\n",
       " 'frameNumber': array([11758], dtype=uint32),\n",
       " 'numTLVs': array([3], dtype=uint16)}"
      ]
     },
     "execution_count": 20,
     "metadata": {},
     "output_type": "execute_result"
    }
   ],
   "source": [
    "header"
   ]
  },
  {
   "cell_type": "code",
   "execution_count": 37,
   "metadata": {},
   "outputs": [],
   "source": [
    "dataLength = int(header['packetLength'] - frameHeaderLength)"
   ]
  },
  {
   "cell_type": "code",
   "execution_count": 22,
   "metadata": {},
   "outputs": [],
   "source": [
    "tlvData = (loadmat('C:\\\\Users\\\\hasna\\\\Documents\\\\GitHub\\\\OccupancyDetection\\\\Data\\\\tlvData.mat'))['tlvData'][0][0]"
   ]
  },
  {
   "cell_type": "code",
   "execution_count": 50,
   "metadata": {},
   "outputs": [],
   "source": [
    "tlvStream = np.frombuffer(tlvData, dtype = 'uint8')"
   ]
  },
  {
   "cell_type": "code",
   "execution_count": 51,
   "metadata": {},
   "outputs": [],
   "source": [
    "#tlv header\n",
    "index = 0\n",
    "#tlv header parsing\n",
    "tlvType = tlvStream[index:index+4].view(dtype=np.uint32)\n",
    "tlvLength = tlvStream[index+4:index+8].view(dtype=np.uint32)"
   ]
  },
  {
   "cell_type": "code",
   "execution_count": 52,
   "metadata": {},
   "outputs": [
    {
     "name": "stdout",
     "output_type": "stream",
     "text": [
      "[6]\n",
      "[888]\n"
     ]
    }
   ],
   "source": [
    "print(tlvType)\n",
    "print(tlvLength)"
   ]
  },
  {
   "cell_type": "code",
   "execution_count": 53,
   "metadata": {},
   "outputs": [],
   "source": [
    "index += tlvHeaderLengthInBytes\n",
    "tlvDataLength = tlvLength - tlvHeaderLengthInBytes"
   ]
  },
  {
   "cell_type": "code",
   "execution_count": 63,
   "metadata": {},
   "outputs": [],
   "source": [
    "if tlvType == 6: \n",
    "     numberOfPoints = tlvDataLength/pointLengthInBytes\n",
    "     p = tlvStream[index:index+tlvDataLength[0]].view(np.single)\n",
    "     pointCloud = np.reshape(p,(int(numberOfPoints,4))"
   ]
  },
  {
   "cell_type": "code",
   "execution_count": 66,
   "metadata": {},
   "outputs": [
    {
     "data": {
      "text/plain": [
       "array([[ 2.3940358e+00, -9.1629785e-01,  2.4328822e-01,  8.5467892e+00,\n",
       "         4.0552034e+00,  8.8357294e-01,  4.8657644e-01,  3.3477047e+01,\n",
       "         4.0552034e+00,  8.5084802e-01,  2.4328822e-01,  3.6766281e+01,\n",
       "         2.3940358e+00,  3.2724923e-01,  4.0548038e-01,  8.4696760e+00,\n",
       "         2.4428937e+00,  3.2724923e-01,  8.1096075e-02,  7.9347820e+00,\n",
       "         3.0291882e+00,  3.2724923e-01,  1.6219215e-01,  5.4722390e+00,\n",
       "         2.2474623e+00,  2.9452431e-01,  3.2438430e-01,  3.5714615e+01,\n",
       "         2.2963202e+00,  2.9452431e-01,  8.1096075e-02,  3.2394382e+01,\n",
       "         2.3451781e+00,  2.9452431e-01,  4.0548038e-01,  1.0678525e+01,\n",
       "         2.3940358e+00,  2.9452431e-01,  4.0548038e-01,  8.8565559e+00,\n",
       "         2.4428937e+00,  2.9452431e-01,  4.0548038e-01,  1.1817623e+01,\n",
       "         2.1008887e+00,  2.6179940e-01,  3.2438430e-01,  2.8251852e+01,\n",
       "         2.1497464e+00,  2.6179940e-01,  3.2438430e-01,  1.7237572e+02,\n",
       "         2.2474623e+00,  2.6179940e-01,  3.2438430e-01],\n",
       "       [ 5.1775124e+01,  2.2963202e+00,  2.6179940e-01,  3.2438430e-01,\n",
       "         5.0054863e+01,  2.3451781e+00,  2.6179940e-01,  4.0548038e-01,\n",
       "         9.6694698e+00,  2.4428937e+00,  2.6179940e-01,  4.0548038e-01,\n",
       "         9.1268873e+00,  4.5437822e+00,  2.6179940e-01,  5.6767255e-01,\n",
       "         7.6723537e+00,  1.9054571e+00,  2.2907446e-01,  3.2438430e-01,\n",
       "         1.1628637e+01,  1.9543149e+00,  2.2907446e-01,  3.2438430e-01,\n",
       "         1.4869726e+01,  2.0031729e+00,  2.2907446e-01,  3.2438430e-01,\n",
       "         1.9186979e+01,  2.0520308e+00,  2.2907446e-01,  3.2438430e-01,\n",
       "         3.5738148e+01,  2.1008887e+00,  2.2907446e-01,  3.2438430e-01,\n",
       "         4.9063152e+01,  2.1497464e+00,  2.2907446e-01,  3.2438430e-01,\n",
       "         2.3587813e+02,  2.1986043e+00,  2.2907446e-01,  4.0548038e-01,\n",
       "         2.4582705e+01,  2.2474623e+00,  2.2907446e-01,  3.2438430e-01,\n",
       "         4.8673279e+01,  2.2963202e+00,  2.2907446e-01,  3.2438430e-01,\n",
       "         6.5817177e+01,  2.3451781e+00,  2.2907446e-01],\n",
       "       [ 3.2438430e-01,  6.6139693e+00,  4.5437822e+00,  2.2907446e-01,\n",
       "         5.6767255e-01,  6.7527347e+00,  1.9054571e+00,  1.9634955e-01,\n",
       "         3.2438430e-01,  1.5955587e+01,  1.9543149e+00,  1.9634955e-01,\n",
       "         3.2438430e-01,  2.3400631e+01,  2.0031729e+00,  1.9634955e-01,\n",
       "         3.2438430e-01,  3.2752380e+01,  2.0520308e+00,  1.9634955e-01,\n",
       "         3.2438430e-01,  6.8720985e+01,  2.1008887e+00,  1.9634955e-01,\n",
       "         3.2438430e-01,  5.9902321e+01,  2.1497464e+00,  1.9634955e-01,\n",
       "         3.2438430e-01,  1.8733673e+02,  2.1986043e+00,  1.9634955e-01,\n",
       "         4.0548038e-01,  3.4380383e+01,  2.2474623e+00,  1.9634955e-01,\n",
       "         4.0548038e-01,  2.0218000e+01,  2.2963202e+00,  1.9634955e-01,\n",
       "         3.2438430e-01,  2.8972351e+01,  1.9054571e+00,  1.6362461e-01,\n",
       "         3.2438430e-01,  1.0901380e+01,  1.9543149e+00,  1.6362461e-01,\n",
       "         3.2438430e-01,  1.5836707e+01,  2.0031729e+00,  1.6362461e-01,\n",
       "         3.2438430e-01,  2.7687267e+01,  2.0520308e+00],\n",
       "       [ 1.6362461e-01,  3.2438430e-01,  9.0699799e+01,  2.1008887e+00,\n",
       "         1.6362461e-01,  3.2438430e-01,  4.6708790e+01,  2.1497464e+00,\n",
       "         1.6362461e-01,  1.6219215e-01,  1.2753989e+02,  2.1986043e+00,\n",
       "         1.6362461e-01,  1.6219215e-01,  2.6972467e+01,  2.2474623e+00,\n",
       "         1.6362461e-01,  4.0548038e-01,  1.1708381e+01,  2.2963202e+00,\n",
       "         1.6362461e-01,  8.1096075e-02,  1.1936023e+01,  2.3451781e+00,\n",
       "         1.6362461e-01,  1.6219215e-01,  5.5482030e+00,  2.0031729e+00,\n",
       "         1.3089970e-01,  2.4328822e-01,  1.4069079e+01,  2.0520308e+00,\n",
       "         1.3089970e-01,  2.4328822e-01,  5.0908810e+01,  2.1008887e+00,\n",
       "         1.3089970e-01,  3.2438430e-01,  3.3363907e+01,  2.3451781e+00,\n",
       "         1.3089970e-01,  8.1096075e-02,  8.7495556e+00,  2.1008887e+00,\n",
       "         9.8174773e-02,  2.4328822e-01,  2.4146265e+01,  2.3451781e+00,\n",
       "         9.8174773e-02,  8.1096075e-02,  9.6407089e+00,  2.3451781e+00,\n",
       "         6.5449849e-02,  8.1096075e-02,  7.7179961e+00]], dtype=float32)"
      ]
     },
     "execution_count": 66,
     "metadata": {},
     "output_type": "execute_result"
    }
   ],
   "source": [
    "pointCloud"
   ]
  },
  {
   "cell_type": "code",
   "execution_count": null,
   "metadata": {},
   "outputs": [],
   "source": []
  }
 ],
 "metadata": {
  "kernelspec": {
   "display_name": "Python 3",
   "language": "python",
   "name": "python3"
  },
  "language_info": {
   "codemirror_mode": {
    "name": "ipython",
    "version": 3
   },
   "file_extension": ".py",
   "mimetype": "text/x-python",
   "name": "python",
   "nbconvert_exporter": "python",
   "pygments_lexer": "ipython3",
   "version": "3.7.1"
  }
 },
 "nbformat": 4,
 "nbformat_minor": 2
}
