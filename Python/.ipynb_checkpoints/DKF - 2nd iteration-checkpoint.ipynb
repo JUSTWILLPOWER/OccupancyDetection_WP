{
 "cells": [
  {
   "cell_type": "code",
   "execution_count": 1,
   "metadata": {},
   "outputs": [],
   "source": [
    "import numpy as np\n",
    "import pandas as pd\n",
    "from scipy.linalg import expm\n",
    "import pyqtgraph as pg\n",
    "from pyqtgraph.Qt import QtCore, QtGui\n",
    "%gui qt5\n",
    "import matplotlib.pyplot as plt\n",
    "\n",
    "from scipy.spatial import distance\n",
    "import time"
   ]
  },
  {
   "cell_type": "markdown",
   "metadata": {},
   "source": [
    "### Plotting"
   ]
  },
  {
   "cell_type": "code",
   "execution_count": 267,
   "metadata": {},
   "outputs": [],
   "source": [
    "#set up plottig GUI\n",
    "app = QtGui.QApplication([])\n",
    "pg.setConfigOption('background','w')  "
   ]
  },
  {
   "cell_type": "code",
   "execution_count": 270,
   "metadata": {},
   "outputs": [],
   "source": [
    "win = pg.GraphicsWindow(title=\"Occupancy Detection GUI\")\n",
    "plot1 = win.addPlot()\n",
    "plot1.setXRange(-6,6)\n",
    "plot1.setYRange(0,6)\n",
    "plot1.setLabel('left',text = 'Y position (m)')\n",
    "plot1.setLabel('bottom', text= 'X position (m)')\n",
    "s1 = plot1.plot([],[],pen=None,symbol='o')"
   ]
  },
  {
   "cell_type": "markdown",
   "metadata": {},
   "source": [
    "### Helper Functions"
   ]
  },
  {
   "cell_type": "code",
   "execution_count": 2,
   "metadata": {},
   "outputs": [],
   "source": [
    "def predictStep(x, A):\n",
    "    xPred = np.matmul(A,x)\n",
    "    return xPred"
   ]
  },
  {
   "cell_type": "code",
   "execution_count": 3,
   "metadata": {},
   "outputs": [],
   "source": [
    "def innovationStep(xPred,z, H):\n",
    "    innovation = np.subtract(z, np.matmul(H, xPred)) #innovation\n",
    "    return innovation"
   ]
  },
  {
   "cell_type": "code",
   "execution_count": 4,
   "metadata": {},
   "outputs": [],
   "source": [
    "def UpdateStep(xPred, nu, K):\n",
    "    xNew = np.add(xPred, np.matmul(K, innovation))\n",
    "    return xNew"
   ]
  },
  {
   "cell_type": "code",
   "execution_count": 5,
   "metadata": {},
   "outputs": [],
   "source": [
    "def readMeasurements():\n",
    "    #read in measurements from csv\n",
    "    rawCentroidData = pd.read_csv('2PeopleCentroids.csv', header=None)\n",
    "    #find headers and frames within headers\n",
    "    #each header has the structure X, Y, CentroidNumber\n",
    "    #below each header is the frame data\n",
    "    centroidFramesCartesianMeasurement = list()\n",
    "    headerFound = False\n",
    "    for rowIndex in range(0, rawCentroidData.shape[0]):\n",
    "        row = rawCentroidData.loc[rowIndex]\n",
    "        if row[0] == 'X' and row[1] == 'Y' and row[2] == 'CentroidNumber':\n",
    "            if headerFound: \n",
    "                #actual data was found last frame and this frame actual data is found again\n",
    "                #past frame ended so add to list\n",
    "                centroidFramesCartesianMeasurement.append(frame)\n",
    "                frame = pd.DataFrame([])\n",
    "            else:\n",
    "                #header found\n",
    "                headerFound = True\n",
    "                frame = pd.DataFrame([])\n",
    "            #data should be following\n",
    "        elif headerFound:\n",
    "            if np.isnan(np.float(row[0])) and np.isnan(np.float(row[1])):\n",
    "                #empty row \n",
    "                centroidFramesCartesianMeasurement.append(frame)\n",
    "                headerFound = False\n",
    "                #only time its going to be NaN if the frame is completely empty\n",
    "            else:\n",
    "                #actual data\n",
    "                X = np.float(row[0])\n",
    "                Y = np.float(row[1])\n",
    "                CentroidNumber = int(row[2])\n",
    "                if len(frame) == 0:\n",
    "                    frame = pd.DataFrame({'X':X, 'Y':Y, 'CentroidNumber':CentroidNumber}, index=range(1))\n",
    "                else:\n",
    "                    data = pd.DataFrame({'X':X, 'Y':Y, 'CentroidNumber':CentroidNumber}, index=range(CentroidNumber,CentroidNumber+1))\n",
    "                    frame = pd.concat([frame,data])\n",
    "    \n",
    "    return centroidFramesCartesianMeasurement"
   ]
  },
  {
   "cell_type": "code",
   "execution_count": 6,
   "metadata": {},
   "outputs": [],
   "source": [
    "#convert x,y to r,theta\n",
    "def convertCartesianToPolar(cartesianMeasurementCentroidDf):\n",
    "    measurementR = np.sqrt(cartesianMeasurementCentroidDf['X']**2 + cartesianMeasurementCentroidDf['Y']**2)\n",
    "    measurementTheta = np.arctan2(cartesianMeasurementCentroidDf['Y'],cartesianMeasurementCentroidDf['X'])\n",
    "    polarCentroidDf = pd.DataFrame({'CentroidNumber':np.arange(0,max(cartesianMeasurementCentroidDf['CentroidNumber'])+1), \n",
    "                                   'MeasuredRange': measurementR,\n",
    "                                   'MeasuredTheta': measurementTheta})\n",
    "    polarCentroidDf.index = range(0, polarCentroidDf.shape[0])\n",
    "    return polarCentroidDf"
   ]
  },
  {
   "cell_type": "code",
   "execution_count": 98,
   "metadata": {},
   "outputs": [],
   "source": [
    "def createDistanceMatrix(rThetaMeasurement,previousFrame):\n",
    "    #create distance matrix\n",
    "    distanceMatrix = np.eye(previousFrame.shape[0], rThetaMeasurement.shape[0])\n",
    "    for centroid in previousFrame['CentroidNumber']:\n",
    "        prevCentroidInfo = previousFrame.loc[centroid]\n",
    "        #find distances between a selected prev centroid and the new centroids\n",
    "        distances = np.sqrt(np.repeat(np.square(prevCentroidInfo.FilteredRange), repeats=rThetaMeasurement.shape[0]) + \\\n",
    "        np.square(rThetaMeasurement['MeasuredRange']) - \\\n",
    "        2*np.repeat(prevCentroidInfo.FilteredRange, repeats=rThetaMeasurement.shape[0]) * \\\n",
    "        rThetaMeasurement['MeasuredRange'] * np.cos(rThetaMeasurement['MeasuredTheta']-prevCentroidInfo.FilteredTheta))\n",
    "        #assign distances\n",
    "        distanceMatrix[centroid,:] = distances\n",
    "    return distanceMatrix"
   ]
  },
  {
   "cell_type": "code",
   "execution_count": 262,
   "metadata": {},
   "outputs": [],
   "source": [
    "def dataAssociation(rThetaMeasurement, previousFrame):\n",
    "    #create distance matrix\n",
    "    distanceMatrix = createDistanceMatrix(rThetaMeasurement,previousFrame)\n",
    "    association = np.full((max(distanceMatrix.shape[0], distanceMatrix.shape[1]), 2), np.nan)\n",
    "\n",
    "    #associate\n",
    "    numberOfLoops = min(distanceMatrix.shape[0], distanceMatrix.shape[1])\n",
    "    for loopIterator in range(0, numberOfLoops):\n",
    "        previousCentroid, measuredCentroid = np.where(np.min(distanceMatrix) == distanceMatrix)\n",
    "    #     rThetaMeasurement.at[measuredCentroid[0],'CentroidNumber'] = previousCentroid[0] #associate with old centroid \n",
    "        association[loopIterator,0]= previousCentroid[0] #fill association matrix\n",
    "        association[loopIterator,1]= measuredCentroid[0] #fill association matrix\n",
    "        distanceMatrix[previousCentroid[0], :] = np.Inf\n",
    "        distanceMatrix[:,measuredCentroid[0]] = np.Inf\n",
    "\n",
    "    if np.isnan(association).any(): #if any NaN's still in the association matrix - mismatch alert\n",
    "        if distanceMatrix.shape[0] > distanceMatrix.shape[1]:\n",
    "            #more predictions than observations\n",
    "            unassociatedPredictions = [pred for pred in list(previousFrame['CentroidNumber']) if pred not in list(association[:,0])]\n",
    "            association[np.isnan(association[:,0]),0] = unassociatedPredictions\n",
    "        else:\n",
    "            #more observations than predictions\n",
    "            #find which observation has not been associated\n",
    "            unassociatedObservations = [observation for observation in list(rThetaMeasurement['CentroidNumber']) if observation not in list(association[:,1])]\n",
    "            association[np.isnan(association[:,1]),1] = unassociatedObservations\n",
    "            \n",
    "    associationDf = pd.DataFrame(association, columns=['Predicted', 'Measured'])\n",
    "    associationDf.index = pd.Series(associationDf['Predicted'].values.astype(int))\n",
    "    \n",
    "    return associationDf"
   ]
  },
  {
   "cell_type": "markdown",
   "metadata": {},
   "source": [
    "### Main Code"
   ]
  },
  {
   "cell_type": "code",
   "execution_count": 9,
   "metadata": {},
   "outputs": [],
   "source": [
    "#initialize variables\n",
    "deltaT = 50*10**-3 #50ms\n",
    "\n",
    "#system matrix\n",
    "A = np.array([\n",
    "    [1, deltaT, 0,0],\n",
    "    [0,1,0,0],\n",
    "    [0,0,1,deltaT],\n",
    "    [0,0,0,1]\n",
    "])\n",
    "#state transition matrix\n",
    "F = expm(A*deltaT)\n",
    "#output matrix\n",
    "H = np.array([[1,0,0,0],\n",
    "              [0,0,1,0]])\n",
    "#covariance matrices\n",
    "Q = np.eye(4)\n",
    "R = np.ones(2).reshape(-1,1)\n",
    "Pc = np.eye(4)\n",
    "\n",
    "Pd = np.add(np.matmul(np.matmul(A,Pc), np.transpose(A)), Q) #prediction covariance\n",
    "S = np.add(R, np.matmul(np.matmul(H, Pd), np.transpose(H))) #innovation covariance\n",
    "K = np.matmul(Pd, np.matmul(np.transpose(H), np.linalg.inv(S))) #kalman gain\n",
    "Pupdate = np.subtract(Pd, np.matmul(np.matmul(K, S), np.transpose(K))) #update covariance\n",
    "\n",
    "filteredFramesPolar = list()"
   ]
  },
  {
   "cell_type": "code",
   "execution_count": 266,
   "metadata": {},
   "outputs": [],
   "source": [
    "#read in measurements\n",
    "centroidFramesCartesianMeasurement= readMeasurements()\n",
    "#filtered frames (polaar measurements)\n",
    "filteredFramesPolar = list()\n",
    "frameNumber = 0\n",
    "for centroidFrame in centroidFramesCartesianMeasurement:\n",
    "    filteredFramePolar = np.array([])\n",
    "    #first frame that is valid\n",
    "    if len(filteredFramesPolar) == 0 and len(centroidFrame) > 0: #kalman filter initialization\n",
    "        rThetaMeasurement = convertCartesianToPolar(centroidFrame)\n",
    "        for centroid in rThetaMeasurement['CentroidNumber']:\n",
    "            x = np.expand_dims(np.array([0,0,0,0]), axis=1) #initialise \n",
    "            \n",
    "            #predict\n",
    "            xPred = predictStep(x, A)\n",
    "            #measurement\n",
    "            centroidInformation = rThetaMeasurement.loc[centroid]\n",
    "            measurement = np.expand_dims(np.array([centroidInformation.MeasuredRange,centroidInformation.MeasuredTheta]),\n",
    "                                         axis=1)\n",
    "            innovation = innovationStep(xPred, measurement, H)\n",
    "            #update\n",
    "            xUpdate = UpdateStep(xPred, innovation, K)\n",
    "            xUpdate = np.vstack((xUpdate, centroid))\n",
    "            #add value to array\n",
    "            if len(filteredFramePolar) == 0:\n",
    "                filteredFramePolar = xUpdate\n",
    "            else:\n",
    "                filteredFramePolar = np.vstack(filteredFramePolar,xUpdate)\n",
    "        \n",
    "    #valid frames\n",
    "    elif len(centroidFrame) >= 0 and len(filteredFramesPolar) != 0:\n",
    "        if len(centroidFrame) != 0:\n",
    "            rThetaMeasurement = convertCartesianToPolar(centroidFrame)\n",
    "        else:\n",
    "            rThetaMeasurement = pd.DataFrame([], columns=['CentroidNumber', 'MeasuredRange', 'MeasuredTheta'])\n",
    "            #since measurement has nothing in it just predict and move on\n",
    "            \n",
    "            \n",
    "            \n",
    "        #perform data association\n",
    "        associationDf = dataAssociation(rThetaMeasurement, filteredFramesPolar[-1])\n",
    "        previousFrame = filteredFramesPolar[-1]\n",
    "        \n",
    "        for centroidIndex in associationDf.index:\n",
    "\n",
    "            #predict\n",
    "            predictedCentroid = associationDf.loc[centroidIndex]['Predicted']\n",
    "            if np.isnan(predictedCentroid):\n",
    "                x = np.expand_dims(np.array([0,0,0,0]), axis=1) #initialise \n",
    "            else:\n",
    "                xPred = previousFrame.loc[previousFrame['CentroidNumber'] == predictedCentroid]\n",
    "                x = np.expand_dims(xPred.values[0][:4], axis=1)\n",
    "\n",
    "            xPred = predictStep(x, A)\n",
    "            #measurement\n",
    "            associatedMeasuredCentroid = associationDf.loc[centroidIndex]['Measured']\n",
    "            if not(np.isnan(associatedMeasuredCentroid)):\n",
    "                #if associated centroid exists\n",
    "                centroidInformation = rThetaMeasurement.loc[associatedMeasuredCentroid]\n",
    "                measurement = np.expand_dims(np.array([centroidInformation.MeasuredRange,centroidInformation.MeasuredTheta]),axis=1)\n",
    "                innovation = innovationStep(xPred, measurement, H)\n",
    "                #update\n",
    "                xUpdate = UpdateStep(xPred, innovation, K)\n",
    "            else:\n",
    "                xUpdate = xPred\n",
    "            #add in centroid number\n",
    "            if np.isnan(predictedCentroid): #no predicted value new measurement\n",
    "                associatableCentroidNumber = int(np.nanmax(associationDf['Predicted']))\n",
    "                predictedCentroid = associatableCentroidNumber + 1\n",
    "            xUpdate = np.vstack((xUpdate, predictedCentroid))\n",
    "            #add value to array\n",
    "            if len(filteredFramePolar) == 0:\n",
    "                filteredFramePolar = xUpdate\n",
    "            else:\n",
    "                filteredFramePolar = np.hstack((filteredFramePolar,xUpdate))  \n",
    "    \n",
    "    else:\n",
    "        frameNumber += 1\n",
    "        continue\n",
    "    frameNumber += 1\n",
    "\n",
    "    filteredPolarDf = pd.DataFrame(np.transpose(filteredFramePolar))\n",
    "    filteredPolarDf.columns = ['FilteredRange', 'FilteredDoppler', 'FilteredTheta', 'FilteredAngularVelocity', 'CentroidNumber']\n",
    "    #convert centroid number to integer value this is to aid indexing\n",
    "    filteredPolarDf['CentroidNumber'] = filteredPolarDf['CentroidNumber'].astype(int)\n",
    "    filteredPolarDf['CentroidNumber'] = pd.Series(filteredPolarDf['CentroidNumber'].values)\n",
    "    filteredPolarDf.index = filteredPolarDf['CentroidNumber'].values.astype(int)\n",
    "    filteredFramesPolar.append(filteredPolarDf) "
   ]
  },
  {
   "cell_type": "code",
   "execution_count": 208,
   "metadata": {},
   "outputs": [],
   "source": [
    "unassociatedPredictions = [pred for pred in list(previousFrame['CentroidNumber']) if pred not in list(association[:,0])]\n",
    "association[np.isnan(association[:,0]),0] = unassociunassociatedPredictions"
   ]
  },
  {
   "cell_type": "code",
   "execution_count": 217,
   "metadata": {},
   "outputs": [],
   "source": [
    "association = np.array([[1,0], [np.nan,np.nan]])\n",
    "unassociatedPredictions = [pred for pred in list(previousFrame['CentroidNumber']) if pred not in list(association[:,0])]\n",
    "association[np.isnan(association[:,0]),0] = unassociatedPredictions"
   ]
  },
  {
   "cell_type": "code",
   "execution_count": 233,
   "metadata": {},
   "outputs": [
    {
     "data": {
      "text/html": [
       "<div>\n",
       "<style scoped>\n",
       "    .dataframe tbody tr th:only-of-type {\n",
       "        vertical-align: middle;\n",
       "    }\n",
       "\n",
       "    .dataframe tbody tr th {\n",
       "        vertical-align: top;\n",
       "    }\n",
       "\n",
       "    .dataframe thead th {\n",
       "        text-align: right;\n",
       "    }\n",
       "</style>\n",
       "<table border=\"1\" class=\"dataframe\">\n",
       "  <thead>\n",
       "    <tr style=\"text-align: right;\">\n",
       "      <th></th>\n",
       "      <th>Predicted</th>\n",
       "      <th>Measured</th>\n",
       "    </tr>\n",
       "  </thead>\n",
       "  <tbody>\n",
       "    <tr>\n",
       "      <th>0</th>\n",
       "      <td>0.0</td>\n",
       "      <td>0.0</td>\n",
       "    </tr>\n",
       "    <tr>\n",
       "      <th>1</th>\n",
       "      <td>NaN</td>\n",
       "      <td>1.0</td>\n",
       "    </tr>\n",
       "  </tbody>\n",
       "</table>\n",
       "</div>"
      ],
      "text/plain": [
       "   Predicted  Measured\n",
       "0        0.0       0.0\n",
       "1        NaN       1.0"
      ]
     },
     "execution_count": 233,
     "metadata": {},
     "output_type": "execute_result"
    }
   ],
   "source": []
  },
  {
   "cell_type": "code",
   "execution_count": 222,
   "metadata": {},
   "outputs": [
    {
     "data": {
      "text/plain": [
       "int"
      ]
     },
     "execution_count": 222,
     "metadata": {},
     "output_type": "execute_result"
    }
   ],
   "source": []
  },
  {
   "cell_type": "code",
   "execution_count": null,
   "metadata": {},
   "outputs": [],
   "source": [
    "#plot\n",
    "xPositions = np.array([])\n",
    "yPositions = np.array([])\n",
    "for centroidFrame in filteredFramesPolar:\n",
    "    try:\n",
    "        x = np.multiply(centroidFrame.FilteredRange[1], np.cos(centroidFrame.FilteredTheta[1]))\n",
    "        y = np.multiply(centroidFrame.FilteredRange[1], np.sin(centroidFrame.FilteredTheta[1]))\n",
    "    except:\n",
    "        continue\n",
    "    if len(xPositions) == 0:\n",
    "        xPositions = np.array([x])\n",
    "    else:\n",
    "        xPositions = np.append(xPositions, x)       \n",
    "    if len(yPositions) == 0:\n",
    "        yPositions = np.array([y])\n",
    "    else:\n",
    "        yPositions = np.append(yPositions,y)\n",
    "\n",
    "    s1.setData(xPositions, yPositions)\n",
    "    QtGui.QApplication.processEvents() \n",
    "    time.sleep(0.1)"
   ]
  },
  {
   "cell_type": "code",
   "execution_count": 239,
   "metadata": {},
   "outputs": [
    {
     "data": {
      "text/plain": [
       "0"
      ]
     },
     "execution_count": 239,
     "metadata": {},
     "output_type": "execute_result"
    }
   ],
   "source": []
  },
  {
   "cell_type": "code",
   "execution_count": null,
   "metadata": {},
   "outputs": [],
   "source": []
  },
  {
   "cell_type": "code",
   "execution_count": 15,
   "metadata": {},
   "outputs": [
    {
     "data": {
      "text/html": [
       "<div>\n",
       "<style scoped>\n",
       "    .dataframe tbody tr th:only-of-type {\n",
       "        vertical-align: middle;\n",
       "    }\n",
       "\n",
       "    .dataframe tbody tr th {\n",
       "        vertical-align: top;\n",
       "    }\n",
       "\n",
       "    .dataframe thead th {\n",
       "        text-align: right;\n",
       "    }\n",
       "</style>\n",
       "<table border=\"1\" class=\"dataframe\">\n",
       "  <thead>\n",
       "    <tr style=\"text-align: right;\">\n",
       "      <th></th>\n",
       "      <th>FilteredRange</th>\n",
       "      <th>FilteredDoppler</th>\n",
       "      <th>FilteredTheta</th>\n",
       "      <th>FilteredAngularVelocity</th>\n",
       "      <th>CentroidNumber</th>\n",
       "    </tr>\n",
       "  </thead>\n",
       "  <tbody>\n",
       "    <tr>\n",
       "      <th>0</th>\n",
       "      <td>2.413408</td>\n",
       "      <td>0.049109</td>\n",
       "      <td>0.898004</td>\n",
       "      <td>0.014120</td>\n",
       "      <td>0</td>\n",
       "    </tr>\n",
       "    <tr>\n",
       "      <th>1</th>\n",
       "      <td>4.970269</td>\n",
       "      <td>0.105291</td>\n",
       "      <td>1.788461</td>\n",
       "      <td>0.039837</td>\n",
       "      <td>1</td>\n",
       "    </tr>\n",
       "  </tbody>\n",
       "</table>\n",
       "</div>"
      ],
      "text/plain": [
       "   FilteredRange  FilteredDoppler  FilteredTheta  FilteredAngularVelocity  \\\n",
       "0       2.413408         0.049109       0.898004                 0.014120   \n",
       "1       4.970269         0.105291       1.788461                 0.039837   \n",
       "\n",
       "   CentroidNumber  \n",
       "0               0  \n",
       "1               1  "
      ]
     },
     "execution_count": 15,
     "metadata": {},
     "output_type": "execute_result"
    }
   ],
   "source": []
  },
  {
   "cell_type": "code",
   "execution_count": null,
   "metadata": {},
   "outputs": [],
   "source": []
  },
  {
   "cell_type": "markdown",
   "metadata": {},
   "source": [
    "## Unit Tests"
   ]
  },
  {
   "cell_type": "code",
   "execution_count": 162,
   "metadata": {},
   "outputs": [],
   "source": [
    "#test centroid dataset\n",
    "#centroidDf_A contains 2 centroids\n",
    "centroidDfCartesian_A = pd.DataFrame({'CentroidNumber':np.arange(0,2), \n",
    "                             'X':np.array([-1,0]), \n",
    "                             'Y':np.array([3,1])})\n",
    "#centroidDf_B contains 2 centroids and continues on from centroidDf_A\n",
    "centroidDfCartesian_B = pd.DataFrame({'CentroidNumber':np.arange(0,2), \n",
    "                             'X':np.array([0.5,-1]), \n",
    "                             'Y':np.array([0.7,2.5])})\n",
    "#centroidDf_C contains 3 centroids continuing from centroidDf_B\n",
    "centroidDfCartesian_C = pd.DataFrame({'CentroidNumber':np.arange(0,3), \n",
    "                             'X':np.array([-1,0.7, 0.3]), \n",
    "                             'Y':np.array([1.2,0.5, 3.2])})\n",
    "\n",
    "centroidDfCartesian_D = pd.DataFrame([])\n",
    "\n",
    "#contains the centroid frames, where each frame represents a mmWave capture frame\n",
    "centroidFramesCartesianMeasurement = [centroidDfCartesian_A, centroidDfCartesian_B,centroidDfCartesian_D]"
   ]
  },
  {
   "cell_type": "code",
   "execution_count": 225,
   "metadata": {},
   "outputs": [
    {
     "ename": "ValueError",
     "evalue": "shape mismatch: value array of shape (2,) could not be broadcast to indexing result of shape (1,)",
     "output_type": "error",
     "traceback": [
      "\u001b[1;31m---------------------------------------------------------------------------\u001b[0m",
      "\u001b[1;31mValueError\u001b[0m                                Traceback (most recent call last)",
      "\u001b[1;32m<ipython-input-225-c51ed11e5dbe>\u001b[0m in \u001b[0;36m<module>\u001b[1;34m\u001b[0m\n\u001b[0;32m     20\u001b[0m         \u001b[1;31m#more predictions than observations\u001b[0m\u001b[1;33m\u001b[0m\u001b[1;33m\u001b[0m\u001b[1;33m\u001b[0m\u001b[0m\n\u001b[0;32m     21\u001b[0m         \u001b[0munassociatedPredictions\u001b[0m \u001b[1;33m=\u001b[0m \u001b[1;33m[\u001b[0m\u001b[0mpred\u001b[0m \u001b[1;32mfor\u001b[0m \u001b[0mpred\u001b[0m \u001b[1;32min\u001b[0m \u001b[0mlist\u001b[0m\u001b[1;33m(\u001b[0m\u001b[0mpreviousFrame\u001b[0m\u001b[1;33m[\u001b[0m\u001b[1;34m'CentroidNumber'\u001b[0m\u001b[1;33m]\u001b[0m\u001b[1;33m)\u001b[0m \u001b[1;32mif\u001b[0m \u001b[0mpred\u001b[0m \u001b[1;32mnot\u001b[0m \u001b[1;32min\u001b[0m \u001b[0mlist\u001b[0m\u001b[1;33m(\u001b[0m\u001b[0massociation\u001b[0m\u001b[1;33m[\u001b[0m\u001b[1;33m:\u001b[0m\u001b[1;33m,\u001b[0m\u001b[1;36m0\u001b[0m\u001b[1;33m]\u001b[0m\u001b[1;33m)\u001b[0m\u001b[1;33m]\u001b[0m\u001b[1;33m\u001b[0m\u001b[1;33m\u001b[0m\u001b[0m\n\u001b[1;32m---> 22\u001b[1;33m         \u001b[0massociation\u001b[0m\u001b[1;33m[\u001b[0m\u001b[0mnp\u001b[0m\u001b[1;33m.\u001b[0m\u001b[0misnan\u001b[0m\u001b[1;33m(\u001b[0m\u001b[0massociation\u001b[0m\u001b[1;33m[\u001b[0m\u001b[1;33m:\u001b[0m\u001b[1;33m,\u001b[0m\u001b[1;36m0\u001b[0m\u001b[1;33m]\u001b[0m\u001b[1;33m)\u001b[0m\u001b[1;33m,\u001b[0m\u001b[1;36m0\u001b[0m\u001b[1;33m]\u001b[0m \u001b[1;33m=\u001b[0m \u001b[0munassociatedPredictions\u001b[0m\u001b[1;33m\u001b[0m\u001b[1;33m\u001b[0m\u001b[0m\n\u001b[0m\u001b[0;32m     23\u001b[0m     \u001b[1;32melse\u001b[0m\u001b[1;33m:\u001b[0m\u001b[1;33m\u001b[0m\u001b[1;33m\u001b[0m\u001b[0m\n\u001b[0;32m     24\u001b[0m         \u001b[1;31m#more observations than predictions\u001b[0m\u001b[1;33m\u001b[0m\u001b[1;33m\u001b[0m\u001b[1;33m\u001b[0m\u001b[0m\n",
      "\u001b[1;31mValueError\u001b[0m: shape mismatch: value array of shape (2,) could not be broadcast to indexing result of shape (1,)"
     ]
    }
   ],
   "source": [
    "previousFrame = filteredFramesPolar[-1]\n",
    "rThetaMeasurement = convertCartesianToPolar(centroidFramesCartesianMeasurement[63])\n",
    "filteredFramePolar = np.array([])\n",
    "\n",
    "distanceMatrix = createDistanceMatrix(rThetaMeasurement,previousFrame)\n",
    "association = np.full((max(distanceMatrix.shape[0], distanceMatrix.shape[1]), 2), np.nan)\n",
    "\n",
    "#associate\n",
    "numberOfLoops = min(distanceMatrix.shape[0], distanceMatrix.shape[1])\n",
    "for loopIterator in range(0, numberOfLoops):\n",
    "    previousCentroid, measuredCentroid = np.where(np.min(distanceMatrix) == distanceMatrix)\n",
    "#     rThetaMeasurement.at[measuredCentroid[0],'CentroidNumber'] = previousCentroid[0] #associate with old centroid \n",
    "    association[loopIterator,0]= previousCentroid[0] #fill association matrix\n",
    "    association[loopIterator,1]= measuredCentroid[0] #fill association matrix\n",
    "    distanceMatrix[previousCentroid[0], :] = np.Inf\n",
    "    distanceMatrix[:,measuredCentroid[0]] = np.Inf\n",
    "\n",
    "if np.isnan(association).any(): #if any NaN's still in the association matrix - mismatch alert\n",
    "    if distanceMatrix.shape[0] > distanceMatrix.shape[1]:\n",
    "        #more predictions than observations\n",
    "        unassociatedPredictions = [pred for pred in list(previousFrame['CentroidNumber']) if pred not in list(association[:,0])]\n",
    "        association[np.isnan(association[:,0]),0] = unassociatedPredictions\n",
    "    else:\n",
    "        #more observations than predictions\n",
    "        #find which observation has not been associated\n",
    "        unassociatedObservations = [observation for observation in list(rThetaMeasurement['CentroidNumber']) if observation not in list(association[:,1])]\n",
    "        association[np.isnan(association[:,1]),1] = unassociatedObservations\n",
    "        \n",
    "associationDf = pd.DataFrame(association, columns=['Predicted', 'Measured'])\n",
    "print(associationDf)\n",
    "for centroidIndex in associationDf['Predicted']:\n",
    "\n",
    "    #predict\n",
    "    predictedCentroid = associationDf.loc[centroidIndex]['Predicted']\n",
    "    if np.isnan(predictedCentroid):\n",
    "        x = np.expand_dims(np.array([0,0,0,0]), axis=1) #initialise \n",
    "    else:\n",
    "        xPred = previousFrame.loc[previousFrame['CentroidNumber'] == predictedCentroid]\n",
    "        x = np.expand_dims(xPred.values[0][:4], axis=1)\n",
    "\n",
    "    xPred = predictStep(x, A)\n",
    "    #measurement\n",
    "    associatedMeasuredCentroid = associationDf.loc[centroidIndex]['Measured']\n",
    "    if not(np.isnan(associatedMeasuredCentroid)):\n",
    "        #if associated centroid exists\n",
    "        centroidInformation = rThetaMeasurement.loc[associatedMeasuredCentroid]\n",
    "        measurement = np.expand_dims(np.array([centroidInformation.MeasuredRange,centroidInformation.MeasuredTheta]),axis=1)\n",
    "        innovation = innovationStep(xPred, measurement, H)\n",
    "        #update\n",
    "        xUpdate = UpdateStep(xPred, innovation, K)\n",
    "    else:\n",
    "        xUpdate = xPred\n",
    "    #add in centroid number\n",
    "    xUpdate = np.vstack((xUpdate, centroidIndex))\n",
    "    #add value to array\n",
    "    if len(filteredFramePolar) == 0:\n",
    "        filteredFramePolar = xUpdate\n",
    "    else:\n",
    "        filteredFramePolar = np.hstack((filteredFramePolar,xUpdate))  \n",
    "\n",
    "filteredPolarDf = pd.DataFrame(np.transpose(filteredFramePolar))\n",
    "filteredPolarDf.columns = ['FilteredRange', 'FilteredDoppler', 'FilteredTheta', 'FilteredAngularVelocity', 'CentroidNumber']\n",
    "#convert centroid number to integer value this is to aid indexing\n",
    "filteredPolarDf['CentroidNumber'].values.dtype = np.int\n",
    "filteredPolarDf['CentroidNumber'] = pd.Series(filteredPolarDf['CentroidNumber'].values)\n",
    "filteredFramesPolar.append(filteredPolarDf) "
   ]
  },
  {
   "cell_type": "code",
   "execution_count": 51,
   "metadata": {},
   "outputs": [
    {
     "data": {
      "text/html": [
       "<div>\n",
       "<style scoped>\n",
       "    .dataframe tbody tr th:only-of-type {\n",
       "        vertical-align: middle;\n",
       "    }\n",
       "\n",
       "    .dataframe tbody tr th {\n",
       "        vertical-align: top;\n",
       "    }\n",
       "\n",
       "    .dataframe thead th {\n",
       "        text-align: right;\n",
       "    }\n",
       "</style>\n",
       "<table border=\"1\" class=\"dataframe\">\n",
       "  <thead>\n",
       "    <tr style=\"text-align: right;\">\n",
       "      <th></th>\n",
       "      <th>FilteredRange</th>\n",
       "      <th>FilteredDoppler</th>\n",
       "      <th>FilteredTheta</th>\n",
       "      <th>FilteredAngularVelocity</th>\n",
       "      <th>CentroidNumber</th>\n",
       "    </tr>\n",
       "  </thead>\n",
       "  <tbody>\n",
       "    <tr>\n",
       "      <th>0</th>\n",
       "      <td>2.434293</td>\n",
       "      <td>0.053774</td>\n",
       "      <td>2.176143</td>\n",
       "      <td>0.050091</td>\n",
       "      <td>1.0</td>\n",
       "    </tr>\n",
       "    <tr>\n",
       "      <th>1</th>\n",
       "      <td>4.746275</td>\n",
       "      <td>0.114345</td>\n",
       "      <td>1.283005</td>\n",
       "      <td>0.031131</td>\n",
       "      <td>0.0</td>\n",
       "    </tr>\n",
       "  </tbody>\n",
       "</table>\n",
       "</div>"
      ],
      "text/plain": [
       "   FilteredRange  FilteredDoppler  FilteredTheta  FilteredAngularVelocity  \\\n",
       "0       2.434293         0.053774       2.176143                 0.050091   \n",
       "1       4.746275         0.114345       1.283005                 0.031131   \n",
       "\n",
       "   CentroidNumber  \n",
       "0             1.0  \n",
       "1             0.0  "
      ]
     },
     "execution_count": 51,
     "metadata": {},
     "output_type": "execute_result"
    }
   ],
   "source": [
    "unassociatedPredictions = [pred for pred in list(previousFrame['CentroidNumber']) if pred not in list(association[:,0])]"
   ]
  },
  {
   "cell_type": "code",
   "execution_count": 226,
   "metadata": {},
   "outputs": [
    {
     "data": {
      "text/plain": [
       "0    0\n",
       "1    0\n",
       "Name: CentroidNumber, dtype: int32"
      ]
     },
     "execution_count": 226,
     "metadata": {},
     "output_type": "execute_result"
    }
   ],
   "source": [
    "previousFrame['CentroidNumber']"
   ]
  },
  {
   "cell_type": "code",
   "execution_count": 227,
   "metadata": {},
   "outputs": [
    {
     "data": {
      "text/html": [
       "<div>\n",
       "<style scoped>\n",
       "    .dataframe tbody tr th:only-of-type {\n",
       "        vertical-align: middle;\n",
       "    }\n",
       "\n",
       "    .dataframe tbody tr th {\n",
       "        vertical-align: top;\n",
       "    }\n",
       "\n",
       "    .dataframe thead th {\n",
       "        text-align: right;\n",
       "    }\n",
       "</style>\n",
       "<table border=\"1\" class=\"dataframe\">\n",
       "  <thead>\n",
       "    <tr style=\"text-align: right;\">\n",
       "      <th></th>\n",
       "      <th>FilteredRange</th>\n",
       "      <th>FilteredDoppler</th>\n",
       "      <th>FilteredTheta</th>\n",
       "      <th>FilteredAngularVelocity</th>\n",
       "      <th>CentroidNumber</th>\n",
       "    </tr>\n",
       "  </thead>\n",
       "  <tbody>\n",
       "    <tr>\n",
       "      <th>0</th>\n",
       "      <td>3.411749</td>\n",
       "      <td>0.081307</td>\n",
       "      <td>2.033167</td>\n",
       "      <td>0.048734</td>\n",
       "      <td>0</td>\n",
       "    </tr>\n",
       "    <tr>\n",
       "      <th>1</th>\n",
       "      <td>2.702873</td>\n",
       "      <td>0.067487</td>\n",
       "      <td>-0.064469</td>\n",
       "      <td>-0.001610</td>\n",
       "      <td>0</td>\n",
       "    </tr>\n",
       "  </tbody>\n",
       "</table>\n",
       "</div>"
      ],
      "text/plain": [
       "   FilteredRange  FilteredDoppler  FilteredTheta  FilteredAngularVelocity  \\\n",
       "0       3.411749         0.081307       2.033167                 0.048734   \n",
       "1       2.702873         0.067487      -0.064469                -0.001610   \n",
       "\n",
       "   CentroidNumber  \n",
       "0               0  \n",
       "1               0  "
      ]
     },
     "execution_count": 227,
     "metadata": {},
     "output_type": "execute_result"
    }
   ],
   "source": [
    "previousFrame"
   ]
  },
  {
   "cell_type": "code",
   "execution_count": 17,
   "metadata": {},
   "outputs": [
    {
     "name": "stdout",
     "output_type": "stream",
     "text": [
      "97\n",
      "   FilteredRange  FilteredDoppler  FilteredTheta  FilteredAngularVelocity  \\\n",
      "0       2.508789         0.055703       2.169997                 0.050000   \n",
      "1       4.700659         0.113347       1.286081                 0.031247   \n",
      "\n",
      "   CentroidNumber  \n",
      "0               0  \n",
      "1               1  \n",
      "\n",
      "\n",
      "98\n",
      "   FilteredRange  FilteredDoppler  FilteredTheta  FilteredAngularVelocity  \\\n",
      "0       4.746275         0.114345       1.283005                 0.031131   \n",
      "1       2.434293         0.053774       2.176143                 0.050091   \n",
      "\n",
      "   CentroidNumber  \n",
      "0               0  \n",
      "1               1  \n",
      "\n",
      "\n"
     ]
    },
    {
     "ename": "KeyboardInterrupt",
     "evalue": "",
     "output_type": "error",
     "traceback": [
      "\u001b[1;31m---------------------------------------------------------------------------\u001b[0m",
      "\u001b[1;31mKeyboardInterrupt\u001b[0m                         Traceback (most recent call last)",
      "\u001b[1;32m~\\Anaconda3\\lib\\site-packages\\ipykernel\\kernelbase.py\u001b[0m in \u001b[0;36m_input_request\u001b[1;34m(self, prompt, ident, parent, password)\u001b[0m\n\u001b[0;32m    884\u001b[0m             \u001b[1;32mtry\u001b[0m\u001b[1;33m:\u001b[0m\u001b[1;33m\u001b[0m\u001b[1;33m\u001b[0m\u001b[0m\n\u001b[1;32m--> 885\u001b[1;33m                 \u001b[0mident\u001b[0m\u001b[1;33m,\u001b[0m \u001b[0mreply\u001b[0m \u001b[1;33m=\u001b[0m \u001b[0mself\u001b[0m\u001b[1;33m.\u001b[0m\u001b[0msession\u001b[0m\u001b[1;33m.\u001b[0m\u001b[0mrecv\u001b[0m\u001b[1;33m(\u001b[0m\u001b[0mself\u001b[0m\u001b[1;33m.\u001b[0m\u001b[0mstdin_socket\u001b[0m\u001b[1;33m,\u001b[0m \u001b[1;36m0\u001b[0m\u001b[1;33m)\u001b[0m\u001b[1;33m\u001b[0m\u001b[1;33m\u001b[0m\u001b[0m\n\u001b[0m\u001b[0;32m    886\u001b[0m             \u001b[1;32mexcept\u001b[0m \u001b[0mException\u001b[0m\u001b[1;33m:\u001b[0m\u001b[1;33m\u001b[0m\u001b[1;33m\u001b[0m\u001b[0m\n",
      "\u001b[1;32m~\\Anaconda3\\lib\\site-packages\\jupyter_client\\session.py\u001b[0m in \u001b[0;36mrecv\u001b[1;34m(self, socket, mode, content, copy)\u001b[0m\n\u001b[0;32m    802\u001b[0m         \u001b[1;32mtry\u001b[0m\u001b[1;33m:\u001b[0m\u001b[1;33m\u001b[0m\u001b[1;33m\u001b[0m\u001b[0m\n\u001b[1;32m--> 803\u001b[1;33m             \u001b[0mmsg_list\u001b[0m \u001b[1;33m=\u001b[0m \u001b[0msocket\u001b[0m\u001b[1;33m.\u001b[0m\u001b[0mrecv_multipart\u001b[0m\u001b[1;33m(\u001b[0m\u001b[0mmode\u001b[0m\u001b[1;33m,\u001b[0m \u001b[0mcopy\u001b[0m\u001b[1;33m=\u001b[0m\u001b[0mcopy\u001b[0m\u001b[1;33m)\u001b[0m\u001b[1;33m\u001b[0m\u001b[1;33m\u001b[0m\u001b[0m\n\u001b[0m\u001b[0;32m    804\u001b[0m         \u001b[1;32mexcept\u001b[0m \u001b[0mzmq\u001b[0m\u001b[1;33m.\u001b[0m\u001b[0mZMQError\u001b[0m \u001b[1;32mas\u001b[0m \u001b[0me\u001b[0m\u001b[1;33m:\u001b[0m\u001b[1;33m\u001b[0m\u001b[1;33m\u001b[0m\u001b[0m\n",
      "\u001b[1;32m~\\Anaconda3\\lib\\site-packages\\zmq\\sugar\\socket.py\u001b[0m in \u001b[0;36mrecv_multipart\u001b[1;34m(self, flags, copy, track)\u001b[0m\n\u001b[0;32m    469\u001b[0m         \"\"\"\n\u001b[1;32m--> 470\u001b[1;33m         \u001b[0mparts\u001b[0m \u001b[1;33m=\u001b[0m \u001b[1;33m[\u001b[0m\u001b[0mself\u001b[0m\u001b[1;33m.\u001b[0m\u001b[0mrecv\u001b[0m\u001b[1;33m(\u001b[0m\u001b[0mflags\u001b[0m\u001b[1;33m,\u001b[0m \u001b[0mcopy\u001b[0m\u001b[1;33m=\u001b[0m\u001b[0mcopy\u001b[0m\u001b[1;33m,\u001b[0m \u001b[0mtrack\u001b[0m\u001b[1;33m=\u001b[0m\u001b[0mtrack\u001b[0m\u001b[1;33m)\u001b[0m\u001b[1;33m]\u001b[0m\u001b[1;33m\u001b[0m\u001b[1;33m\u001b[0m\u001b[0m\n\u001b[0m\u001b[0;32m    471\u001b[0m         \u001b[1;31m# have first part already, only loop while more to receive\u001b[0m\u001b[1;33m\u001b[0m\u001b[1;33m\u001b[0m\u001b[1;33m\u001b[0m\u001b[0m\n",
      "\u001b[1;32mzmq/backend/cython/socket.pyx\u001b[0m in \u001b[0;36mzmq.backend.cython.socket.Socket.recv\u001b[1;34m()\u001b[0m\n",
      "\u001b[1;32mzmq/backend/cython/socket.pyx\u001b[0m in \u001b[0;36mzmq.backend.cython.socket.Socket.recv\u001b[1;34m()\u001b[0m\n",
      "\u001b[1;32mzmq/backend/cython/socket.pyx\u001b[0m in \u001b[0;36mzmq.backend.cython.socket._recv_copy\u001b[1;34m()\u001b[0m\n",
      "\u001b[1;32m~\\Anaconda3\\lib\\site-packages\\zmq\\backend\\cython\\checkrc.pxd\u001b[0m in \u001b[0;36mzmq.backend.cython.checkrc._check_rc\u001b[1;34m()\u001b[0m\n",
      "\u001b[1;31mKeyboardInterrupt\u001b[0m: ",
      "\nDuring handling of the above exception, another exception occurred:\n",
      "\u001b[1;31mKeyboardInterrupt\u001b[0m                         Traceback (most recent call last)",
      "\u001b[1;32m<ipython-input-17-e6f763822c56>\u001b[0m in \u001b[0;36m<module>\u001b[1;34m\u001b[0m\n\u001b[0;32m     76\u001b[0m     \u001b[0mprint\u001b[0m\u001b[1;33m(\u001b[0m\u001b[0mfilteredPolarDf\u001b[0m\u001b[1;33m)\u001b[0m\u001b[1;33m\u001b[0m\u001b[1;33m\u001b[0m\u001b[0m\n\u001b[0;32m     77\u001b[0m     \u001b[0mprint\u001b[0m\u001b[1;33m(\u001b[0m\u001b[1;33m)\u001b[0m\u001b[1;33m\u001b[0m\u001b[1;33m\u001b[0m\u001b[0m\n\u001b[1;32m---> 78\u001b[1;33m     \u001b[0menter\u001b[0m \u001b[1;33m=\u001b[0m \u001b[0minput\u001b[0m\u001b[1;33m(\u001b[0m\u001b[1;33m)\u001b[0m\u001b[1;33m\u001b[0m\u001b[1;33m\u001b[0m\u001b[0m\n\u001b[0m",
      "\u001b[1;32m~\\Anaconda3\\lib\\site-packages\\ipykernel\\kernelbase.py\u001b[0m in \u001b[0;36mraw_input\u001b[1;34m(self, prompt)\u001b[0m\n\u001b[0;32m    858\u001b[0m             \u001b[0mself\u001b[0m\u001b[1;33m.\u001b[0m\u001b[0m_parent_ident\u001b[0m\u001b[1;33m,\u001b[0m\u001b[1;33m\u001b[0m\u001b[1;33m\u001b[0m\u001b[0m\n\u001b[0;32m    859\u001b[0m             \u001b[0mself\u001b[0m\u001b[1;33m.\u001b[0m\u001b[0m_parent_header\u001b[0m\u001b[1;33m,\u001b[0m\u001b[1;33m\u001b[0m\u001b[1;33m\u001b[0m\u001b[0m\n\u001b[1;32m--> 860\u001b[1;33m             \u001b[0mpassword\u001b[0m\u001b[1;33m=\u001b[0m\u001b[1;32mFalse\u001b[0m\u001b[1;33m,\u001b[0m\u001b[1;33m\u001b[0m\u001b[1;33m\u001b[0m\u001b[0m\n\u001b[0m\u001b[0;32m    861\u001b[0m         )\n\u001b[0;32m    862\u001b[0m \u001b[1;33m\u001b[0m\u001b[0m\n",
      "\u001b[1;32m~\\Anaconda3\\lib\\site-packages\\ipykernel\\kernelbase.py\u001b[0m in \u001b[0;36m_input_request\u001b[1;34m(self, prompt, ident, parent, password)\u001b[0m\n\u001b[0;32m    888\u001b[0m             \u001b[1;32mexcept\u001b[0m \u001b[0mKeyboardInterrupt\u001b[0m\u001b[1;33m:\u001b[0m\u001b[1;33m\u001b[0m\u001b[1;33m\u001b[0m\u001b[0m\n\u001b[0;32m    889\u001b[0m                 \u001b[1;31m# re-raise KeyboardInterrupt, to truncate traceback\u001b[0m\u001b[1;33m\u001b[0m\u001b[1;33m\u001b[0m\u001b[1;33m\u001b[0m\u001b[0m\n\u001b[1;32m--> 890\u001b[1;33m                 \u001b[1;32mraise\u001b[0m \u001b[0mKeyboardInterrupt\u001b[0m\u001b[1;33m\u001b[0m\u001b[1;33m\u001b[0m\u001b[0m\n\u001b[0m\u001b[0;32m    891\u001b[0m             \u001b[1;32melse\u001b[0m\u001b[1;33m:\u001b[0m\u001b[1;33m\u001b[0m\u001b[1;33m\u001b[0m\u001b[0m\n\u001b[0;32m    892\u001b[0m                 \u001b[1;32mbreak\u001b[0m\u001b[1;33m\u001b[0m\u001b[1;33m\u001b[0m\u001b[0m\n",
      "\u001b[1;31mKeyboardInterrupt\u001b[0m: "
     ]
    }
   ],
   "source": [
    "for centroidFrame in centroidFramesCartesianMeasurement[97:100]:\n",
    "    print(frameNumber)\n",
    "    filteredFramePolar = np.array([])\n",
    "    #first frame that is valid\n",
    "    if len(filteredFramesPolar) == 0 and len(centroidFrame) > 0: #kalman filter initialization\n",
    "        rThetaMeasurement = convertCartesianToPolar(centroidFrame)\n",
    "        for centroid in rThetaMeasurement['CentroidNumber']:\n",
    "            x = np.expand_dims(np.array([0,0,0,0]), axis=1) #initialise \n",
    "            \n",
    "            #predict\n",
    "            xPred = predictStep(x, A)\n",
    "            #measurement\n",
    "            centroidInformation = rThetaMeasurement.loc[centroid]\n",
    "            measurement = np.expand_dims(np.array([centroidInformation.MeasuredRange,centroidInformation.MeasuredTheta]),\n",
    "                                         axis=1)\n",
    "            innovation = innovationStep(xPred, measurement, H)\n",
    "            #update\n",
    "            xUpdate = UpdateStep(xPred, innovation, K)\n",
    "            xUpdate = np.vstack((xUpdate, centroid))\n",
    "            #add value to array\n",
    "            if len(filteredFramePolar) == 0:\n",
    "                filteredFramePolar = xUpdate\n",
    "            else:\n",
    "                filteredFramePolar = np.vstack(filteredFramePolar,xUpdate)\n",
    "        \n",
    "    #valid frames\n",
    "    elif len(centroidFrame) >= 0 and len(filteredFramesPolar) != 0:\n",
    "        if len(centroidFrame) != 0:\n",
    "            rThetaMeasurement = convertCartesianToPolar(centroidFrame)\n",
    "        else:\n",
    "            rThetaMeasurement = pd.DataFrame([], columns=['CentroidNumber', 'MeasuredRange', 'MeasuredTheta'])\n",
    "            \n",
    "        #perform data association\n",
    "        associationDf = dataAssociation(rThetaMeasurement, filteredFramesPolar[-1])\n",
    "        previousFrame = filteredFramesPolar[-1]\n",
    "        \n",
    "        for centroidIndex in associationDf.index:\n",
    "\n",
    "            #predict\n",
    "            predictedCentroid = associationDf.loc[centroidIndex]['Predicted']\n",
    "            if np.isnan(predictedCentroid):\n",
    "                x = np.expand_dims(np.array([0,0,0,0]), axis=1) #initialise \n",
    "            else:\n",
    "                xPred = previousFrame.loc[previousFrame['CentroidNumber'] == predictedCentroid]\n",
    "                x = np.expand_dims(xPred.values[0][:4], axis=1)\n",
    "\n",
    "            xPred = predictStep(x, A)\n",
    "            #measurement\n",
    "            associatedMeasuredCentroid = associationDf.loc[centroidIndex]['Measured']\n",
    "            if not(np.isnan(associatedMeasuredCentroid)):\n",
    "                #if associated centroid exists\n",
    "                centroidInformation = rThetaMeasurement.loc[associatedMeasuredCentroid]\n",
    "                measurement = np.expand_dims(np.array([centroidInformation.MeasuredRange,centroidInformation.MeasuredTheta]),axis=1)\n",
    "                innovation = innovationStep(xPred, measurement, H)\n",
    "                #update\n",
    "                xUpdate = UpdateStep(xPred, innovation, K)\n",
    "            else:\n",
    "                xUpdate = xPred\n",
    "            #add in centroid number\n",
    "            xUpdate = np.vstack((xUpdate, centroid))\n",
    "            #add value to array\n",
    "            if len(filteredFramePolar) == 0:\n",
    "                filteredFramePolar = xUpdate\n",
    "            else:\n",
    "                filteredFramePolar = np.hstack((filteredFramePolar,xUpdate))  \n",
    "    \n",
    "    else:\n",
    "        frameNumber += 1\n",
    "        continue\n",
    "    frameNumber += 1\n",
    "\n",
    "    filteredPolarDf = pd.DataFrame(np.transpose(filteredFramePolar))\n",
    "    filteredPolarDf.columns = ['FilteredRange', 'FilteredDoppler', 'FilteredTheta', 'FilteredAngularVelocity', 'CentroidNumber']\n",
    "    filteredPolarDf['CentroidNumber'] = pd.Series(np.arange(filteredPolarDf.shape[0]))\n",
    "    filteredFramesPolar.append(filteredPolarDf) \n",
    "    print(filteredPolarDf)\n",
    "    print()\n",
    "    enter = input()"
   ]
  },
  {
   "cell_type": "code",
   "execution_count": 12,
   "metadata": {},
   "outputs": [
    {
     "data": {
      "text/html": [
       "<div>\n",
       "<style scoped>\n",
       "    .dataframe tbody tr th:only-of-type {\n",
       "        vertical-align: middle;\n",
       "    }\n",
       "\n",
       "    .dataframe tbody tr th {\n",
       "        vertical-align: top;\n",
       "    }\n",
       "\n",
       "    .dataframe thead th {\n",
       "        text-align: right;\n",
       "    }\n",
       "</style>\n",
       "<table border=\"1\" class=\"dataframe\">\n",
       "  <thead>\n",
       "    <tr style=\"text-align: right;\">\n",
       "      <th></th>\n",
       "      <th>CentroidNumber</th>\n",
       "      <th>MeasuredRange</th>\n",
       "      <th>MeasuredTheta</th>\n",
       "    </tr>\n",
       "  </thead>\n",
       "  <tbody>\n",
       "    <tr>\n",
       "      <th>0</th>\n",
       "      <td>0</td>\n",
       "      <td>2.491517</td>\n",
       "      <td>2.152725</td>\n",
       "    </tr>\n",
       "    <tr>\n",
       "      <th>1</th>\n",
       "      <td>1</td>\n",
       "      <td>4.703729</td>\n",
       "      <td>1.289150</td>\n",
       "    </tr>\n",
       "  </tbody>\n",
       "</table>\n",
       "</div>"
      ],
      "text/plain": [
       "   CentroidNumber  MeasuredRange  MeasuredTheta\n",
       "0               0       2.491517       2.152725\n",
       "1               1       4.703729       1.289150"
      ]
     },
     "execution_count": 12,
     "metadata": {},
     "output_type": "execute_result"
    }
   ],
   "source": [
    "rThetaMeasurement"
   ]
  },
  {
   "cell_type": "code",
   "execution_count": 13,
   "metadata": {},
   "outputs": [
    {
     "data": {
      "text/html": [
       "<div>\n",
       "<style scoped>\n",
       "    .dataframe tbody tr th:only-of-type {\n",
       "        vertical-align: middle;\n",
       "    }\n",
       "\n",
       "    .dataframe tbody tr th {\n",
       "        vertical-align: top;\n",
       "    }\n",
       "\n",
       "    .dataframe thead th {\n",
       "        text-align: right;\n",
       "    }\n",
       "</style>\n",
       "<table border=\"1\" class=\"dataframe\">\n",
       "  <thead>\n",
       "    <tr style=\"text-align: right;\">\n",
       "      <th></th>\n",
       "      <th>FilteredRange</th>\n",
       "      <th>FilteredDoppler</th>\n",
       "      <th>FilteredTheta</th>\n",
       "      <th>FilteredAngularVelocity</th>\n",
       "      <th>CentroidNumber</th>\n",
       "    </tr>\n",
       "  </thead>\n",
       "  <tbody>\n",
       "    <tr>\n",
       "      <th>0</th>\n",
       "      <td>2.533588</td>\n",
       "      <td>0.056393</td>\n",
       "      <td>2.174458</td>\n",
       "      <td>0.050174</td>\n",
       "      <td>0</td>\n",
       "    </tr>\n",
       "    <tr>\n",
       "      <th>1</th>\n",
       "      <td>4.724349</td>\n",
       "      <td>0.114081</td>\n",
       "      <td>1.249023</td>\n",
       "      <td>0.030360</td>\n",
       "      <td>1</td>\n",
       "    </tr>\n",
       "  </tbody>\n",
       "</table>\n",
       "</div>"
      ],
      "text/plain": [
       "   FilteredRange  FilteredDoppler  FilteredTheta  FilteredAngularVelocity  \\\n",
       "0       2.533588         0.056393       2.174458                 0.050174   \n",
       "1       4.724349         0.114081       1.249023                 0.030360   \n",
       "\n",
       "   CentroidNumber  \n",
       "0               0  \n",
       "1               1  "
      ]
     },
     "execution_count": 13,
     "metadata": {},
     "output_type": "execute_result"
    }
   ],
   "source": [
    "filteredPolarDf"
   ]
  },
  {
   "cell_type": "code",
   "execution_count": null,
   "metadata": {},
   "outputs": [],
   "source": []
  }
 ],
 "metadata": {
  "kernelspec": {
   "display_name": "Python 3",
   "language": "python",
   "name": "python3"
  },
  "language_info": {
   "codemirror_mode": {
    "name": "ipython",
    "version": 3
   },
   "file_extension": ".py",
   "mimetype": "text/x-python",
   "name": "python",
   "nbconvert_exporter": "python",
   "pygments_lexer": "ipython3",
   "version": "3.7.1"
  }
 },
 "nbformat": 4,
 "nbformat_minor": 2
}
