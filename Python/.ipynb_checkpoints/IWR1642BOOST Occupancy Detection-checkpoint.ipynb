{
 "cells": [
  {
   "cell_type": "code",
   "execution_count": 2,
   "metadata": {},
   "outputs": [],
   "source": [
    "import serial\n",
    "import time\n",
    "import numpy as np\n",
    "\n",
    "#pyqtgraph -> fast plotting\n",
    "import pyqtgraph as pg\n",
    "from pyqtgraph.Qt import QtGui\n",
    "%gui qt\n",
    "\n",
    "import copy"
   ]
  },
  {
   "cell_type": "code",
   "execution_count": 3,
   "metadata": {},
   "outputs": [],
   "source": [
    "# Change the configuration file name\n",
    "\n",
    "configFileName = 'mmw_pplcount_demo_default.cfg'\n",
    "\n",
    "global CLIport\n",
    "global Dataport\n",
    "\n",
    "CLIport = {}\n",
    "Dataport = {}\n",
    "\n",
    "CLIport = serial.Serial('COM4', 115200)\n",
    "if not(CLIport.is_open):\n",
    "    CLIport.open()\n",
    "Dataport = serial.Serial('COM3', 921600)\n",
    "if not(Dataport.is_open):\n",
    "    Dataport.open()"
   ]
  },
  {
   "cell_type": "code",
   "execution_count": 4,
   "metadata": {},
   "outputs": [
    {
     "name": "stdout",
     "output_type": "stream",
     "text": [
      "dfeDataOutputMode 1\n",
      "channelCfg 15 3 0\n",
      "adcCfg 2 1\n",
      "adcbufCfg 0 1 1 1 \n",
      "profileCfg 0 77 30 7 62 0 0 60 1 128 2500 0 0 30\n",
      "chirpCfg 0 0 0 0 0 0 0 1\n",
      "chirpCfg 1 1 0 0 0 0 0 2\n",
      "frameCfg 0 1 128 0 50 1 0\n",
      "lowPower 0 1\n",
      "guiMonitor 1 1 0 0\n",
      "cfarCfg 6 4 4 4 4 16 16 4 4 50 62 0\n",
      "doaCfg 600 1875 30 1\n",
      "SceneryParam -6 6 0.05 6\n",
      "GatingParam 4 3 2 0\n",
      "StateParam 10 5 10 100 5\n",
      "AllocationParam 450 0.01 25 1 2\n",
      "VariationParam 0.289 0.289 1.0\n",
      "PointCloudEn 1\n",
      "trackingCfg 1 2 250 20 200 50 90\n",
      "sensorStart\n"
     ]
    }
   ],
   "source": [
    "# Read the configuration file and send it to the board\n",
    "config = [line.rstrip('\\r\\n') for line in open(configFileName)]\n",
    "for i in config:\n",
    "    CLIport.write((i+'\\n').encode())\n",
    "    print(i)\n",
    "    time.sleep(0.01)\n",
    "\n",
    "#close control port\n",
    "CLIport.close()"
   ]
  },
  {
   "cell_type": "code",
   "execution_count": 5,
   "metadata": {},
   "outputs": [],
   "source": [
    "#initialise variables\n",
    "lostSync = False\n",
    "\n",
    "#valid header variables and constant\n",
    "magicBytes = np.array([2,1,4,3,6,5,8,7], dtype= 'uint8')\n",
    "\n",
    "isMagicOk = False\n",
    "isDataOk = False\n",
    "gotHeader = False\n",
    "\n",
    "frameHeaderLength = 52 #52 bytes long\n",
    "tlvHeaderLengthInBytes = 8\n",
    "pointLengthInBytes = 16\n",
    "frameNumber = 1\n",
    "targetFrameNumber = 0\n",
    "\n"
   ]
  },
  {
   "cell_type": "code",
   "execution_count": 6,
   "metadata": {},
   "outputs": [],
   "source": [
    "def validateChecksum(recieveHeader):\n",
    "    uint32Convertor = [1, 2**8, 2**16, 2**24]\n",
    "    uint16Convertor = uint32Convertor[0:2]\n",
    "    h = np.uint16(recieveHeader)\n",
    "    a = np.uint32(sum(h))\n",
    "    b = np.uint16(a)\n",
    "    CS = np.uint16(~(b))\n",
    "    return CS"
   ]
  },
  {
   "cell_type": "code",
   "execution_count": 7,
   "metadata": {},
   "outputs": [],
   "source": [
    "def readHeader(recieveHeader):\n",
    "    headerContent = dict()\n",
    "    index = 0\n",
    "    \n",
    "    headerContent['magicBytes'] = recieveHeader[index:index+8]\n",
    "    index += 20\n",
    "    \n",
    "    headerContent['packetLength'] = recieveHeader[index:index+4].view(dtype=np.uint32)\n",
    "    index += 4\n",
    "        \n",
    "    headerContent['frameNumber'] = recieveHeader[index:index+4].view(dtype=np.uint32)\n",
    "    index += 24\n",
    "    \n",
    "    headerContent['numTLVs'] = recieveHeader[index:index+2].view(dtype=np.uint16)\n",
    "    \n",
    "    return headerContent"
   ]
  },
  {
   "cell_type": "code",
   "execution_count": 8,
   "metadata": {},
   "outputs": [],
   "source": [
    "def tlvParsing(data, dataLength, tlvHeaderLengthInBytes, pointLengthInBytes):\n",
    "    \n",
    "    \n",
    "    index = 0\n",
    "    #tlv header parsing\n",
    "    tlvType = data[index:index+4].view(dtype=np.uint32)\n",
    "    tlvLength = data[index+4:index+8].view(dtype=np.uint32)\n",
    "    \n",
    "    #TLV size check\n",
    "    if (tlvLength + index > dataLength):\n",
    "        print('TLV SIZE IS WRONG')\n",
    "        lostSync = True\n",
    "        return\n",
    "    \n",
    "    index += tlvHeaderLengthInBytes\n",
    "    tlvDataLength = tlvLength - tlvHeaderLengthInBytes\n",
    "    if tlvType == 6: #point cloud TLV\n",
    "        numberOfPoints = tlvDataLength/pointLengthInBytes\n",
    "#         print('NUMBER OF POINTS ', str(int(numberOfPoints)))\n",
    "        if numberOfPoints > 0:\n",
    "            p = data[index:index+tlvDataLength[0]].view(dtype=np.single)\n",
    "            #form the appropriate array \n",
    "            #each point is 16 bytes - 4 bytes for each property - range, azimuth, doppler, snr\n",
    "            pointCloud = np.reshape(p,(4, int(numberOfPoints)))\n",
    "            return pointCloud\n",
    "        \n",
    "    "
   ]
  },
  {
   "cell_type": "code",
   "execution_count": 9,
   "metadata": {},
   "outputs": [
    {
     "ename": "KeyboardInterrupt",
     "evalue": "",
     "output_type": "error",
     "traceback": [
      "\u001b[1;31m---------------------------------------------------------------------------\u001b[0m",
      "\u001b[1;31mKeyboardInterrupt\u001b[0m                         Traceback (most recent call last)",
      "\u001b[1;32m<ipython-input-9-43a23a1af7ab>\u001b[0m in \u001b[0;36m<module>\u001b[1;34m\u001b[0m\n\u001b[0;32m     50\u001b[0m         \u001b[1;32mif\u001b[0m \u001b[0mdataLength\u001b[0m \u001b[1;33m>\u001b[0m \u001b[1;36m0\u001b[0m\u001b[1;33m:\u001b[0m\u001b[1;33m\u001b[0m\u001b[1;33m\u001b[0m\u001b[0m\n\u001b[0;32m     51\u001b[0m             \u001b[1;31m#read the rest of the packet\u001b[0m\u001b[1;33m\u001b[0m\u001b[1;33m\u001b[0m\u001b[1;33m\u001b[0m\u001b[0m\n\u001b[1;32m---> 52\u001b[1;33m             \u001b[0mrawData\u001b[0m \u001b[1;33m=\u001b[0m \u001b[0mDataport\u001b[0m\u001b[1;33m.\u001b[0m\u001b[0mread\u001b[0m\u001b[1;33m(\u001b[0m\u001b[0mdataLength\u001b[0m\u001b[1;33m)\u001b[0m\u001b[1;33m\u001b[0m\u001b[1;33m\u001b[0m\u001b[0m\n\u001b[0m\u001b[0;32m     53\u001b[0m             \u001b[0mdata\u001b[0m \u001b[1;33m=\u001b[0m \u001b[0mnp\u001b[0m\u001b[1;33m.\u001b[0m\u001b[0mfrombuffer\u001b[0m\u001b[1;33m(\u001b[0m\u001b[0mrawData\u001b[0m\u001b[1;33m,\u001b[0m \u001b[0mdtype\u001b[0m \u001b[1;33m=\u001b[0m \u001b[1;34m'uint8'\u001b[0m\u001b[1;33m)\u001b[0m\u001b[1;33m\u001b[0m\u001b[1;33m\u001b[0m\u001b[0m\n\u001b[0;32m     54\u001b[0m             \u001b[0mpointCloud\u001b[0m \u001b[1;33m=\u001b[0m \u001b[0mtlvParsing\u001b[0m\u001b[1;33m(\u001b[0m\u001b[0mdata\u001b[0m\u001b[1;33m,\u001b[0m \u001b[0mdataLength\u001b[0m\u001b[1;33m,\u001b[0m \u001b[0mtlvHeaderLengthInBytes\u001b[0m\u001b[1;33m,\u001b[0m \u001b[0mpointLengthInBytes\u001b[0m\u001b[1;33m)\u001b[0m\u001b[1;33m\u001b[0m\u001b[1;33m\u001b[0m\u001b[0m\n",
      "\u001b[1;32m~\\Anaconda3\\lib\\site-packages\\serial\\serialwin32.py\u001b[0m in \u001b[0;36mread\u001b[1;34m(self, size)\u001b[0m\n\u001b[0;32m    288\u001b[0m                     \u001b[0mctypes\u001b[0m\u001b[1;33m.\u001b[0m\u001b[0mbyref\u001b[0m\u001b[1;33m(\u001b[0m\u001b[0mself\u001b[0m\u001b[1;33m.\u001b[0m\u001b[0m_overlapped_read\u001b[0m\u001b[1;33m)\u001b[0m\u001b[1;33m,\u001b[0m\u001b[1;33m\u001b[0m\u001b[1;33m\u001b[0m\u001b[0m\n\u001b[0;32m    289\u001b[0m                     \u001b[0mctypes\u001b[0m\u001b[1;33m.\u001b[0m\u001b[0mbyref\u001b[0m\u001b[1;33m(\u001b[0m\u001b[0mrc\u001b[0m\u001b[1;33m)\u001b[0m\u001b[1;33m,\u001b[0m\u001b[1;33m\u001b[0m\u001b[1;33m\u001b[0m\u001b[0m\n\u001b[1;32m--> 290\u001b[1;33m                     True)\n\u001b[0m\u001b[0;32m    291\u001b[0m                 \u001b[1;32mif\u001b[0m \u001b[1;32mnot\u001b[0m \u001b[0mresult_ok\u001b[0m\u001b[1;33m:\u001b[0m\u001b[1;33m\u001b[0m\u001b[1;33m\u001b[0m\u001b[0m\n\u001b[0;32m    292\u001b[0m                     \u001b[1;32mif\u001b[0m \u001b[0mwin32\u001b[0m\u001b[1;33m.\u001b[0m\u001b[0mGetLastError\u001b[0m\u001b[1;33m(\u001b[0m\u001b[1;33m)\u001b[0m \u001b[1;33m!=\u001b[0m \u001b[0mwin32\u001b[0m\u001b[1;33m.\u001b[0m\u001b[0mERROR_OPERATION_ABORTED\u001b[0m\u001b[1;33m:\u001b[0m\u001b[1;33m\u001b[0m\u001b[1;33m\u001b[0m\u001b[0m\n",
      "\u001b[1;31mKeyboardInterrupt\u001b[0m: "
     ]
    }
   ],
   "source": [
    "#plotting\n",
    "app = QtGui.QApplication([])\n",
    "\n",
    "# Set the plot \n",
    "pg.setConfigOption('background','w')\n",
    "win = pg.GraphicsWindow(title=\"2D scatter plot\")\n",
    "p = win.addPlot()\n",
    "p.setXRange(-6,6)\n",
    "p.setYRange(0,6)\n",
    "p.setLabel('left',text = 'Y position (m)')\n",
    "p.setLabel('bottom', text= 'X position (m)')\n",
    "s = p.plot([],[],pen=None,symbol='o')\n",
    "\n",
    "#read and parse data\n",
    "while Dataport.is_open:\n",
    "    \n",
    "    while (not(lostSync) and Dataport.is_open):\n",
    "        #check for a valid frame header\n",
    "        if not(gotHeader):\n",
    "            \n",
    "            #in_waiting = amount of bytes in the buffer\n",
    "            rawRecieveHeader = Dataport.read(frameHeaderLength)\n",
    "            recieveHeader = np.frombuffer(rawRecieveHeader, dtype = 'uint8')\n",
    "            \n",
    "        #magic byte check\n",
    "        if not(np.array_equal(recieveHeader[0:8],magicBytes)):\n",
    "            print('NO SYNC PATTERN')\n",
    "            lostSync = True\n",
    "            break\n",
    "\n",
    "        #valid the checksum\n",
    "#         CS = validateChecksum(recieveHeader)\n",
    "        \n",
    "        #have a valid frame header\n",
    "        headerContent = readHeader(recieveHeader)\n",
    "#         print(headerContent)\n",
    "        \n",
    "        if (gotHeader):\n",
    "            if headerContent['frameNumber'] > targetFrameNumber:\n",
    "                targetFrameNumber = headerContent['frameNumber']\n",
    "                gotHeader = False\n",
    "                print('FOUND SYNC AT FRAME NUMBER ' + str(targetFrameNumber))\n",
    "            else:\n",
    "                print('OLD FRAME')\n",
    "                gotHeader = False\n",
    "                lostSync = True\n",
    "                break\n",
    "                \n",
    "        dataLength = int(headerContent['packetLength'] - frameHeaderLength)\n",
    "        if dataLength > 0:\n",
    "            #read the rest of the packet\n",
    "            rawData = Dataport.read(dataLength)\n",
    "            data = np.frombuffer(rawData, dtype = 'uint8')\n",
    "            pointCloud = tlvParsing(data, dataLength, tlvHeaderLengthInBytes, pointLengthInBytes)\n",
    "            if not(pointCloud is None):\n",
    "                posX = np.multiply(pointCloud[1,:], np.sin(pointCloud[2,:]))\n",
    "                posY = np.multiply(pointCloud[1,:], np.cos(pointCloud[2,:]))\n",
    "                s.setData(posX,posY)\n",
    "                QtGui.QApplication.processEvents()\n",
    "            \n",
    "#             pointCloudConstrained = np.array([])\n",
    "#             if not(pointCloud is None):\n",
    "#                 #constrain point cloud to within the effective sensor range\n",
    "#                 #range 1 < x < 6\n",
    "#                 #azimuth -50 deg to 50 deg\n",
    "#                 #check whether corresponding range and azimuth data are within the constraints\n",
    "                \n",
    "#                 effectivePointCloud = np.array([])\n",
    "#                 for index in range(0, len(pointCloud[0,:])):\n",
    "#                     if (pointCloud[0,index] > 1 and pointCloud[0,index] < 6) and (pointCloud[1, index] > -50*np.pi/180 and pointCloud[1, index] < 50*np.pi/180):\n",
    "#                         #concatenate columns to the new point cloud\n",
    "#                         if len(effectivePointCloud) == 0:\n",
    "#                             effectivePointCloud = np.reshape(pointCloud[:, index], (4,1))\n",
    "#                         else:\n",
    "#                             point = np.reshape(pointCloud[:, index], (4,1))\n",
    "#                             effectivePointCloud = np.hstack((effectivePointCloud, point))\n",
    "            \n",
    "#                 if len(effectivePointCloud) != 0:\n",
    "#                     posX = np.multiply(effectivePointCloud[1,:], np.sin(effectivePointCloud[2,:]))\n",
    "#                     posY = np.multiply(effectivePointCloud[1,:], np.cos(effectivePointCloud[2,:]))\n",
    "#                     print(posX)\n",
    "#                     s.setData(posX,posY)\n",
    "#                     QtGui.QApplication.processEvents()\n",
    "    "
   ]
  },
  {
   "cell_type": "code",
   "execution_count": null,
   "metadata": {},
   "outputs": [],
   "source": []
  },
  {
   "cell_type": "code",
   "execution_count": 32,
   "metadata": {},
   "outputs": [],
   "source": [
    "A = np.array([1,2,3])\n",
    "B = np.reshape(A,(3,1))\n",
    "            "
   ]
  },
  {
   "cell_type": "code",
   "execution_count": 98,
   "metadata": {},
   "outputs": [
    {
     "name": "stdout",
     "output_type": "stream",
     "text": [
      "[0.6351524]\n"
     ]
    }
   ],
   "source": [
    "x = np.array([89,153,34,63], dtype=np.uint8)\n",
    "print(x.view(dtype=np.single))"
   ]
  },
  {
   "cell_type": "code",
   "execution_count": 16,
   "metadata": {},
   "outputs": [
    {
     "data": {
      "image/png": "[encoded data removed]",
      "text/plain": [
       "<Figure size 432x284 with 1 Axes>"
      ]
     },
     "metadata": {
      "needs_background": "light"
     },
     "output_type": "display_data"
    }
   ],
   "source": [
    "path = [(0.0707, 0.0702), (0.141, 0.139), (0.212, 0.208), (0.283, 0.275), (0.354, 0.341), (0.424, 0.407), (0.495, 0.471), (0.566, 0.534), (0.636, 0.597), (0.707, 0.658), (0.778, 0.719), (0.849, 0.778), (0.919, 0.836), (0.99, 0.894), (1.06, 0.95), (1.13, 1.01), (1.2, 1.06), (1.27, 1.11), (1.34, 1.17), (1.41, 1.22), (1.48, 1.27), (1.56, 1.32), (1.63, 1.37), (1.7, 1.41), (1.77, 1.46), (1.84, 1.51), (1.91, 1.55), (1.98, 1.6), (2.05, 1.64), (2.12, 1.68), (2.19, 1.72), (2.26, 1.76), (2.33, 1.8), (2.4, 1.84), (2.47, 1.87), (2.55, 1.91), (2.62, 1.95), (2.69, 1.98), (2.76, 2.01), (2.83, 2.04), (2.9, 2.08), (2.97, 2.11), (3.04, 2.13), (3.11, 2.16), (3.18, 2.19), (3.25, 2.22), (3.32, 2.24), (3.39, 2.27), (3.46, 2.29), (3.54, 2.31), (3.61, 2.33), (3.68, 2.35), (3.75, 2.37), (3.82, 2.39), (3.89, 2.41), (3.96, 2.42), (4.03, 2.44), (4.1, 2.45), (4.17, 2.47), (4.24, 2.48), (4.31, 2.49), (4.38, 2.5), (4.45, 2.51), (4.53, 2.52), (4.6, 2.53), (4.67, 2.53), (4.74, 2.54), (4.81, 2.54), (4.88, 2.55), (4.95, 2.55), (5.02, 2.55), (5.09, 2.55), (5.16, 2.55), (5.23, 2.55), (5.3, 2.55), (5.37, 2.54), (5.44, 2.54), (5.52, 2.53), (5.59, 2.53), (5.66, 2.52), (5.73, 2.51), (5.8, 2.5), (5.87, 2.49), (5.94, 2.48), (6.01, 2.47), (6.08, 2.46), (6.15, 2.44), (6.22, 2.43), (6.29, 2.41), (6.36, 2.39), (6.43, 2.38), (6.51, 2.36), (6.58, 2.34), (6.65, 2.32), (6.72, 2.3), (6.79, 2.27), (6.86, 2.25), (6.93, 2.22), (7.0, 2.2), (7.07, 2.17), (7.14, 2.14), (7.21, 2.11), (7.28, 2.08), (7.35, 2.05), (7.42, 2.02), (7.5, 1.99), (7.57, 1.96), (7.64, 1.92), (7.71, 1.89), (7.78, 1.85), (7.85, 1.81), (7.92, 1.77), (7.99, 1.73), (8.06, 1.69), (8.13, 1.65), (8.2, 1.61), (8.27, 1.57), (8.34, 1.52), (8.41, 1.48), (8.49, 1.43), (8.56, 1.38), (8.63, 1.33), (8.7, 1.28), (8.77, 1.23), (8.84, 1.18), (8.91, 1.13), (8.98, 1.08), (9.05, 1.02), (9.12, 0.968), (9.19, 0.911), (9.26, 0.854), (9.33, 0.796), (9.4, 0.737), (9.48, 0.677), (9.55, 0.616), (9.62, 0.554), (9.69, 0.491), (9.76, 0.427), (9.83, 0.361), (9.9, 0.295), (9.97, 0.229), (10.0, 0.161), (10.1, 0.0916), (10.2, 0.0217)]\n",
    "\n",
    "X = []\n",
    "Y = []\n",
    "\n",
    "for item in path:\n",
    "\n",
    "    X.append(item[0])\n",
    "    Y.append(item[1])\n",
    "\n",
    "plt.ion()\n",
    "animated_plot = plt.plot(X, Y, 'ro')[0]\n",
    "\n",
    "for i in range(len(X)):\n",
    "    animated_plot.set_xdata(X[0:i])\n",
    "    animated_plot.set_ydata(Y[0:i])\n",
    "    plt.draw()\n",
    "    plt.pause(0.1)"
   ]
  },
  {
   "cell_type": "code",
   "execution_count": null,
   "metadata": {},
   "outputs": [],
   "source": []
  }
 ],
 "metadata": {
  "kernelspec": {
   "display_name": "Python 3",
   "language": "python",
   "name": "python3"
  },
  "language_info": {
   "codemirror_mode": {
    "name": "ipython",
    "version": 3
   },
   "file_extension": ".py",
   "mimetype": "text/x-python",
   "name": "python",
   "nbconvert_exporter": "python",
   "pygments_lexer": "ipython3",
   "version": "3.7.1"
  }
 },
 "nbformat": 4,
 "nbformat_minor": 2
}
