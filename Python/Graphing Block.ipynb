{
 "cells": [
  {
   "cell_type": "code",
   "execution_count": 1,
   "metadata": {},
   "outputs": [],
   "source": [
    "import time\n",
    "import numpy as np\n",
    "import pandas as pd\n",
    "\n",
    "#pyqtgraph -> fast plotting\n",
    "import pyqtgraph as pg\n",
    "from pyqtgraph.Qt import QtCore, QtGui\n",
    "%gui qt5\n",
    "\n",
    "import signal\n",
    "signal.signal(signal.SIGINT, signal.SIG_DFL)\n",
    "\n",
    "import sys\n",
    "from PyQt5.QtCore import QCoreApplication\n",
    "import signal\n",
    "signal.signal(signal.SIGINT, signal.SIG_DFL)\n",
    "\n",
    "import sys\n",
    "from PyQt5.QtCore import QCoreApplication"
   ]
  },
  {
   "cell_type": "code",
   "execution_count": null,
   "metadata": {},
   "outputs": [],
   "source": [
    "#close python app\n",
    "app = QCoreApplication(sys.argv)\n",
    "app.exec_()"
   ]
  },
  {
   "cell_type": "markdown",
   "metadata": {},
   "source": [
    "### Read and plot "
   ]
  },
  {
   "cell_type": "code",
   "execution_count": 2,
   "metadata": {},
   "outputs": [],
   "source": [
    "#set up plottig GUI\n",
    "app = QtGui.QApplication([])\n",
    "pg.setConfigOption('background','w')   "
   ]
  },
  {
   "cell_type": "code",
   "execution_count": 4,
   "metadata": {},
   "outputs": [],
   "source": [
    "win = pg.GraphicsWindow(title=\"Occupancy Detection GUI\")\n",
    "plot1 = win.addPlot()\n",
    "plot1.setXRange(-6,6)\n",
    "plot1.setYRange(0,6)\n",
    "plot1.setLabel('left',text = 'Y position (m)')\n",
    "plot1.setLabel('bottom', text= 'X position (m)')\n",
    "s1 = plot1.plot([],[],pen=None,symbol='o')\n",
    "#use HTML tags to specify colour and size\n",
    "# box = win.addViewBox()\n",
    "occupancyEstimate = pg.TextItem(text=\"Occupancy Estimate: 0\", color=(255,255,255), \n",
    "                                anchor=(0.5,0.5), border='w', fill=(0, 0, 255, 100))\n",
    "plot1.addItem(occupancyEstimate)"
   ]
  },
  {
   "cell_type": "code",
   "execution_count": null,
   "metadata": {},
   "outputs": [],
   "source": [
    "# while true is to enable the block to keep reading from the file \n",
    "while True:\n",
    "    #read all information from the file\n",
    "    try:\n",
    "        targetInformation = pd.read_csv(\"TargetData.csv\", usecols=['TargetID', 'X', 'Y'])\n",
    "    except:\n",
    "        continue\n",
    "    #remove all information within the file\n",
    "    open(\"TargetData.csv\", \"w\").close()\n",
    "\n",
    "    #plot the required information\n",
    "    if len(targetInformation.values) > 0:\n",
    "        targetX = targetInformation['X'].values\n",
    "        targetY = targetInformation['Y'].values\n",
    "        s1.setData(targetX, targetY)\n",
    "        numberOfTargets = len(targetInformation.values)\n",
    "        message = \"Occupancy Estimate: \" + str(numberOfTargets)\n",
    "        plot1.removeItem(occupancyEstimate)\n",
    "        occupancyEstimate = pg.TextItem(text=message, color=(255,255,255), \n",
    "                                anchor=(0.5,0.5), border='w', fill=(0, 0, 255, 100))\n",
    "        plot1.addItem(occupancyEstimate)\n",
    "        QtGui.QApplication.processEvents() \n",
    "    time.sleep(1)"
   ]
  },
  {
   "cell_type": "code",
   "execution_count": null,
   "metadata": {},
   "outputs": [],
   "source": [
    "TargetID,X,Y\n",
    "1,1,3\n",
    "2,2,4"
   ]
  },
  {
   "cell_type": "code",
   "execution_count": null,
   "metadata": {},
   "outputs": [],
   "source": []
  },
  {
   "cell_type": "code",
   "execution_count": null,
   "metadata": {},
   "outputs": [],
   "source": []
  }
 ],
 "metadata": {
  "kernelspec": {
   "display_name": "Python 3",
   "language": "python",
   "name": "python3"
  },
  "language_info": {
   "codemirror_mode": {
    "name": "ipython",
    "version": 3
   },
   "file_extension": ".py",
   "mimetype": "text/x-python",
   "name": "python",
   "nbconvert_exporter": "python",
   "pygments_lexer": "ipython3",
   "version": "3.7.1"
  }
 },
 "nbformat": 4,
 "nbformat_minor": 2
}
