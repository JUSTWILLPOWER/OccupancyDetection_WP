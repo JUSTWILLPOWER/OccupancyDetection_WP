{
 "cells": [
  {
   "cell_type": "code",
   "execution_count": 4,
   "metadata": {},
   "outputs": [],
   "source": [
    "import numpy as np \n",
    "import pandas as pd\n",
    "from sklearn.metrics import zero_one_loss, mean_squared_error\n",
    "import time\n",
    "import matplotlib.pyplot as plt\n",
    "import os\n",
    "import seaborn as sns \n",
    "import matplotlib.pyplot as plt\n",
    "\n",
    "from scipy.integrate import quad\n",
    "from numpy import sqrt, sin, cos, pi\n",
    "\n",
    "%matplotlib qt"
   ]
  },
  {
   "cell_type": "code",
   "execution_count": 37,
   "metadata": {},
   "outputs": [],
   "source": [
    "#get all required dataset files\n",
    "tiVsAlgFiles = os.listdir('C:\\\\Users\\\\hasna\\\\Documents\\\\GitHub\\\\OccupancyDetection\\\\Results\\\\Algorithm vs TI')\n",
    "groundTruthFiles = os.listdir('C:\\\\Users\\\\hasna\\\\Documents\\\\GitHub\\\\OccupancyDetection\\\\Results\\\\Ground Truth')"
   ]
  },
  {
   "cell_type": "code",
   "execution_count": 19,
   "metadata": {},
   "outputs": [],
   "source": [
    "#location datasets\n",
    "#note X1 dataset - (x,y) = (-1.5,2.5)\n",
    "#X2 dataset - (1.8,4)\n",
    "#X3 dataset - (1.8,2.5)"
   ]
  },
  {
   "cell_type": "markdown",
   "metadata": {},
   "source": [
    "### Accuracy"
   ]
  },
  {
   "cell_type": "code",
   "execution_count": 105,
   "metadata": {},
   "outputs": [
    {
     "data": {
      "text/plain": [
       "Text(0.5, 0, 'Accuracy %')"
      ]
     },
     "execution_count": 105,
     "metadata": {},
     "output_type": "execute_result"
    }
   ],
   "source": [
    "accuracy = np.array([])\n",
    "for name in tiVsAlgFiles:\n",
    "    path = 'C:\\\\Users\\\\hasna\\\\Documents\\\\GitHub\\\\OccupancyDetection\\\\Results\\\\Algorithm vs TI\\\\' + name\n",
    "    tiVsAlgDf = pd.read_csv(path, usecols=['TI', 'Group 16'], dtype=int)\n",
    "    path = 'C:\\\\Users\\\\hasna\\\\Documents\\\\GitHub\\\\OccupancyDetection\\\\Results\\\\Ground Truth\\\\' + name\n",
    "    groundTruthDf = pd.read_csv(path, usecols=['Expected Kalman'], dtype=int)\n",
    "    maxNumberOfPeople = name[0]\n",
    "    #remove rows with 111 in them (invalid rows)\n",
    "    mask = np.logical_not(np.equal(groundTruthDf.values, 111))\n",
    "    groundTruthDf = groundTruthDf[mask]\n",
    "    tiVsAlgDf = tiVsAlgDf[mask]\n",
    "    \n",
    "    #compare the ground truth to TI\n",
    "    if accuracy.size == 0:\n",
    "        accuracy = np.array([np.subtract(100,zero_one_loss(groundTruthDf['Expected Kalman'], tiVsAlgDf['TI'])*100),\n",
    "                             zero_one_loss(groundTruthDf['Expected Kalman'], tiVsAlgDf['TI'], normalize=False),\n",
    "                             'TI', name,maxNumberOfPeople,groundTruthDf['Expected Kalman'].shape[0]])\n",
    "        accuracy = np.vstack((accuracy, np.array([np.subtract(100,zero_one_loss(groundTruthDf['Expected Kalman'], tiVsAlgDf['Group 16'])*100), \n",
    "                                                  zero_one_loss(groundTruthDf['Expected Kalman'], tiVsAlgDf['Group 16'], normalize=False),\n",
    "                                                  'Group16',name,maxNumberOfPeople,groundTruthDf['Expected Kalman'].shape[0]])))\n",
    "    else:\n",
    "        accuracy = np.vstack((accuracy, np.array([np.subtract(100,zero_one_loss(groundTruthDf['Expected Kalman'], tiVsAlgDf['TI'])*100), \n",
    "                                                  zero_one_loss(groundTruthDf['Expected Kalman'], tiVsAlgDf['TI'], normalize=False),\n",
    "                                                  'TI',name,maxNumberOfPeople,groundTruthDf['Expected Kalman'].shape[0]])))\n",
    "    \n",
    "        accuracy = np.vstack((accuracy, np.array([np.subtract(100,zero_one_loss(groundTruthDf['Expected Kalman'], tiVsAlgDf['Group 16'])*100), \n",
    "                                                  zero_one_loss(groundTruthDf['Expected Kalman'], tiVsAlgDf['Group 16'], normalize=False),\n",
    "                                                  'Group16',name,maxNumberOfPeople,groundTruthDf['Expected Kalman'].shape[0]])))\n",
    "\n",
    "accuracyDf = pd.DataFrame(accuracy)\n",
    "accuracyDf.columns = ['Accuracy %', 'Misclassifications Amount', 'Group', 'Dataset', 'Number Of People', 'Total Frames']\n",
    "accuracyDf['Accuracy %'] = accuracyDf['Accuracy %'].astype(dtype=np.float32)\n",
    "\n",
    "fig, ax = plt.subplots()\n",
    "fig.set_size_inches(11.8, 8.3)\n",
    "accuracyDf['Dataset'] = pd.Series([datasetName[:-4]for datasetName in accuracyDf['Dataset']]) #remove .csv from files\n",
    "accPlot = sns.barplot(y='Dataset', x='Accuracy %', hue='Group', data=accuracyDf,orient='h',hue_order=[\"Group16\", \"TI\"])\n",
    "accPlot.set_title('Accuracy % versus Dataset')\n",
    "accPlot.set_xlabel('Accuracy %')\n"
   ]
  },
  {
   "cell_type": "markdown",
   "metadata": {
    "scrolled": true
   },
   "source": [
    "### Accuracy versus Number of People"
   ]
  },
  {
   "cell_type": "code",
   "execution_count": 193,
   "metadata": {},
   "outputs": [],
   "source": [
    "#run code above first\n",
    "accuracyDf['Number Of People'] = accuracyDf['Number Of People'].astype(dtype=int)\n",
    "accuracyDf['Accuracy %'] = accuracyDf['Accuracy %'].astype(dtype=float)\n",
    "accuracyDf['Total Frames'] = accuracyDf['Total Frames'].astype(dtype=int)\n",
    "accuracyOverall = np.array([])\n",
    "\n",
    "for peopleCount in range(1,6):\n",
    "    mask = np.equal(accuracyDf['Number Of People'],peopleCount)\n",
    "    requiredFrame = accuracyDf[mask]\n",
    "    tiMask = np.equal(requiredFrame['Group'], 'TI')\n",
    "    \n",
    "    totalFrames = np.sum(requiredFrame[tiMask]['Total Frames'])\n",
    "    accurayFramesTI = int(np.sum(np.multiply(requiredFrame[tiMask]['Accuracy %']/100,\n",
    "                                             requiredFrame[tiMask]['Total Frames'])))\n",
    "    accuracyFramesG16 = int(np.sum(np.multiply(requiredFrame[np.logical_not(tiMask)]['Accuracy %']/100,\n",
    "                                               requiredFrame[tiMask]['Total Frames'])))\n",
    "    accuracyTI = (accurayFramesTI/totalFrames) * 100\n",
    "    accuracyG16 = (accuracyFramesG16/totalFrames) * 100\n",
    "    \n",
    "    if accuracyOverall.size == 0:\n",
    "        accuracyOverall = np.array([peopleCount,accuracyTI, 'TI'])\n",
    "        accuracyOverall = np.vstack((accuracyOverall,np.array([peopleCount,accuracyG16, 'Group16'])))\n",
    "    else:\n",
    "        accuracyOverall = np.vstack((accuracyOverall,np.array([peopleCount,accuracyTI, 'TI'])))\n",
    "        accuracyOverall = np.vstack((accuracyOverall,np.array([peopleCount,accuracyG16, 'Group16'])))\n",
    "    \n",
    "        \n",
    "accuracyOverallDf = pd.DataFrame(accuracyOverall)\n",
    "accuracyOverallDf.columns = ['PeopleCount', 'Accuracy', 'Group']\n",
    "\n",
    "fig, ax = plt.subplots()\n",
    "fig.set_size_inches(11.8, 8.3)\n",
    "accuracyOverallDf['Accuracy']=accuracyOverallDf['Accuracy'].astype(dtype=np.float32)\n",
    "accOverallPlot = sns.barplot(x='PeopleCount',y='Accuracy',hue='Group', data=accuracyOverallDf, hue_order=[\"Group16\", \"TI\"])\n",
    "accOverallPlot.set_xlabel('Number of People')\n",
    "accOverallPlot.set_ylabel('Accuracy %')\n",
    "accOverallPlot.set_title('Accuracy % versus Number Of People')\n",
    "#values inside the bars\n",
    "for p in accOverallPlot.patches:\n",
    "    height = p.get_height()\n",
    "    ax.text(p.get_x()+p.get_width()/2.,\n",
    "            height-5,\n",
    "            '{:1.2f}'.format(height),\n",
    "            ha=\"center\") "
   ]
  },
  {
   "cell_type": "markdown",
   "metadata": {},
   "source": [
    "## Overall Accuracy"
   ]
  },
  {
   "cell_type": "code",
   "execution_count": 205,
   "metadata": {},
   "outputs": [],
   "source": [
    "tiMask = np.equal(accuracyDf['Group'], 'TI')\n",
    "requiredFrame = accuracyDf[tiMask]\n",
    "totalFrames = np.sum(requiredFrame['Total Frames'])\n",
    "totalTIMisclassifications = np.sum(requiredFrame['Misclassifications Amount'].astype(int))\n",
    "overallTIAccuracy = (1 - (totalTIMisclassifications/totalFrames)) * 100\n",
    "totalAccuracy = np.array([overallTIAccuracy,'TI'])\n",
    "\n",
    "Gp16Mask = np.equal(accuracyDf['Group'], 'Group16')\n",
    "requiredFrame = accuracyDf[Gp16Mask]\n",
    "totalFrames = np.sum(requiredFrame['Total Frames'])\n",
    "totalGPMisclassifications = np.sum(requiredFrame['Misclassifications Amount'].astype(int))\n",
    "overallGPAccuracy = (1 - (totalGPMisclassifications/totalFrames)) * 100\n",
    "\n",
    "totalAccuracy = np.vstack((totalAccuracy,np.array([overallGPAccuracy,'Group 16'])))\n",
    "totalAccuracyDf = pd.DataFrame(totalAccuracy, columns=['Accuracy %', 'Group'])\n",
    "totalAccuracyDf['Accuracy %'] = totalAccuracyDf['Accuracy %'].astype(float)\n",
    "\n",
    "fig, ax = plt.subplots()\n",
    "fig.set_size_inches(11.8, 8.3)\n",
    "accOverallPlot = sns.barplot(x='Group',y='Accuracy %', data=totalAccuracyDf, order=['Group 16', 'TI'])\n",
    "accOverallPlot.set_xlabel('System')\n",
    "accOverallPlot.set_ylabel('Accuracy %')\n",
    "accOverallPlot.set_title('Accuracy % versus System')\n",
    "#values inside the bars\n",
    "for p in accOverallPlot.patches:\n",
    "    height = p.get_height()\n",
    "    ax.text(p.get_x()+p.get_width()/2.,\n",
    "            height-5,\n",
    "            '{:1.2f}'.format(height),\n",
    "            ha=\"center\") "
   ]
  },
  {
   "cell_type": "markdown",
   "metadata": {},
   "source": [
    "## Location (KF Accuracy Graphs)"
   ]
  },
  {
   "cell_type": "code",
   "execution_count": 194,
   "metadata": {
    "scrolled": true
   },
   "outputs": [],
   "source": [
    "xRMSE = np.array([])\n",
    "yRMSE = np.array([])\n",
    "for name in tiVsAlgFiles:\n",
    "    try:\n",
    "        path = 'C:\\\\Users\\\\hasna\\\\Documents\\\\GitHub\\\\OccupancyDetection\\\\Results\\\\Algorithm vs TI\\\\' + name\n",
    "        tiVsAlgDf = pd.read_csv(path, usecols=['xTi', 'yTi', 'xGroup16', 'yGroup16'], dtype=np.float32)\n",
    "        path = 'C:\\\\Users\\\\hasna\\\\Documents\\\\GitHub\\\\OccupancyDetection\\\\Results\\\\Ground Truth\\\\' + name\n",
    "        groundTruthDf = pd.read_csv(path, usecols=['Expected X', 'Expected Y'], dtype=np.float32)\n",
    "    except ValueError: #if not a location based dataset\n",
    "        continue\n",
    "\n",
    "    \n",
    "    #remove rows with NaN in them (invalid rows)\n",
    "    mask = np.logical_and(np.logical_not(np.isnan(tiVsAlgDf['xGroup16'])),np.logical_not(np.isnan(tiVsAlgDf['xTi'])))\n",
    "    groundTruthDf = groundTruthDf[mask]\n",
    "    tiVsAlgDf = tiVsAlgDf[mask]\n",
    "    \n",
    "    #calculate error in x direction (for both TI and Group16 Algorithm)\n",
    "    if xRMSE.size == 0:\n",
    "        rmseAlg = np.sqrt(mean_squared_error(groundTruthDf['Expected X'], tiVsAlgDf['xGroup16']))\n",
    "        xRMSE = np.array([rmseAlg, 'Group16', name])\n",
    "        rmseTi = np.sqrt(mean_squared_error(groundTruthDf['Expected X'], tiVsAlgDf['xTi']))\n",
    "        xRMSE = np.vstack((xRMSE,np.array([rmseTi,'TI',name])))\n",
    "    else:\n",
    "        rmseAlg = np.sqrt(mean_squared_error(groundTruthDf['Expected X'], tiVsAlgDf['xGroup16']))\n",
    "        xRMSE = np.vstack((xRMSE,np.array([rmseAlg, 'Group16',name])))\n",
    "        rmseTi = np.sqrt(mean_squared_error(groundTruthDf['Expected X'], tiVsAlgDf['xTi']))\n",
    "        xRMSE = np.vstack((xRMSE,np.array([rmseTi,'TI',name])))\n",
    "        \n",
    "    #calculate error in y direction (for both TI and Group16 Algorithm)\n",
    "    if yRMSE.size == 0:\n",
    "        rmseAlg = np.sqrt(mean_squared_error(groundTruthDf['Expected Y'], tiVsAlgDf['yGroup16']))\n",
    "        yRMSE = np.array([rmseAlg, 'Group16', name])\n",
    "        rmseTi = np.sqrt(mean_squared_error(groundTruthDf['Expected Y'], tiVsAlgDf['yTi']))\n",
    "        yRMSE = np.vstack((yRMSE,np.array([rmseTi,'TI',name])))\n",
    "    else:\n",
    "        rmseAlg = np.sqrt(mean_squared_error(groundTruthDf['Expected Y'], tiVsAlgDf['yGroup16']))\n",
    "        yRMSE = np.vstack((yRMSE,np.array([rmseAlg, 'Group16',name])))\n",
    "        rmseTi = np.sqrt(mean_squared_error(groundTruthDf['Expected Y'], tiVsAlgDf['yTi']))\n",
    "        yRMSE = np.vstack((yRMSE,np.array([rmseTi,'TI',name])))\n",
    "        \n",
    "    \n",
    "rmse = np.hstack((np.expand_dims(yRMSE[:,0], axis=1),xRMSE))\n",
    "rmseDf = pd.DataFrame(rmse)\n",
    "rmseDf.columns = ['yRMSE','xRMSE', 'Group', 'Dataset']\n",
    "rmseDf['xRMSE'] = rmseDf['xRMSE'].astype(dtype=np.float32)\n",
    "rmseDf['yRMSE'] = rmseDf['yRMSE'].astype(dtype=np.float32)\n",
    "\n",
    "#plot x y rmse\n",
    "fig, ax = plt.subplots()\n",
    "fig.set_size_inches(11.8, 8.3)\n",
    "xrmsePlot = sns.barplot(x='Dataset', y='xRMSE', hue='Group', data=rmseDf)\n",
    "xrmsePlot.set_ylabel('Location RMSE - X Direction')\n",
    "xrmsePlot.set_title('RMSE X direction versus Dataset')\n",
    "\n",
    "#values inside the bars\n",
    "for p in xrmsePlot.patches:\n",
    "    height = p.get_height()\n",
    "    ax.text(p.get_x()+p.get_width()/2.,\n",
    "            height-0.03,\n",
    "            '{:1.2f}'.format(height),\n",
    "            ha=\"center\") \n",
    "\n",
    "fig, ax = plt.subplots()\n",
    "fig.set_size_inches(11.8, 8.3)\n",
    "yrmsePlot = sns.barplot(x='Dataset', y='yRMSE', hue='Group', data=rmseDf)\n",
    "yrmsePlot.set_ylabel('Location RMSE - Y Direction')\n",
    "yrmsePlot.set_title('RMSE Y direction versus Dataset')\n",
    "#values inside the bars\n",
    "index = 0\n",
    "for p in yrmsePlot.patches:\n",
    "    height = p.get_height()\n",
    "    ax.text(p.get_x()+p.get_width()/2.,\n",
    "            height-0.03,\n",
    "            '{:1.2f}'.format(height),\n",
    "            ha=\"center\") \n",
    "    index += 1\n",
    "    \n",
    "    "
   ]
  },
  {
   "cell_type": "markdown",
   "metadata": {},
   "source": [
    "### Error Types\n",
    "<html>\n",
    "    <ul>\n",
    "        <li> Limitations of the Algorithms </li>\n",
    "        <li> Sensor Limitations </li>\n",
    "        <ul>\n",
    "            <li> Unexplainable missing persons from within the field of view of the sensor </li>\n",
    "            <li> Occlusions </li>\n",
    "            <li> Noise from static objects </li> \n",
    "        </ul>\n",
    "    </ul>\n",
    "</html>\n"
   ]
  },
  {
   "cell_type": "markdown",
   "metadata": {},
   "source": [
    "## Parameter Optimization - Clustering"
   ]
  },
  {
   "cell_type": "code",
   "execution_count": 120,
   "metadata": {},
   "outputs": [
    {
     "data": {
      "text/plain": [
       "[(0, 100)]"
      ]
     },
     "execution_count": 120,
     "metadata": {},
     "output_type": "execute_result"
    }
   ],
   "source": [
    "bestParametersClustering = np.array([])\n",
    "clusterParameterDf = pd.read_csv(\"C:\\\\Users\\\\hasna\\\\Documents\\\\GitHub\\\\OccupancyDetection\\\\Results\\\\Parameter Optimization\\\\ParameterOptimizationData.csv\", usecols=['Index','maxDistance','minClusterSize','Accuracy %'])\n",
    "#pick min at each maxDistance and at each minClusterSize\n",
    "for maxDistance in np.unique(clusterParameterDf['maxDistance']):\n",
    "    mask = clusterParameterDf['maxDistance'] == maxDistance\n",
    "    minMissclassificationsMask = clusterParameterDf[mask]['Accuracy %']==np.max(clusterParameterDf[mask]['Accuracy %'])\n",
    "    parameterInfo = np.expand_dims(clusterParameterDf[mask][minMissclassificationsMask].values[0], axis=1)\n",
    "    if bestParametersClustering.size == 0:\n",
    "        bestParametersClustering = parameterInfo\n",
    "    else:\n",
    "        bestParametersClustering = np.hstack((bestParametersClustering,parameterInfo))\n",
    "\n",
    "parameterDf = pd.DataFrame(np.transpose(bestParametersClustering), columns=['Old Index','maxDistance', 'minClusterSize', 'Accuracy'])"
   ]
  },
  {
   "cell_type": "code",
   "execution_count": 122,
   "metadata": {},
   "outputs": [],
   "source": [
    "parameterDf.to_csv(\"C:\\\\Users\\\\hasna\\\\Documents\\\\GitHub\\\\OccupancyDetection\\\\Results\\\\Parameter Optimization\\\\OptimialParameters.csv\")"
   ]
  },
  {
   "cell_type": "code",
   "execution_count": 204,
   "metadata": {},
   "outputs": [
    {
     "data": {
      "text/plain": [
       "[(0, 100)]"
      ]
     },
     "execution_count": 204,
     "metadata": {},
     "output_type": "execute_result"
    }
   ],
   "source": [
    "#clustering scatterplot\n",
    "parameterDf = pd.read_csv(\"C:\\\\Users\\\\hasna\\\\Documents\\\\GitHub\\\\OccupancyDetection\\\\Results\\\\Parameter Optimization\\\\OptimialParameters.csv\")\n",
    "fig, (ax1,ax2,ax3) = plt.subplots(1,3)\n",
    "parameterSetPlot = sns.scatterplot(x='maxDistance', y='minClusterSize', data=parameterDf,ax=ax1)\n",
    "parameterSetPlot.set(xlim = (0,1.6))\n",
    "parameterSetPlot.set(ylim = (0,21))\n",
    "maxDistPlot = sns.scatterplot(x='maxDistance', y='Accuracy', data=parameterDf,ax=ax2)\n",
    "maxDistPlot.set(xlim = (0,1.6))\n",
    "maxDistPlot.set(ylim = (0,100))\n",
    "minClusterPlot = sns.scatterplot(x='minClusterSize', y='Accuracy',data=parameterDf,ax=ax3)\n",
    "minClusterPlot.set(xlim = (0,21))\n",
    "minClusterPlot.set(ylim = (0,100))"
   ]
  },
  {
   "cell_type": "markdown",
   "metadata": {},
   "source": [
    "## Q R Graph "
   ]
  },
  {
   "cell_type": "markdown",
   "metadata": {},
   "source": [
    "### Baseline"
   ]
  },
  {
   "cell_type": "code",
   "execution_count": 196,
   "metadata": {},
   "outputs": [],
   "source": [
    "#measured measured x vs predicted x \n",
    "#want to see predicted is smooth vs measured is jaggy \n",
    "\n",
    "#load dataset\n",
    "path = 'C:\\\\Users\\\\hasna\\\\Documents\\\\GitHub\\\\OccupancyDetection\\\\Results\\\\QR\\\\baselineQR.csv'\n",
    "qrDfBaseline = pd.read_csv(path, usecols=['x16', 'y16', 'measuredX', 'measuredY'], dtype=np.float32)\n",
    "\n",
    "#restructure qrDf into X and Y\n",
    "xLabel = np.repeat('Filtered', repeats=qrDfBaseline.shape[0])\n",
    "xLabel = np.append(xLabel, np.repeat('Measured', repeats=qrDfBaseline.shape[0]))\n",
    "xInformation = np.append(qrDfBaseline['x16'], qrDfBaseline['measuredX'])\n",
    "instance = np.append(np.arange(0,qrDfBaseline.shape[0]),np.arange(0,qrDfBaseline.shape[0]))\n",
    "qrXDf = pd.DataFrame(np.transpose(np.array([xInformation,xLabel,instance])), columns=['xData', 'xLabel', 'instance'])\n",
    "\n",
    "yLabel = np.repeat('Filtered', repeats=qrDfBaseline.shape[0])\n",
    "yLabel = np.append(yLabel, np.repeat('Measured', repeats=qrDfBaseline.shape[0]))\n",
    "yInformation = np.append(qrDfBaseline['y16'], qrDfBaseline['measuredY'])\n",
    "instance = np.append(np.arange(0,qrDfBaseline.shape[0]),np.arange(0,qrDfBaseline.shape[0]))\n",
    "qrYDf = pd.DataFrame(np.transpose(np.array([yInformation,yLabel,instance])), columns=['yData', 'yLabel', 'instance'])"
   ]
  },
  {
   "cell_type": "code",
   "execution_count": 197,
   "metadata": {},
   "outputs": [],
   "source": [
    "#baseline X\n",
    "qrXDf['xData'] = qrXDf['xData'].astype(np.float32)\n",
    "qrXDf['instance'] = qrXDf['instance'].astype(np.int)\n",
    "fig, ax = plt.subplots()\n",
    "fig.set_size_inches(15, 10)\n",
    "ax = sns.lineplot(x=\"instance\", y=\"xData\",hue=\"xLabel\", data=qrXDf)"
   ]
  },
  {
   "cell_type": "code",
   "execution_count": 198,
   "metadata": {},
   "outputs": [],
   "source": [
    "#baseline Y\n",
    "qrYDf['yData'] = qrYDf['yData'].astype(np.float32)\n",
    "qrYDf['instance'] = qrYDf['instance'].astype(np.int)\n",
    "fig, ax = plt.subplots()\n",
    "fig.set_size_inches(15, 10)\n",
    "ax = sns.lineplot(x=\"instance\", y=\"yData\",hue=\"yLabel\", data=qrYDf)"
   ]
  },
  {
   "cell_type": "markdown",
   "metadata": {},
   "source": [
    "### Modified QR"
   ]
  },
  {
   "cell_type": "code",
   "execution_count": 26,
   "metadata": {},
   "outputs": [],
   "source": [
    "#measured measured x vs predicted x \n",
    "#want to see predicted is smooth vs measured is jaggy \n",
    "\n",
    "#load dataset\n",
    "path = 'C:\\\\Users\\\\hasna\\\\Documents\\\\GitHub\\\\OccupancyDetection\\\\Results\\\\QR\\\\modifedQR1.csv'\n",
    "qrDfBaseline = pd.read_csv(path, usecols=['x16', 'y16', 'measuredX', 'measuredY'], dtype=np.float32)\n",
    "\n",
    "#restructure qrDf into X and Y\n",
    "xLabel = np.repeat('Filtered', repeats=qrDfBaseline.shape[0])\n",
    "xLabel = np.append(xLabel, np.repeat('Measured', repeats=qrDfBaseline.shape[0]))\n",
    "xInformation = np.append(qrDfBaseline['x16'], qrDfBaseline['measuredX'])\n",
    "instance = np.append(np.arange(0,qrDfBaseline.shape[0]),np.arange(0,qrDfBaseline.shape[0]))\n",
    "qrXDf = pd.DataFrame(np.transpose(np.array([xInformation,xLabel,instance])), columns=['xData', 'xLabel', 'instance'])\n",
    "\n",
    "yLabel = np.repeat('Filtered', repeats=qrDfBaseline.shape[0])\n",
    "yLabel = np.append(yLabel, np.repeat('Measured', repeats=qrDfBaseline.shape[0]))\n",
    "yInformation = np.append(qrDfBaseline['y16'], qrDfBaseline['measuredY'])\n",
    "instance = np.append(np.arange(0,qrDfBaseline.shape[0]),np.arange(0,qrDfBaseline.shape[0]))\n",
    "qrYDf = pd.DataFrame(np.transpose(np.array([yInformation,yLabel,instance])), columns=['yData', 'yLabel', 'instance'])"
   ]
  },
  {
   "cell_type": "code",
   "execution_count": 27,
   "metadata": {},
   "outputs": [
    {
     "data": {
      "image/png": "[encoded data removed]",
      "text/plain": [
       "<Figure size 1080x720 with 1 Axes>"
      ]
     },
     "metadata": {
      "needs_background": "light"
     },
     "output_type": "display_data"
    }
   ],
   "source": [
    "#Y\n",
    "qrYDf['yData'] = qrYDf['yData'].astype(np.float32)\n",
    "qrYDf['instance'] = qrYDf['instance'].astype(np.int)\n",
    "fig, ax = plt.subplots()\n",
    "fig.set_size_inches(15, 10)\n",
    "ax = sns.lineplot(x=\"instance\", y=\"yData\",hue=\"yLabel\", data=qrYDf)"
   ]
  },
  {
   "cell_type": "code",
   "execution_count": 28,
   "metadata": {},
   "outputs": [
    {
     "data": {
      "image/png": "[encoded data removed]",
      "text/plain": [
       "<Figure size 1080x720 with 1 Axes>"
      ]
     },
     "metadata": {
      "needs_background": "light"
     },
     "output_type": "display_data"
    }
   ],
   "source": [
    "#X\n",
    "qrXDf['xData'] = qrXDf['xData'].astype(np.float32)\n",
    "qrXDf['instance'] = qrXDf['instance'].astype(np.int)\n",
    "fig, ax = plt.subplots()\n",
    "fig.set_size_inches(15, 10)\n",
    "ax = sns.lineplot(x=\"instance\", y=\"xData\",hue=\"xLabel\", data=qrXDf)"
   ]
  },
  {
   "cell_type": "markdown",
   "metadata": {},
   "source": [
    "## Heatmap of Error"
   ]
  },
  {
   "cell_type": "code",
   "execution_count": 14,
   "metadata": {},
   "outputs": [],
   "source": [
    "#voxel splitting\n",
    "#sensorRange\n",
    "def integrand(x, a, b):\n",
    "    return -a*b*sin(x)*sin(x)\n",
    "\n",
    "a = 6\n",
    "b = 5\n",
    "areaSensorRange = np.abs(quad(integrand, (40/180)*pi, (140/180)*pi, args=(a,b))[0])\n",
    "equivalentRecX = 9\n",
    "equivalentRecY = 6\n",
    "heatmapData = np.random.rand(equivalentRecX,equivalentRecY)\n",
    "\n",
    "a = 1\n",
    "b = 1\n",
    "areaVoxel = a*b\n",
    "\n",
    "numberOfVoxels = round(areaSensorRange/areaVoxel)\n",
    "\n",
    "fig, (ax1,ax2) = plt.subplots(2)\n",
    "fig.set_size_inches(20, 20)\n",
    "\n",
    "#load voxel\n",
    "path = 'C:\\\\Users\\\\hasna\\\\Documents\\\\GitHub\\\\OccupancyDetection\\\\Results\\\\Heatmap\\\\Voxel Data.csv'\n",
    "voxelDf = pd.read_csv(path)\n",
    "voxelData = np.reshape(voxelDf['% Conditional Accuracy'].values, (equivalentRecY,equivalentRecX))\n",
    "voxelData = np.flip(voxelData,axis=0) #flip to get right orientation\n",
    "heat_map = sns.heatmap(voxelData,square=False,annot=False,xticklabels=[], yticklabels=[] ,ax=ax1,cmap=\"YlGnBu\",vmin=50, vmax=100)"
   ]
  },
  {
   "cell_type": "markdown",
   "metadata": {},
   "source": [
    "## Sensor Range Map"
   ]
  },
  {
   "cell_type": "code",
   "execution_count": 15,
   "metadata": {},
   "outputs": [],
   "source": [
    "maxAz = 140\n",
    "minAz = 40\n",
    "\n",
    "rangeSteps = np.arange(1,6.05, step=0.05)\n",
    "azSteps = np.arange((minAz/180)*pi,(maxAz/180)*pi + (1/180)*pi, step=(1/180)*pi)\n",
    "\n",
    "#sides\n",
    "SidesX = np.multiply(rangeSteps,cos((maxAz/180)*pi))\n",
    "SidesX = np.append(SidesX,np.multiply(rangeSteps,cos((minAz/180)*pi)))\n",
    "SidesY = np.multiply(rangeSteps,sin((maxAz/180)*pi))\n",
    "SidesY = np.append(SidesY,np.multiply(rangeSteps,sin((minAz/180)*pi)))\n",
    "\n",
    "#top edge\n",
    "topX = np.multiply(6,cos(azSteps))\n",
    "topY = np.multiply(6,sin(azSteps))\n",
    "\n",
    "sideDf = pd.DataFrame(np.transpose(np.array([SidesX, SidesY])), columns = ['X', 'Y'])\n",
    "sensorPlot = sns.lineplot(x=\"X\", y=\"Y\",data=sideDf,color=\"#34495e\")\n",
    "\n",
    "topDf = pd.DataFrame(np.transpose(np.array([topX, topY])), columns = ['X', 'Y'])\n",
    "sensorPlot = sns.lineplot(x=\"X\", y=\"Y\",data=topDf,color=\"#34495e\",ax=ax2)\n",
    "#save figure\n",
    "fig.savefig('plot.svg')"
   ]
  },
  {
   "cell_type": "markdown",
   "metadata": {},
   "source": [
    "### Live Demo Timing Analysis"
   ]
  },
  {
   "cell_type": "code",
   "execution_count": 218,
   "metadata": {},
   "outputs": [
    {
     "name": "stdout",
     "output_type": "stream",
     "text": [
      "Rectangle(xy=(-0.4, 0), width=0.8, height=5.139, angle=0)\n",
      "Rectangle(xy=(0.6, 0), width=0.8, height=9.683, angle=0)\n",
      "Rectangle(xy=(1.6, 0), width=0.8, height=14.652, angle=0)\n",
      "Rectangle(xy=(2.6, 0), width=0.8, height=30.257, angle=0)\n",
      "Rectangle(xy=(3.6, 0), width=0.8, height=34.916, angle=0)\n"
     ]
    }
   ],
   "source": [
    "#1000 iterations over all datasets finding average numbers for each dataset (1 to 5 people)\n",
    "\n",
    "#import timing data\n",
    "timingDf = pd.read_csv(\"C:\\\\Users\\\\hasna\\\\Documents\\\\GitHub\\\\OccupancyDetection\\\\Results\\\\Timing Analysis\\\\Timing Data.csv\",\n",
    "                      usecols=['Number Of People', 'Iteration','Runtime'])\n",
    "\n",
    "timingData = np.array([])\n",
    "#average runtime per number of People\n",
    "for numberOfPeople in range(1,6):\n",
    "    mask = timingDf['Number Of People'] == numberOfPeople\n",
    "    subsetTimingDf = timingDf[mask]\n",
    "    averageTiming = np.mean(timingDf[mask]['Runtime'])\n",
    "    if timingData.size == 0:\n",
    "        timingData = np.array([numberOfPeople,averageTiming])\n",
    "    else:\n",
    "        timingData = np.vstack((timingData,np.array([numberOfPeople,averageTiming])))\n",
    "\n",
    "averageTimeDf = pd.DataFrame(timingData, columns=['Number Of People', 'Average Time (ms)'])\n",
    "averageTimeDf['Number Of People'] = averageTimeDf['Number Of People'].astype(int)\n",
    "averagePlot = sns.barplot(x='Number Of People',y='Average Time (ms)', data=averageTimeDf)\n",
    "\n",
    "for p in averagePlot.patches:\n",
    "    height = p.get_height()\n",
    "    averagePlot.text(p.get_x()+p.get_width()/2.,\n",
    "            height-2,\n",
    "            '{:1.2f}'.format(height),\n",
    "            ha=\"center\") "
   ]
  },
  {
   "cell_type": "markdown",
   "metadata": {},
   "source": [
    "### Performance Gains"
   ]
  },
  {
   "cell_type": "code",
   "execution_count": 209,
   "metadata": {},
   "outputs": [],
   "source": [
    "performanceDf = pd.read_csv(\"C:\\\\Users\\\\hasna\\\\Documents\\\\GitHub\\\\OccupancyDetection\\\\Results\\\\Timing Analysis\\\\NoiseRemovalPerformanceGains.csv\",\n",
    "                      usecols=['Number Of People', 'Iteration','Runtime', 'With/Without'])"
   ]
  },
  {
   "cell_type": "code",
   "execution_count": 220,
   "metadata": {},
   "outputs": [],
   "source": [
    "#calculate average \n",
    "timingData = np.array([])\n",
    "#average runtime per number of People\n",
    "timingDf = performanceDf[performanceDf['With/Without'] == 'With Preliminary Noise Reduction']\n",
    "for numberOfPeople in range(1,6):\n",
    "    mask = timingDf['Number Of People'] == numberOfPeople\n",
    "    subsetTimingDf = timingDf[mask]\n",
    "    averageTiming = np.mean(timingDf[mask]['Runtime'])\n",
    "    if timingData.size == 0:\n",
    "        timingData = np.array([numberOfPeople,averageTiming, 'With'])\n",
    "    else:\n",
    "        timingData = np.vstack((timingData,np.array([numberOfPeople,averageTiming, 'With'])))\n",
    "\n",
    "timingDf = performanceDf[performanceDf['With/Without'] == 'Without Preliminary Noise Reduction']\n",
    "for numberOfPeople in range(1,6):\n",
    "    mask = timingDf['Number Of People'] == numberOfPeople\n",
    "    subsetTimingDf = timingDf[mask]\n",
    "    averageTiming = np.mean(timingDf[mask]['Runtime'])\n",
    "    if timingData.size == 0:\n",
    "        timingData = np.array([numberOfPeople,averageTiming, 'Without'])\n",
    "    else:\n",
    "        timingData = np.vstack((timingData,np.array([numberOfPeople,averageTiming, 'Without'])))\n",
    "\n",
    "averageTimeDf = pd.DataFrame(timingData, columns=['Number Of People', 'Average Time (ms)', 'With/Without'])\n",
    "averageTimeDf['Number Of People'] = averageTimeDf['Number Of People'].astype(int)\n",
    "averageTimeDf['Average Time (ms)'] = averageTimeDf['Average Time (ms)'].astype(float)\n",
    "noisePlot = sns.barplot(x='Number Of People',y='Average Time (ms)', hue='With/Without',data=averageTimeDf)\n",
    "noisePlot.set_title('With and Without Preliminary Noise Removal')\n",
    "\n",
    "for p in noisePlot.patches:\n",
    "    height = p.get_height()\n",
    "    noisePlot.text(p.get_x()+p.get_width()/2.,\n",
    "            height-2,\n",
    "            '{:1.2f}'.format(height),\n",
    "            ha=\"center\") "
   ]
  },
  {
   "cell_type": "code",
   "execution_count": null,
   "metadata": {},
   "outputs": [],
   "source": []
  },
  {
   "cell_type": "code",
   "execution_count": null,
   "metadata": {},
   "outputs": [],
   "source": []
  },
  {
   "cell_type": "code",
   "execution_count": null,
   "metadata": {},
   "outputs": [],
   "source": []
  }
 ],
 "metadata": {
  "kernelspec": {
   "display_name": "Python 3",
   "language": "python",
   "name": "python3"
  },
  "language_info": {
   "codemirror_mode": {
    "name": "ipython",
    "version": 3
   },
   "file_extension": ".py",
   "mimetype": "text/x-python",
   "name": "python",
   "nbconvert_exporter": "python",
   "pygments_lexer": "ipython3",
   "version": "3.7.1"
  }
 },
 "nbformat": 4,
 "nbformat_minor": 2
}
