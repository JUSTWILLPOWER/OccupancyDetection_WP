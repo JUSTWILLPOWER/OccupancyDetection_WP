{
 "cells": [
  {
   "cell_type": "code",
   "execution_count": 1,
   "metadata": {},
   "outputs": [],
   "source": [
    "import numpy as np \n",
    "import pandas as pd\n",
    "from sklearn.metrics import zero_one_loss, mean_squared_error\n",
    "import time\n",
    "import matplotlib.pyplot as plt\n",
    "import os\n",
    "import seaborn as sns \n",
    "import matplotlib.pyplot as plt\n",
    "\n",
    "from scipy.integrate import quad\n",
    "from numpy import sqrt, sin, cos, pi\n",
    "\n",
    "%matplotlib qt"
   ]
  },
  {
   "cell_type": "code",
   "execution_count": 2,
   "metadata": {},
   "outputs": [],
   "source": [
    "#get all required dataset files\n",
    "tiVsAlgFiles = os.listdir('C:\\\\Users\\\\hasna\\\\Documents\\\\GitHub\\\\OccupancyDetection\\\\Results\\\\Algorithm vs TI')\n",
    "groundTruthFiles = os.listdir('C:\\\\Users\\\\hasna\\\\Documents\\\\GitHub\\\\OccupancyDetection\\\\Results\\\\Ground Truth')"
   ]
  },
  {
   "cell_type": "code",
   "execution_count": 19,
   "metadata": {},
   "outputs": [],
   "source": [
    "#location datasets\n",
    "#note X1 dataset - (x,y) = (-1.5,2.5)\n",
    "#X2 dataset - (1.8,4)\n",
    "#X3 dataset - (1.8,2.5)"
   ]
  },
  {
   "cell_type": "markdown",
   "metadata": {},
   "source": [
    "### Accuracy"
   ]
  },
  {
   "cell_type": "code",
   "execution_count": 9,
   "metadata": {},
   "outputs": [],
   "source": [
    "accuracy = np.array([])\n",
    "for name in tiVsAlgFiles:\n",
    "    path = 'C:\\\\Users\\\\hasna\\\\Documents\\\\GitHub\\\\OccupancyDetection\\\\Results\\\\Algorithm vs TI\\\\' + name\n",
    "    tiVsAlgDf = pd.read_csv(path, usecols=['TI', 'Group 16'], dtype=int)\n",
    "    path = 'C:\\\\Users\\\\hasna\\\\Documents\\\\GitHub\\\\OccupancyDetection\\\\Results\\\\Ground Truth\\\\' + name\n",
    "    groundTruthDf = pd.read_csv(path, usecols=['Expected Kalman'], dtype=int)\n",
    "    maxNumberOfPeople = name[0]\n",
    "    #remove rows with 111 in them (invalid rows)\n",
    "    mask = np.logical_not(np.equal(groundTruthDf.values, 111))\n",
    "    groundTruthDf = groundTruthDf[mask]\n",
    "    tiVsAlgDf = tiVsAlgDf[mask]\n",
    "    \n",
    "    #compare the ground truth to TI\n",
    "    if accuracy.size == 0:\n",
    "        accuracy = np.array([np.subtract(100,zero_one_loss(groundTruthDf['Expected Kalman'], tiVsAlgDf['TI'])*100),\n",
    "                             zero_one_loss(groundTruthDf['Expected Kalman'], tiVsAlgDf['TI'], normalize=False),\n",
    "                             'TI', name,maxNumberOfPeople,groundTruthDf['Expected Kalman'].shape[0]])\n",
    "        accuracy = np.vstack((accuracy, np.array([np.subtract(100,zero_one_loss(groundTruthDf['Expected Kalman'], tiVsAlgDf['Group 16'])*100), \n",
    "                                                  zero_one_loss(groundTruthDf['Expected Kalman'], tiVsAlgDf['Group 16'], normalize=False),\n",
    "                                                  'Group16',name,maxNumberOfPeople,groundTruthDf['Expected Kalman'].shape[0]])))\n",
    "    else:\n",
    "        accuracy = np.vstack((accuracy, np.array([np.subtract(100,zero_one_loss(groundTruthDf['Expected Kalman'], tiVsAlgDf['TI'])*100), \n",
    "                                                  zero_one_loss(groundTruthDf['Expected Kalman'], tiVsAlgDf['TI'], normalize=False),\n",
    "                                                  'TI',name,maxNumberOfPeople,groundTruthDf['Expected Kalman'].shape[0]])))\n",
    "    \n",
    "        accuracy = np.vstack((accuracy, np.array([np.subtract(100,zero_one_loss(groundTruthDf['Expected Kalman'], tiVsAlgDf['Group 16'])*100), \n",
    "                                                  zero_one_loss(groundTruthDf['Expected Kalman'], tiVsAlgDf['Group 16'], normalize=False),\n",
    "                                                  'Group16',name,maxNumberOfPeople,groundTruthDf['Expected Kalman'].shape[0]])))\n",
    "\n",
    "accuracyDf = pd.DataFrame(accuracy)\n",
    "accuracyDf.columns = ['Accuracy %', 'Misclassifications Amount', 'Group', 'Dataset', 'Number Of People', 'Total Frames']\n",
    "accuracyDf['Accuracy %'] = accuracyDf['Accuracy %'].astype(dtype=np.float32)\n",
    "\n",
    "fig, ax = plt.subplots()\n",
    "fig.set_size_inches(11.8, 8.3)\n",
    "accuracyDf['Dataset'] = pd.Series([datasetName[:-4]for datasetName in accuracyDf['Dataset']]) #remove .csv from files\n",
    "accPlot = sns.barplot(y='Dataset', x='Accuracy %', hue='Group', data=accuracyDf,orient='h',hue_order=[\"Group16\", \"TI\"])\n",
    "accPlot.set_title('Accuracy % versus Dataset')\n",
    "accPlot.set_xlabel('Accuracy %')\n",
    "sns.set(font_scale=1.5) "
   ]
  },
  {
   "cell_type": "code",
   "execution_count": 4,
   "metadata": {},
   "outputs": [
    {
     "data": {
      "text/plain": [
       "Text(0, 0.5, 'Accuracy %')"
      ]
     },
     "execution_count": 4,
     "metadata": {},
     "output_type": "execute_result"
    },
    {
     "data": {
      "image/png": "[encoded data removed]",
      "text/plain": [
       "<Figure size 432x288 with 1 Axes>"
      ]
     },
     "metadata": {
      "needs_background": "light"
     },
     "output_type": "display_data"
    }
   ],
   "source": [
    "#segment accuracy graphs into 1,2,3,4,5 people sets\n",
    "accuracyDf['Number Of People'] = accuracyDf['Number Of People'].astype(int)\n",
    "fig, ax = plt.subplots()\n",
    "i = 5\n",
    "requiredFrame = accuracyDf[accuracyDf['Number Of People'] == i]\n",
    "accPlot = sns.barplot(y='Dataset', x='Accuracy %', hue='Group', data=requiredFrame,orient='h',hue_order=[\"Group16\", \"TI\"])\n",
    "accPlot.set_title(str(i) + ' Person Samples: Accuracy % versus Dataset')\n",
    "accPlot.set_ylabel('Accuracy %')\n",
    "# #values inside the bars\n",
    "# for p in accPlot.patches:\n",
    "#     height = p.get_height()\n",
    "#     ax.text(p.get_x()+p.get_width()/2.,\n",
    "#             height-5,\n",
    "#             '{:1.2f}'.format(height),\n",
    "#             ha=\"center\")     \n",
    "# plt.legend(bbox_to_anchor=(1.01, 1), loc=2, borderaxespad=0.)\n"
   ]
  },
  {
   "cell_type": "code",
   "execution_count": null,
   "metadata": {},
   "outputs": [],
   "source": [
    "xticks1Person = "
   ]
  },
  {
   "cell_type": "markdown",
   "metadata": {
    "scrolled": true
   },
   "source": [
    "### Accuracy versus Number of People"
   ]
  },
  {
   "cell_type": "code",
   "execution_count": 17,
   "metadata": {},
   "outputs": [
    {
     "ename": "NameError",
     "evalue": "name 'accuracyDf' is not defined",
     "output_type": "error",
     "traceback": [
      "\u001b[1;31m---------------------------------------------------------------------------\u001b[0m",
      "\u001b[1;31mNameError\u001b[0m                                 Traceback (most recent call last)",
      "\u001b[1;32m<ipython-input-17-0e460d19ffc8>\u001b[0m in \u001b[0;36m<module>\u001b[1;34m\u001b[0m\n\u001b[0;32m      1\u001b[0m \u001b[1;31m#run code above first\u001b[0m\u001b[1;33m\u001b[0m\u001b[1;33m\u001b[0m\u001b[1;33m\u001b[0m\u001b[0m\n\u001b[1;32m----> 2\u001b[1;33m \u001b[0maccuracyDf\u001b[0m\u001b[1;33m[\u001b[0m\u001b[1;34m'Number Of People'\u001b[0m\u001b[1;33m]\u001b[0m \u001b[1;33m=\u001b[0m \u001b[0maccuracyDf\u001b[0m\u001b[1;33m[\u001b[0m\u001b[1;34m'Number Of People'\u001b[0m\u001b[1;33m]\u001b[0m\u001b[1;33m.\u001b[0m\u001b[0mastype\u001b[0m\u001b[1;33m(\u001b[0m\u001b[0mdtype\u001b[0m\u001b[1;33m=\u001b[0m\u001b[0mint\u001b[0m\u001b[1;33m)\u001b[0m\u001b[1;33m\u001b[0m\u001b[1;33m\u001b[0m\u001b[0m\n\u001b[0m\u001b[0;32m      3\u001b[0m \u001b[0maccuracyDf\u001b[0m\u001b[1;33m[\u001b[0m\u001b[1;34m'Accuracy %'\u001b[0m\u001b[1;33m]\u001b[0m \u001b[1;33m=\u001b[0m \u001b[0maccuracyDf\u001b[0m\u001b[1;33m[\u001b[0m\u001b[1;34m'Accuracy %'\u001b[0m\u001b[1;33m]\u001b[0m\u001b[1;33m.\u001b[0m\u001b[0mastype\u001b[0m\u001b[1;33m(\u001b[0m\u001b[0mdtype\u001b[0m\u001b[1;33m=\u001b[0m\u001b[0mfloat\u001b[0m\u001b[1;33m)\u001b[0m\u001b[1;33m\u001b[0m\u001b[1;33m\u001b[0m\u001b[0m\n\u001b[0;32m      4\u001b[0m \u001b[0maccuracyDf\u001b[0m\u001b[1;33m[\u001b[0m\u001b[1;34m'Total Frames'\u001b[0m\u001b[1;33m]\u001b[0m \u001b[1;33m=\u001b[0m \u001b[0maccuracyDf\u001b[0m\u001b[1;33m[\u001b[0m\u001b[1;34m'Total Frames'\u001b[0m\u001b[1;33m]\u001b[0m\u001b[1;33m.\u001b[0m\u001b[0mastype\u001b[0m\u001b[1;33m(\u001b[0m\u001b[0mdtype\u001b[0m\u001b[1;33m=\u001b[0m\u001b[0mint\u001b[0m\u001b[1;33m)\u001b[0m\u001b[1;33m\u001b[0m\u001b[1;33m\u001b[0m\u001b[0m\n\u001b[0;32m      5\u001b[0m \u001b[0maccuracyOverall\u001b[0m \u001b[1;33m=\u001b[0m \u001b[0mnp\u001b[0m\u001b[1;33m.\u001b[0m\u001b[0marray\u001b[0m\u001b[1;33m(\u001b[0m\u001b[1;33m[\u001b[0m\u001b[1;33m]\u001b[0m\u001b[1;33m)\u001b[0m\u001b[1;33m\u001b[0m\u001b[1;33m\u001b[0m\u001b[0m\n",
      "\u001b[1;31mNameError\u001b[0m: name 'accuracyDf' is not defined"
     ]
    }
   ],
   "source": [
    "#run code above first\n",
    "accuracyDf['Number Of People'] = accuracyDf['Number Of People'].astype(dtype=int)\n",
    "accuracyDf['Accuracy %'] = accuracyDf['Accuracy %'].astype(dtype=float)\n",
    "accuracyDf['Total Frames'] = accuracyDf['Total Frames'].astype(dtype=int)\n",
    "accuracyOverall = np.array([])\n",
    "\n",
    "for peopleCount in range(1,6):\n",
    "    mask = np.equal(accuracyDf['Number Of People'],peopleCount)\n",
    "    requiredFrame = accuracyDf[mask]\n",
    "    tiMask = np.equal(requiredFrame['Group'], 'TI')\n",
    "    \n",
    "    totalFrames = np.sum(requiredFrame[tiMask]['Total Frames'])\n",
    "    accurayFramesTI = int(np.sum(np.multiply(requiredFrame[tiMask]['Accuracy %']/100,\n",
    "                                             requiredFrame[tiMask]['Total Frames'])))\n",
    "    accuracyFramesG16 = int(np.sum(np.multiply(requiredFrame[np.logical_not(tiMask)]['Accuracy %']/100,\n",
    "                                               requiredFrame[tiMask]['Total Frames'])))\n",
    "    accuracyTI = (accurayFramesTI/totalFrames) * 100\n",
    "    accuracyG16 = (accuracyFramesG16/totalFrames) * 100\n",
    "    \n",
    "    if accuracyOverall.size == 0:\n",
    "        accuracyOverall = np.array([peopleCount,accuracyTI, 'TI'])\n",
    "        accuracyOverall = np.vstack((accuracyOverall,np.array([peopleCount,accuracyG16, 'Group16'])))\n",
    "    else:\n",
    "        accuracyOverall = np.vstack((accuracyOverall,np.array([peopleCount,accuracyTI, 'TI'])))\n",
    "        accuracyOverall = np.vstack((accuracyOverall,np.array([peopleCount,accuracyG16, 'Group16'])))\n",
    "    \n",
    "        \n",
    "accuracyOverallDf = pd.DataFrame(accuracyOverall)\n",
    "accuracyOverallDf.columns = ['PeopleCount', 'Accuracy', 'Group']\n",
    "\n",
    "\n",
    "\n",
    "fig, ax = plt.subplots()\n",
    "# fig.set_size_inches(11.8, 8.3)\n",
    "accuracyOverallDf['Accuracy']=accuracyOverallDf['Accuracy'].astype(dtype=np.float32)\n",
    "accOverallPlot = sns.barplot(x='PeopleCount',y='Accuracy',hue='Group', data=accuracyOverallDf, hue_order=[\"Group16\", \"TI\"])\n",
    "accOverallPlot.set_xlabel('Number of People')\n",
    "accOverallPlot.set_ylabel('Accuracy %')\n",
    "accOverallPlot.set_title('Accuracy % versus Number Of People')\n",
    "#values inside the bars\n",
    "for p in accOverallPlot.patches:\n",
    "    height = p.get_height()\n",
    "    ax.text(p.get_x()+p.get_width()/2.,\n",
    "            height-5,\n",
    "            '{:1.2f}'.format(height),\n",
    "            ha=\"center\") "
   ]
  },
  {
   "cell_type": "code",
   "execution_count": 325,
   "metadata": {},
   "outputs": [
    {
     "data": {
      "text/html": [
       "<div>\n",
       "<style scoped>\n",
       "    .dataframe tbody tr th:only-of-type {\n",
       "        vertical-align: middle;\n",
       "    }\n",
       "\n",
       "    .dataframe tbody tr th {\n",
       "        vertical-align: top;\n",
       "    }\n",
       "\n",
       "    .dataframe thead th {\n",
       "        text-align: right;\n",
       "    }\n",
       "</style>\n",
       "<table border=\"1\" class=\"dataframe\">\n",
       "  <thead>\n",
       "    <tr style=\"text-align: right;\">\n",
       "      <th></th>\n",
       "      <th>PeopleCount</th>\n",
       "      <th>Accuracy</th>\n",
       "      <th>Group</th>\n",
       "    </tr>\n",
       "  </thead>\n",
       "  <tbody>\n",
       "    <tr>\n",
       "      <th>0</th>\n",
       "      <td>1</td>\n",
       "      <td>94.57264957264957</td>\n",
       "      <td>TI</td>\n",
       "    </tr>\n",
       "    <tr>\n",
       "      <th>1</th>\n",
       "      <td>1</td>\n",
       "      <td>97.6068376068376</td>\n",
       "      <td>Group16</td>\n",
       "    </tr>\n",
       "    <tr>\n",
       "      <th>2</th>\n",
       "      <td>2</td>\n",
       "      <td>55.487053020961774</td>\n",
       "      <td>TI</td>\n",
       "    </tr>\n",
       "    <tr>\n",
       "      <th>3</th>\n",
       "      <td>2</td>\n",
       "      <td>91.14262227702426</td>\n",
       "      <td>Group16</td>\n",
       "    </tr>\n",
       "    <tr>\n",
       "      <th>4</th>\n",
       "      <td>3</td>\n",
       "      <td>47.091412742382275</td>\n",
       "      <td>TI</td>\n",
       "    </tr>\n",
       "    <tr>\n",
       "      <th>5</th>\n",
       "      <td>3</td>\n",
       "      <td>84.05223585278986</td>\n",
       "      <td>Group16</td>\n",
       "    </tr>\n",
       "    <tr>\n",
       "      <th>6</th>\n",
       "      <td>4</td>\n",
       "      <td>45.644114921223355</td>\n",
       "      <td>TI</td>\n",
       "    </tr>\n",
       "    <tr>\n",
       "      <th>7</th>\n",
       "      <td>4</td>\n",
       "      <td>74.60611677479147</td>\n",
       "      <td>Group16</td>\n",
       "    </tr>\n",
       "    <tr>\n",
       "      <th>8</th>\n",
       "      <td>5</td>\n",
       "      <td>42.8849902534113</td>\n",
       "      <td>TI</td>\n",
       "    </tr>\n",
       "    <tr>\n",
       "      <th>9</th>\n",
       "      <td>5</td>\n",
       "      <td>75.04873294346979</td>\n",
       "      <td>Group16</td>\n",
       "    </tr>\n",
       "  </tbody>\n",
       "</table>\n",
       "</div>"
      ],
      "text/plain": [
       "  PeopleCount            Accuracy    Group\n",
       "0           1   94.57264957264957       TI\n",
       "1           1    97.6068376068376  Group16\n",
       "2           2  55.487053020961774       TI\n",
       "3           2   91.14262227702426  Group16\n",
       "4           3  47.091412742382275       TI\n",
       "5           3   84.05223585278986  Group16\n",
       "6           4  45.644114921223355       TI\n",
       "7           4   74.60611677479147  Group16\n",
       "8           5    42.8849902534113       TI\n",
       "9           5   75.04873294346979  Group16"
      ]
     },
     "execution_count": 325,
     "metadata": {},
     "output_type": "execute_result"
    }
   ],
   "source": [
    "accuracyOverallDf"
   ]
  },
  {
   "cell_type": "code",
   "execution_count": 297,
   "metadata": {},
   "outputs": [],
   "source": [
    "plt.savefig(\"accuracyBarplot.svg\")"
   ]
  },
  {
   "cell_type": "markdown",
   "metadata": {},
   "source": [
    "## Overall Accuracy"
   ]
  },
  {
   "cell_type": "code",
   "execution_count": 368,
   "metadata": {},
   "outputs": [
    {
     "data": {
      "text/plain": [
       "Text(0.5, 1.0, 'Accuracy % versus System')"
      ]
     },
     "execution_count": 368,
     "metadata": {},
     "output_type": "execute_result"
    }
   ],
   "source": [
    "tiMask = np.equal(accuracyDf['Group'], 'TI')\n",
    "requiredFrame = accuracyDf[tiMask]\n",
    "totalFrames = np.sum(requiredFrame['Total Frames'])\n",
    "totalTIMisclassifications = np.sum(requiredFrame['Misclassifications Amount'].astype(int))\n",
    "overallTIAccuracy = (1 - (totalTIMisclassifications/totalFrames)) * 100\n",
    "totalAccuracy = np.array([overallTIAccuracy,'TI'])\n",
    "\n",
    "Gp16Mask = np.equal(accuracyDf['Group'], 'Group16')\n",
    "requiredFrame = accuracyDf[Gp16Mask]\n",
    "totalFrames = np.sum(requiredFrame['Total Frames'])\n",
    "totalGPMisclassifications = np.sum(requiredFrame['Misclassifications Amount'].astype(int))\n",
    "overallGPAccuracy = (1 - (totalGPMisclassifications/totalFrames)) * 100\n",
    "\n",
    "totalAccuracy = np.vstack((totalAccuracy,np.array([overallGPAccuracy,'Group 16'])))\n",
    "totalAccuracyDf = pd.DataFrame(totalAccuracy, columns=['Accuracy %', 'Group'])\n",
    "totalAccuracyDf['Accuracy %'] = totalAccuracyDf['Accuracy %'].astype(float)\n",
    "\n",
    "fig, ax = plt.subplots()\n",
    "accOverallPlot = sns.barplot(x='Group',y='Accuracy %', data=totalAccuracyDf, order=['Group 16', 'TI'])\n",
    "# accOverallPlot.set_xlabel('System')\n",
    "# accOverallPlot.set_ylabel('Accuracy %')\n",
    "# accOverallPlot.set_title('Accuracy % versus System')\n",
    "# #values inside the bars\n",
    "# for p in accOverallPlot.patches:\n",
    "#     height = p.get_height()\n",
    "#     ax.text(p.get_x()+p.get_width()/2.,\n",
    "#             height-5,\n",
    "#             '{:1.2f}'.format(height),\n",
    "#             ha=\"center\") \n",
    "\n",
    "#plot with error bars"
   ]
  },
  {
   "cell_type": "code",
   "execution_count": 374,
   "metadata": {},
   "outputs": [
    {
     "data": {
      "text/plain": [
       "[<matplotlib.patches.Rectangle at 0x1dc9bc352e8>,\n",
       " <matplotlib.patches.Rectangle at 0x1dc8e343ac8>]"
      ]
     },
     "execution_count": 374,
     "metadata": {},
     "output_type": "execute_result"
    }
   ],
   "source": [
    "accOverallPlot.patches"
   ]
  },
  {
   "cell_type": "code",
   "execution_count": 377,
   "metadata": {},
   "outputs": [
    {
     "name": "stdout",
     "output_type": "stream",
     "text": [
      "Rectangle(xy=(-0.4, 0), width=0.8, height=89.2472, angle=0)\n",
      "Rectangle(xy=(0.6, 0), width=0.8, height=66.6957, angle=0)\n"
     ]
    }
   ],
   "source": [
    "#with sd bars\n",
    "fig, ax = plt.subplots()\n",
    "accOverallPlot = sns.barplot(x='Group',y='Accuracy %', data=accuracyDf, order=['Group16', 'TI'],capsize=.2)\n",
    "accOverallPlot.set_xlabel('System')\n",
    "accOverallPlot.set_ylabel('Accuracy %')\n",
    "accOverallPlot.set_title('Accuracy % versus System')\n",
    "#values inside the bars\n",
    "for p in accOverallPlot.patches:\n",
    "    print(p)\n",
    "    height = p.get_height()\n",
    "    ax.text(p.get_x()+p.get_width()/2.,\n",
    "            height-30,\n",
    "            '{:1.2f}'.format(height),\n",
    "            ha=\"center\")"
   ]
  },
  {
   "cell_type": "code",
   "execution_count": 376,
   "metadata": {},
   "outputs": [
    {
     "name": "stdout",
     "output_type": "stream",
     "text": [
      "AxesSubplot(0.125,0.11;0.775x0.77)\n"
     ]
    }
   ],
   "source": [
    "print(accOverallPlot)"
   ]
  },
  {
   "cell_type": "code",
   "execution_count": 349,
   "metadata": {},
   "outputs": [
    {
     "data": {
      "text/plain": [
       "12917"
      ]
     },
     "execution_count": 349,
     "metadata": {},
     "output_type": "execute_result"
    }
   ],
   "source": [
    "totalFrames"
   ]
  },
  {
   "cell_type": "code",
   "execution_count": 350,
   "metadata": {},
   "outputs": [
    {
     "data": {
      "text/plain": [
       "1692"
      ]
     },
     "execution_count": 350,
     "metadata": {},
     "output_type": "execute_result"
    }
   ],
   "source": [
    "totalGPMisclassifications"
   ]
  },
  {
   "cell_type": "code",
   "execution_count": 295,
   "metadata": {},
   "outputs": [],
   "source": [
    "plt.savefig(\"overallAccuracyBarplot.svg\")"
   ]
  },
  {
   "cell_type": "markdown",
   "metadata": {},
   "source": [
    "## Location (KF Accuracy Graphs)"
   ]
  },
  {
   "cell_type": "code",
   "execution_count": 341,
   "metadata": {
    "scrolled": true
   },
   "outputs": [
    {
     "name": "stdout",
     "output_type": "stream",
     "text": [
      "(357, 2)\n",
      "(163, 2)\n",
      "(126, 2)\n"
     ]
    },
    {
     "name": "stderr",
     "output_type": "stream",
     "text": [
      "C:\\Users\\hasna\\Anaconda3\\lib\\site-packages\\ipykernel_launcher.py:53: SettingWithCopyWarning: \n",
      "A value is trying to be set on a copy of a slice from a DataFrame\n",
      "\n",
      "See the caveats in the documentation: http://pandas.pydata.org/pandas-docs/stable/indexing.html#indexing-view-versus-copy\n",
      "C:\\Users\\hasna\\Anaconda3\\lib\\site-packages\\ipykernel_launcher.py:54: SettingWithCopyWarning: \n",
      "A value is trying to be set on a copy of a slice from a DataFrame\n",
      "\n",
      "See the caveats in the documentation: http://pandas.pydata.org/pandas-docs/stable/indexing.html#indexing-view-versus-copy\n",
      "C:\\Users\\hasna\\Anaconda3\\lib\\site-packages\\ipykernel_launcher.py:55: SettingWithCopyWarning: \n",
      "A value is trying to be set on a copy of a slice from a DataFrame\n",
      "\n",
      "See the caveats in the documentation: http://pandas.pydata.org/pandas-docs/stable/indexing.html#indexing-view-versus-copy\n"
     ]
    }
   ],
   "source": [
    "xRMSE = np.array([])\n",
    "yRMSE = np.array([])\n",
    "for name in tiVsAlgFiles:\n",
    "    try:\n",
    "        path = 'C:\\\\Users\\\\hasna\\\\Documents\\\\GitHub\\\\OccupancyDetection\\\\Results\\\\Algorithm vs TI\\\\' + name\n",
    "        tiVsAlgDf = pd.read_csv(path, usecols=['xTi', 'yTi', 'xGroup16', 'yGroup16'], dtype=np.float32)\n",
    "        path = 'C:\\\\Users\\\\hasna\\\\Documents\\\\GitHub\\\\OccupancyDetection\\\\Results\\\\Ground Truth\\\\' + name\n",
    "        groundTruthDf = pd.read_csv(path, usecols=['Expected X', 'Expected Y'], dtype=np.float32)\n",
    "        print(groundTruthDf.shape)\n",
    "    except ValueError: #if not a location based dataset\n",
    "        continue\n",
    "\n",
    "    \n",
    "    #remove rows with NaN in them (invalid rows)\n",
    "    mask = np.logical_and(np.logical_not(np.isnan(tiVsAlgDf['xGroup16'])),np.logical_not(np.isnan(tiVsAlgDf['xTi'])))\n",
    "    groundTruthDf = groundTruthDf[mask]\n",
    "    tiVsAlgDf = tiVsAlgDf[mask]\n",
    "    \n",
    "    #calculate error in x direction (for both TI and Group16 Algorithm)\n",
    "    if xRMSE.size == 0:\n",
    "        rmseAlg = np.sqrt(mean_squared_error(groundTruthDf['Expected X'], tiVsAlgDf['xGroup16']))\n",
    "        xRMSE = np.array([rmseAlg, 'Group16', name])\n",
    "        rmseTi = np.sqrt(mean_squared_error(groundTruthDf['Expected X'], tiVsAlgDf['xTi']))\n",
    "        xRMSE = np.vstack((xRMSE,np.array([rmseTi,'TI',name])))\n",
    "    else:\n",
    "        rmseAlg = np.sqrt(mean_squared_error(groundTruthDf['Expected X'], tiVsAlgDf['xGroup16']))\n",
    "        xRMSE = np.vstack((xRMSE,np.array([rmseAlg, 'Group16',name])))\n",
    "        rmseTi = np.sqrt(mean_squared_error(groundTruthDf['Expected X'], tiVsAlgDf['xTi']))\n",
    "        xRMSE = np.vstack((xRMSE,np.array([rmseTi,'TI',name])))\n",
    "        \n",
    "    #calculate error in y direction (for both TI and Group16 Algorithm)\n",
    "    if yRMSE.size == 0:\n",
    "        rmseAlg = np.sqrt(mean_squared_error(groundTruthDf['Expected Y'], tiVsAlgDf['yGroup16']))\n",
    "        yRMSE = np.array([rmseAlg, 'Group16', name])\n",
    "        rmseTi = np.sqrt(mean_squared_error(groundTruthDf['Expected Y'], tiVsAlgDf['yTi']))\n",
    "        yRMSE = np.vstack((yRMSE,np.array([rmseTi,'TI',name])))\n",
    "    else:\n",
    "        rmseAlg = np.sqrt(mean_squared_error(groundTruthDf['Expected Y'], tiVsAlgDf['yGroup16']))\n",
    "        yRMSE = np.vstack((yRMSE,np.array([rmseAlg, 'Group16',name])))\n",
    "        rmseTi = np.sqrt(mean_squared_error(groundTruthDf['Expected Y'], tiVsAlgDf['yTi']))\n",
    "        yRMSE = np.vstack((yRMSE,np.array([rmseTi,'TI',name])))\n",
    "        \n",
    "    \n",
    "rmse = np.hstack((np.expand_dims(yRMSE[:,0], axis=1),xRMSE))\n",
    "rmseDf = pd.DataFrame(rmse)\n",
    "rmseDf.columns = ['yRMSE','xRMSE', 'Group', 'Dataset']\n",
    "rmseDf['xRMSE'] = rmseDf['xRMSE'].astype(dtype=np.float32)\n",
    "rmseDf['yRMSE'] = rmseDf['yRMSE'].astype(dtype=np.float32)\n",
    "rmseDf['Dataset'] = pd.Series([datasetName[:-4]for datasetName in rmseDf['Dataset']]) #remove .csv from files\n",
    "rmseDf['Dataset'] = pd.Series([datasetName[-2:]for datasetName in rmseDf['Dataset']]) #remove .csv from files\n",
    "\n",
    "#change x label ticks\n",
    "rmseDf['Dataset'][rmseDf['Dataset'] == 'D1'] = 'Location 1'\n",
    "rmseDf['Dataset'][rmseDf['Dataset'] == 'D2'] = 'Location 2'\n",
    "rmseDf['Dataset'][rmseDf['Dataset'] == 'D3'] = 'Location 3'\n",
    "\n",
    "#plot x y rmse\n",
    "fig, ax = plt.subplots()\n",
    "# fig.set_size_inches(11.8, 8.3)\n",
    "xrmsePlot = sns.barplot(x='Dataset', y='xRMSE', hue='Group', data=rmseDf)\n",
    "xrmsePlot.set_title('RMSE X direction versus Dataset')\n",
    "xrmsePlot.set_ylabel('RMSE (m)')\n",
    "xrmsePlot.set_xlabel('Location Number')\n",
    "\n",
    "#values inside the bars\n",
    "for p in xrmsePlot.patches:\n",
    "    height = p.get_height()\n",
    "    ax.text(p.get_x()+p.get_width()/2.,\n",
    "            height-0.03,\n",
    "            '{:1.2f}'.format(height),\n",
    "            ha=\"center\") \n",
    "\n",
    "# fig, ax = plt.subplots()\n",
    "# # fig.set_size_inches(11.8, 8.3)\n",
    "# yrmsePlot = sns.barplot(x='Dataset', y='yRMSE', hue='Group', data=rmseDf)\n",
    "# yrmsePlot.set_ylabel('RMSE (m)')\n",
    "# yrmsePlot.set_xlabel('Location Number')\n",
    "# yrmsePlot.set_title('RMSE Y direction versus Dataset')\n",
    "# #values inside the bars\n",
    "# index = 0\n",
    "# for p in yrmsePlot.patches:\n",
    "#     height = p.get_height()\n",
    "#     ax.text(p.get_x()+p.get_width()/2.,\n",
    "#             height-0.03,\n",
    "#             '{:1.2f}'.format(height),\n",
    "#             ha=\"center\") \n",
    "#     index += 1\n",
    "    \n",
    "    "
   ]
  },
  {
   "cell_type": "code",
   "execution_count": null,
   "metadata": {},
   "outputs": [],
   "source": [
    "#average experimental location accuracy\n"
   ]
  },
  {
   "cell_type": "code",
   "execution_count": 384,
   "metadata": {},
   "outputs": [
    {
     "data": {
      "text/html": [
       "<div>\n",
       "<style scoped>\n",
       "    .dataframe tbody tr th:only-of-type {\n",
       "        vertical-align: middle;\n",
       "    }\n",
       "\n",
       "    .dataframe tbody tr th {\n",
       "        vertical-align: top;\n",
       "    }\n",
       "\n",
       "    .dataframe thead th {\n",
       "        text-align: right;\n",
       "    }\n",
       "</style>\n",
       "<table border=\"1\" class=\"dataframe\">\n",
       "  <thead>\n",
       "    <tr style=\"text-align: right;\">\n",
       "      <th></th>\n",
       "      <th>yRMSE</th>\n",
       "      <th>xRMSE</th>\n",
       "      <th>Group</th>\n",
       "      <th>Dataset</th>\n",
       "    </tr>\n",
       "  </thead>\n",
       "  <tbody>\n",
       "    <tr>\n",
       "      <th>0</th>\n",
       "      <td>0.321569</td>\n",
       "      <td>0.252604</td>\n",
       "      <td>Group16</td>\n",
       "      <td>Location 1</td>\n",
       "    </tr>\n",
       "    <tr>\n",
       "      <th>1</th>\n",
       "      <td>0.351822</td>\n",
       "      <td>0.302961</td>\n",
       "      <td>TI</td>\n",
       "      <td>Location 1</td>\n",
       "    </tr>\n",
       "    <tr>\n",
       "      <th>2</th>\n",
       "      <td>0.389362</td>\n",
       "      <td>0.249632</td>\n",
       "      <td>Group16</td>\n",
       "      <td>Location 2</td>\n",
       "    </tr>\n",
       "    <tr>\n",
       "      <th>3</th>\n",
       "      <td>0.364122</td>\n",
       "      <td>0.248194</td>\n",
       "      <td>TI</td>\n",
       "      <td>Location 2</td>\n",
       "    </tr>\n",
       "    <tr>\n",
       "      <th>4</th>\n",
       "      <td>0.146658</td>\n",
       "      <td>0.451840</td>\n",
       "      <td>Group16</td>\n",
       "      <td>Location 3</td>\n",
       "    </tr>\n",
       "    <tr>\n",
       "      <th>5</th>\n",
       "      <td>0.189504</td>\n",
       "      <td>0.433104</td>\n",
       "      <td>TI</td>\n",
       "      <td>Location 3</td>\n",
       "    </tr>\n",
       "  </tbody>\n",
       "</table>\n",
       "</div>"
      ],
      "text/plain": [
       "      yRMSE     xRMSE    Group     Dataset\n",
       "0  0.321569  0.252604  Group16  Location 1\n",
       "1  0.351822  0.302961       TI  Location 1\n",
       "2  0.389362  0.249632  Group16  Location 2\n",
       "3  0.364122  0.248194       TI  Location 2\n",
       "4  0.146658  0.451840  Group16  Location 3\n",
       "5  0.189504  0.433104       TI  Location 3"
      ]
     },
     "execution_count": 384,
     "metadata": {},
     "output_type": "execute_result"
    }
   ],
   "source": [
    "rmseDf"
   ]
  },
  {
   "cell_type": "code",
   "execution_count": 385,
   "metadata": {},
   "outputs": [
    {
     "name": "stdout",
     "output_type": "stream",
     "text": [
      "yRMSE    0.285863\n",
      "xRMSE    0.318025\n",
      "dtype: float64\n"
     ]
    }
   ],
   "source": [
    "print(np.mean(rmseDf[rmseDf['Group'] == 'Group16']))"
   ]
  },
  {
   "cell_type": "markdown",
   "metadata": {},
   "source": [
    "### Error Types\n",
    "<html>\n",
    "    <ul>\n",
    "        <li> Limitations of the Algorithms </li>\n",
    "        <li> Sensor Limitations </li>\n",
    "        <ul>\n",
    "            <li> Unexplainable missing persons from within the field of view of the sensor </li>\n",
    "            <li> Occlusions </li>\n",
    "            <li> Noise from static objects </li> \n",
    "        </ul>\n",
    "    </ul>\n",
    "</html>\n"
   ]
  },
  {
   "cell_type": "markdown",
   "metadata": {},
   "source": [
    "## Parameter Optimization - Clustering"
   ]
  },
  {
   "cell_type": "code",
   "execution_count": 120,
   "metadata": {},
   "outputs": [
    {
     "data": {
      "text/plain": [
       "[(0, 100)]"
      ]
     },
     "execution_count": 120,
     "metadata": {},
     "output_type": "execute_result"
    }
   ],
   "source": [
    "bestParametersClustering = np.array([])\n",
    "clusterParameterDf = pd.read_csv(\"C:\\\\Users\\\\hasna\\\\Documents\\\\GitHub\\\\OccupancyDetection\\\\Results\\\\Parameter Optimization\\\\ParameterOptimizationData.csv\", usecols=['Index','maxDistance','minClusterSize','Accuracy %'])\n",
    "#pick min at each maxDistance and at each minClusterSize\n",
    "for maxDistance in np.unique(clusterParameterDf['maxDistance']):\n",
    "    mask = clusterParameterDf['maxDistance'] == maxDistance\n",
    "    minMissclassificationsMask = clusterParameterDf[mask]['Accuracy %']==np.max(clusterParameterDf[mask]['Accuracy %'])\n",
    "    parameterInfo = np.expand_dims(clusterParameterDf[mask][minMissclassificationsMask].values[0], axis=1)\n",
    "    if bestParametersClustering.size == 0:\n",
    "        bestParametersClustering = parameterInfo\n",
    "    else:\n",
    "        bestParametersClustering = np.hstack((bestParametersClustering,parameterInfo))\n",
    "\n",
    "parameterDf = pd.DataFrame(np.transpose(bestParametersClustering), columns=['Old Index','maxDistance', 'minClusterSize', 'Accuracy'])"
   ]
  },
  {
   "cell_type": "code",
   "execution_count": 122,
   "metadata": {},
   "outputs": [],
   "source": [
    "parameterDf.to_csv(\"C:\\\\Users\\\\hasna\\\\Documents\\\\GitHub\\\\OccupancyDetection\\\\Results\\\\Parameter Optimization\\\\OptimialParameters.csv\")"
   ]
  },
  {
   "cell_type": "code",
   "execution_count": 258,
   "metadata": {},
   "outputs": [
    {
     "data": {
      "text/plain": [
       "[(0, 100)]"
      ]
     },
     "execution_count": 258,
     "metadata": {},
     "output_type": "execute_result"
    }
   ],
   "source": [
    "#clustering scatterplot\n",
    "parameterDf = pd.read_csv(\"C:\\\\Users\\\\hasna\\\\Documents\\\\GitHub\\\\OccupancyDetection\\\\Results\\\\Parameter Optimization\\\\OptimialParameters.csv\")\n",
    "fig, (ax1,ax2,ax3) = plt.subplots(1,3)\n",
    "parameterSetPlot = sns.scatterplot(x='maxDistance', y='minClusterSize', data=parameterDf,ax=ax1)\n",
    "parameterSetPlot.set(xlim = (0,1.6))\n",
    "parameterSetPlot.set(ylim = (0,21))\n",
    "maxDistPlot = sns.scatterplot(x='maxDistance', y='Accuracy', data=parameterDf,ax=ax2)\n",
    "maxDistPlot.set(xlim = (0,1.6))\n",
    "maxDistPlot.set(ylim = (0,100))\n",
    "minClusterPlot = sns.scatterplot(x='minClusterSize', y='Accuracy',data=parameterDf,ax=ax3)\n",
    "minClusterPlot.set(xlim = (0,21))\n",
    "minClusterPlot.set(ylim = (0,100))"
   ]
  },
  {
   "cell_type": "code",
   "execution_count": 281,
   "metadata": {},
   "outputs": [],
   "source": [
    "#3d scatterplot\n",
    "from matplotlib import pyplot\n",
    "from mpl_toolkits.mplot3d import Axes3D\n",
    "\n",
    "fig = pyplot.figure()\n",
    "ax = Axes3D(fig)\n",
    "clustPlot = ax.scatter(parameterDf['maxDistance'], parameterDf['minClusterSize'], parameterDf['Accuracy'])\n",
    "ax.set_xlabel('maxDistance')\n",
    "ax.set_ylabel('minClusterSize')\n",
    "ax.set_zlabel('Accuracy %')\n",
    "ax.set_title('Accuracy % versus minClusterSize versus maxDistance')\n",
    "ax.xaxis.labelpad = 15\n",
    "ax.yaxis.labelpad = 15\n",
    "# ax.zaxis.labelpad = 10\n",
    "pyplot.show()"
   ]
  },
  {
   "cell_type": "code",
   "execution_count": null,
   "metadata": {},
   "outputs": [],
   "source": []
  },
  {
   "cell_type": "markdown",
   "metadata": {},
   "source": [
    "## Q R Graph "
   ]
  },
  {
   "cell_type": "markdown",
   "metadata": {},
   "source": [
    "### Modified QR"
   ]
  },
  {
   "cell_type": "code",
   "execution_count": 311,
   "metadata": {},
   "outputs": [],
   "source": [
    "#measured measured x vs predicted x \n",
    "#want to see predicted is smooth vs measured is jaggy \n",
    "\n",
    "#load dataset\n",
    "path = 'C:\\\\Users\\\\hasna\\\\Documents\\\\GitHub\\\\OccupancyDetection\\\\Results\\\\QR\\\\modifedQR1.csv'\n",
    "qrDfBaseline = pd.read_csv(path, usecols=['x16', 'y16', 'measuredX', 'measuredY'], dtype=np.float32)\n",
    "\n",
    "#restructure qrDf into X and Y\n",
    "xLabel = np.repeat('Filtered', repeats=qrDfBaseline.shape[0])\n",
    "xLabel = np.append(xLabel, np.repeat('Measured', repeats=qrDfBaseline.shape[0]))\n",
    "xInformation = np.append(qrDfBaseline['x16'], qrDfBaseline['measuredX'])\n",
    "instance = np.append(np.arange(0,qrDfBaseline.shape[0]),np.arange(0,qrDfBaseline.shape[0]))\n",
    "qrXDf = pd.DataFrame(np.transpose(np.array([xInformation,xLabel,instance])), columns=['xData', 'xLabel', 'instance'])\n",
    "\n",
    "yLabel = np.repeat('Filtered', repeats=qrDfBaseline.shape[0])\n",
    "yLabel = np.append(yLabel, np.repeat('Measured', repeats=qrDfBaseline.shape[0]))\n",
    "yInformation = np.append(qrDfBaseline['y16'], qrDfBaseline['measuredY'])\n",
    "instance = np.append(np.arange(0,qrDfBaseline.shape[0]),np.arange(0,qrDfBaseline.shape[0]))\n",
    "qrYDf = pd.DataFrame(np.transpose(np.array([yInformation,yLabel,instance])), columns=['yData', 'yLabel', 'instance'])"
   ]
  },
  {
   "cell_type": "code",
   "execution_count": 318,
   "metadata": {},
   "outputs": [
    {
     "data": {
      "text/plain": [
       "Text(0.5, 1.0, 'Filtered vs Measured - Y Direction')"
      ]
     },
     "execution_count": 318,
     "metadata": {},
     "output_type": "execute_result"
    }
   ],
   "source": [
    "#Y\n",
    "qrYDf['yData'] = qrYDf['yData'].astype(np.float32)\n",
    "qrYDf['instance'] = qrYDf['instance'].astype(np.int)\n",
    "fig, ax = plt.subplots()\n",
    "# fig.set_size_inches(15, 10)\n",
    "ax = sns.lineplot(x=\"instance\", y=\"yData\",hue=\"yLabel\", data=qrYDf)\n",
    "ax.set_ylabel('Distance (Y Direction)')\n",
    "ax.set_xlabel('Observation Number')\n",
    "ax.set_title('Filtered vs Measured - Y Direction')"
   ]
  },
  {
   "cell_type": "code",
   "execution_count": null,
   "metadata": {},
   "outputs": [],
   "source": [
    "savefig('Resize ')"
   ]
  },
  {
   "cell_type": "code",
   "execution_count": 319,
   "metadata": {},
   "outputs": [
    {
     "data": {
      "text/plain": [
       "Text(0.5, 1.0, 'Filtered vs Measured - X Direction')"
      ]
     },
     "execution_count": 319,
     "metadata": {},
     "output_type": "execute_result"
    }
   ],
   "source": [
    "#X\n",
    "qrXDf['xData'] = qrXDf['xData'].astype(np.float32)\n",
    "qrXDf['instance'] = qrXDf['instance'].astype(np.int)\n",
    "fig, ax = plt.subplots()\n",
    "# fig.set_size_inches(15, 10)\n",
    "ax = sns.lineplot(x=\"instance\", y=\"xData\",hue=\"xLabel\", data=qrXDf)\n",
    "ax.set_ylabel('Distance (X Direction)')\n",
    "ax.set_xlabel('Observation Number')\n",
    "ax.set_title('Filtered vs Measured - X Direction')"
   ]
  },
  {
   "cell_type": "markdown",
   "metadata": {},
   "source": [
    "## Heatmap of Error"
   ]
  },
  {
   "cell_type": "code",
   "execution_count": 14,
   "metadata": {},
   "outputs": [],
   "source": [
    "#voxel splitting\n",
    "#sensorRange\n",
    "def integrand(x, a, b):\n",
    "    return -a*b*sin(x)*sin(x)\n",
    "\n",
    "a = 6\n",
    "b = 5\n",
    "areaSensorRange = np.abs(quad(integrand, (40/180)*pi, (140/180)*pi, args=(a,b))[0])\n",
    "equivalentRecX = 9\n",
    "equivalentRecY = 6\n",
    "heatmapData = np.random.rand(equivalentRecX,equivalentRecY)\n",
    "\n",
    "a = 1\n",
    "b = 1\n",
    "areaVoxel = a*b\n",
    "\n",
    "numberOfVoxels = round(areaSensorRange/areaVoxel)\n",
    "\n",
    "fig, (ax1,ax2) = plt.subplots(2)\n",
    "fig.set_size_inches(20, 20)\n",
    "\n",
    "#load voxel\n",
    "path = 'C:\\\\Users\\\\hasna\\\\Documents\\\\GitHub\\\\OccupancyDetection\\\\Results\\\\Heatmap\\\\Voxel Data.csv'\n",
    "voxelDf = pd.read_csv(path)\n",
    "voxelData = np.reshape(voxelDf['% Conditional Accuracy'].values, (equivalentRecY,equivalentRecX))\n",
    "voxelData = np.flip(voxelData,axis=0) #flip to get right orientation\n",
    "heat_map = sns.heatmap(voxelData,square=False,annot=False,xticklabels=[], yticklabels=[] ,ax=ax1,cmap=\"YlGnBu\",vmin=50, vmax=100)"
   ]
  },
  {
   "cell_type": "markdown",
   "metadata": {},
   "source": [
    "## Sensor Range Map"
   ]
  },
  {
   "cell_type": "code",
   "execution_count": 15,
   "metadata": {},
   "outputs": [],
   "source": [
    "maxAz = 140\n",
    "minAz = 40\n",
    "\n",
    "rangeSteps = np.arange(1,6.05, step=0.05)\n",
    "azSteps = np.arange((minAz/180)*pi,(maxAz/180)*pi + (1/180)*pi, step=(1/180)*pi)\n",
    "\n",
    "#sides\n",
    "SidesX = np.multiply(rangeSteps,cos((maxAz/180)*pi))\n",
    "SidesX = np.append(SidesX,np.multiply(rangeSteps,cos((minAz/180)*pi)))\n",
    "SidesY = np.multiply(rangeSteps,sin((maxAz/180)*pi))\n",
    "SidesY = np.append(SidesY,np.multiply(rangeSteps,sin((minAz/180)*pi)))\n",
    "\n",
    "#top edge\n",
    "topX = np.multiply(6,cos(azSteps))\n",
    "topY = np.multiply(6,sin(azSteps))\n",
    "\n",
    "sideDf = pd.DataFrame(np.transpose(np.array([SidesX, SidesY])), columns = ['X', 'Y'])\n",
    "sensorPlot = sns.lineplot(x=\"X\", y=\"Y\",data=sideDf,color=\"#34495e\")\n",
    "\n",
    "topDf = pd.DataFrame(np.transpose(np.array([topX, topY])), columns = ['X', 'Y'])\n",
    "sensorPlot = sns.lineplot(x=\"X\", y=\"Y\",data=topDf,color=\"#34495e\",ax=ax2)\n",
    "#save figure\n",
    "fig.savefig('plot.svg')"
   ]
  },
  {
   "cell_type": "markdown",
   "metadata": {},
   "source": [
    "### Live Demo Timing Analysis"
   ]
  },
  {
   "cell_type": "code",
   "execution_count": 12,
   "metadata": {},
   "outputs": [
    {
     "data": {
      "text/plain": [
       "Text(0, 0.5, 'Time (ms)')"
      ]
     },
     "execution_count": 12,
     "metadata": {},
     "output_type": "execute_result"
    }
   ],
   "source": [
    "#1000 iterations over all datasets finding average numbers for each dataset (1 to 5 people)\n",
    "\n",
    "#import timing data\n",
    "timingDf = pd.read_csv(\"C:\\\\Users\\\\hasna\\\\Documents\\\\GitHub\\\\OccupancyDetection\\\\Results\\\\Timing Analysis\\\\Timing Data.csv\",\n",
    "                      usecols=['Number Of People', 'Iteration','Runtime'])\n",
    "\n",
    "timingData = np.array([])\n",
    "#average runtime per number of People\n",
    "for numberOfPeople in range(1,6):\n",
    "    mask = timingDf['Number Of People'] == numberOfPeople\n",
    "    subsetTimingDf = timingDf[mask]\n",
    "    averageTiming = np.mean(timingDf[mask]['Runtime'])\n",
    "    if timingData.size == 0:\n",
    "        timingData = np.array([numberOfPeople,averageTiming])\n",
    "    else:\n",
    "        timingData = np.vstack((timingData,np.array([numberOfPeople,averageTiming])))\n",
    "\n",
    "averageTimeDf = pd.DataFrame(timingData, columns=['Number Of People', 'Average Time (ms)'])\n",
    "averageTimeDf['Number Of People'] = averageTimeDf['Number Of People'].astype(int)\n",
    "averageLinePlot = sns.lineplot(x='Number Of People',y='Average Time (ms)', data=averageTimeDf)\n",
    "# averagePlot = sns.barplot(x='Number Of People',y='Average Time (ms)', data=averageTimeDf)\n",
    "\n",
    "# for p in averageLinePlot.patches:\n",
    "#     height = p.get_height()\n",
    "#     averageLinePlot.text(p.get_x()+p.get_width()/2.,\n",
    "#             height-2,\n",
    "#             '{:1.2f}'.format(height),\n",
    "#             ha=\"center\") \n",
    "    \n",
    "averageLinePlot.set_title('Time (ms) versus Number of People')\n",
    "averageLinePlot.set_xlabel('Number of People (per frame)')\n",
    "averageLinePlot.set_ylabel('Time (ms)')"
   ]
  },
  {
   "cell_type": "code",
   "execution_count": null,
   "metadata": {},
   "outputs": [],
   "source": [
    "#1000 iterations over all datasets finding average numbers for each dataset (1 to 5 people)\n",
    "\n",
    "#import timing data\n",
    "timingDf = pd.read_csv(\"C:\\\\Users\\\\hasna\\\\Documents\\\\GitHub\\\\OccupancyDetection\\\\Results\\\\Timing Analysis\\\\Timing Data.csv\",\n",
    "                      usecols=['Number Of People', 'Iteration','Runtime'])\n",
    "\n",
    "timingData = np.array([])\n",
    "#average runtime per number of People\n",
    "for numberOfPeople in range(1,6):\n",
    "    mask = timingDf['Number Of People'] == numberOfPeople\n",
    "    subsetTimingDf = timingDf[mask]\n",
    "    averageTiming = np.mean(timingDf[mask]['Runtime'])\n",
    "    if timingData.size == 0:\n",
    "        timingData = np.array([numberOfPeople,averageTiming])\n",
    "    else:\n",
    "        timingData = np.vstack((timingData,np.array([numberOfPeople,averageTiming])))\n",
    "\n",
    "averageTimeDf = pd.DataFrame(timingData, columns=['Number Of People', 'Average Time (ms)'])\n",
    "averageTimeDf['Number Of People'] = averageTimeDf['Number Of People'].astype(int)\n",
    "averageLinePlot = sns.lineplot(x='Number Of People',y='Average Time (ms)', data=averageTimeDf)\n",
    "# averagePlot = sns.barplot(x='Number Of People',y='Average Time (ms)', data=averageTimeDf)\n",
    "\n",
    "# for p in averageLinePlot.patches:\n",
    "#     height = p.get_height()\n",
    "#     averageLinePlot.text(p.get_x()+p.get_width()/2.,\n",
    "#             height-2,\n",
    "#             '{:1.2f}'.format(height),\n",
    "#             ha=\"center\") \n",
    "    \n",
    "averageLinePlot.set_title('Time (ms) versus Number of People')\n",
    "averageLinePlot.set_xlabel('Number of People (per frame)')\n",
    "averageLinePlot.set_ylabel('Time (ms)')"
   ]
  },
  {
   "cell_type": "code",
   "execution_count": 18,
   "metadata": {},
   "outputs": [
    {
     "data": {
      "text/plain": [
       "Text(0, 0.5, 'Time (ms)')"
      ]
     },
     "execution_count": 18,
     "metadata": {},
     "output_type": "execute_result"
    }
   ],
   "source": [
    "averageLinePlot = sns.pointplot(x='Number Of People', y='Runtime', data=timingDf)\n",
    "averageLinePlot.set_title('Time (ms) versus Number of People')\n",
    "averageLinePlot.set_xlabel('Number of People (per frame)')\n",
    "averageLinePlot.set_ylabel('Time (ms)')"
   ]
  },
  {
   "cell_type": "markdown",
   "metadata": {},
   "source": [
    "### Performance Gains"
   ]
  },
  {
   "cell_type": "code",
   "execution_count": 14,
   "metadata": {},
   "outputs": [],
   "source": [
    "performanceDf = pd.read_csv(\"C:\\\\Users\\\\hasna\\\\Documents\\\\GitHub\\\\OccupancyDetection\\\\Results\\\\Timing Analysis\\\\NoiseRemovalPerformanceGains.csv\",\n",
    "                      usecols=['Number Of People', 'Iteration','Runtime', 'With/Without'])"
   ]
  },
  {
   "cell_type": "code",
   "execution_count": 14,
   "metadata": {},
   "outputs": [],
   "source": [
    "#calculate average \n",
    "timingData = np.array([])\n",
    "#average runtime per number of People\n",
    "timingDf = performanceDf[performanceDf['With/Without'] == 'With Preliminary Noise Reduction']\n",
    "for numberOfPeople in range(1,6):\n",
    "    mask = timingDf['Number Of People'] == numberOfPeople\n",
    "    subsetTimingDf = timingDf[mask]\n",
    "    averageTiming = np.mean(timingDf[mask]['Runtime'])\n",
    "    if timingData.size == 0:\n",
    "        timingData = np.array([numberOfPeople,averageTiming, 'With'])\n",
    "    else:\n",
    "        timingData = np.vstack((timingData,np.array([numberOfPeople,averageTiming, 'With'])))\n",
    "\n",
    "timingDf = performanceDf[performanceDf['With/Without'] == 'Without Preliminary Noise Reduction']\n",
    "for numberOfPeople in range(1,6):\n",
    "    mask = timingDf['Number Of People'] == numberOfPeople\n",
    "    subsetTimingDf = timingDf[mask]\n",
    "    averageTiming = np.mean(timingDf[mask]['Runtime'])\n",
    "    if timingData.size == 0:\n",
    "        timingData = np.array([numberOfPeople,averageTiming, 'Without'])\n",
    "    else:\n",
    "        timingData = np.vstack((timingData,np.array([numberOfPeople,averageTiming, 'Without'])))\n",
    "\n",
    "averageTimeDf = pd.DataFrame(timingData, columns=['Number Of People', 'Average Time (ms)', 'With/Without'])\n",
    "averageTimeDf['Number Of People'] = averageTimeDf['Number Of People'].astype(int)\n",
    "averageTimeDf['Average Time (ms)'] = averageTimeDf['Average Time (ms)'].astype(float)\n",
    "noisePlot = sns.barplot(x='Number Of People',y='Average Time (ms)', hue='With/Without',data=averageTimeDf)\n",
    "noisePlot.set_title('With and Without Preliminary Noise Removal')\n",
    "\n",
    "for p in noisePlot.patches:\n",
    "    height = p.get_height()\n",
    "    noisePlot.text(p.get_x()+p.get_width()/2.,\n",
    "            height-2,\n",
    "            '{:1.2f}'.format(height),\n",
    "            ha=\"center\") "
   ]
  },
  {
   "cell_type": "code",
   "execution_count": 301,
   "metadata": {},
   "outputs": [],
   "source": [
    "plt.savefig(\"performanceGains.svg\")"
   ]
  },
  {
   "cell_type": "markdown",
   "metadata": {},
   "source": [
    "## SNR vs Range"
   ]
  },
  {
   "cell_type": "code",
   "execution_count": 8,
   "metadata": {},
   "outputs": [
    {
     "data": {
      "text/plain": [
       "Text(0.5, 1, 'SNR vs Range')"
      ]
     },
     "execution_count": 8,
     "metadata": {},
     "output_type": "execute_result"
    }
   ],
   "source": [
    "#modelling done in R\n",
    "snrRangeDf = pd.read_csv(\"C:\\\\Users\\\\hasna\\\\Documents\\\\GitHub\\\\OccupancyDetection\\\\Results\\\\SNR vs Range\\\\snrVSRange.csv\")\n",
    "\n",
    "#plot multiplicative model\n",
    "snrRangeDf['log(SNR)'] = np.log(snrRangeDf['SNR'])\n",
    "snrRangePlot = sns.lmplot(x='Range', y='log(SNR)', data=snrRangeDf)\n",
    "ax = plt.gca()\n",
    "# ax.set_title('log(SNR) vs Range')\n",
    "# snrRangePlot.savefig(\"logSNRvsRange.svg\")\n",
    "#plot simple linear model\n",
    "snrRangePlot2 = sns.lmplot(x='Range', y='SNR', data=snrRangeDf)\n",
    "ax = plt.gca()\n",
    "ax.set_title('SNR vs Range')\n",
    "# snrRangePlot2.savefig(\"SNRvsRange.svg\")"
   ]
  },
  {
   "cell_type": "code",
   "execution_count": null,
   "metadata": {},
   "outputs": [],
   "source": []
  },
  {
   "cell_type": "code",
   "execution_count": null,
   "metadata": {},
   "outputs": [],
   "source": []
  }
 ],
 "metadata": {
  "kernelspec": {
   "display_name": "Python 3",
   "language": "python",
   "name": "python3"
  },
  "language_info": {
   "codemirror_mode": {
    "name": "ipython",
    "version": 3
   },
   "file_extension": ".py",
   "mimetype": "text/x-python",
   "name": "python",
   "nbconvert_exporter": "python",
   "pygments_lexer": "ipython3",
   "version": "3.7.1"
  }
 },
 "nbformat": 4,
 "nbformat_minor": 2
}
