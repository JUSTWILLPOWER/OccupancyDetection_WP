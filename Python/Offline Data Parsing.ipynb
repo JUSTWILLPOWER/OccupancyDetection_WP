{
 "cells": [
  {
   "cell_type": "code",
   "execution_count": 80,
   "metadata": {},
   "outputs": [],
   "source": [
    "import serial\n",
    "import time\n",
    "import numpy as np\n",
    "\n",
    "#pyqtgraph -> fast plotting\n",
    "import pyqtgraph as pg\n",
    "from pyqtgraph.Qt import QtGui\n",
    "%gui qt\n",
    "\n",
    "import copy\n",
    "from scipy.io import loadmat"
   ]
  },
  {
   "cell_type": "code",
   "execution_count": 81,
   "metadata": {},
   "outputs": [],
   "source": [
    "#load relevant header data\n",
    "rawHeaderData = (loadmat('C:\\\\Users\\\\hasna\\\\Documents\\\\GitHub\\\\OccupancyDetection\\\\Data\\\\rawframeHeader.mat'))['rawframeHeader'][0]"
   ]
  },
  {
   "cell_type": "code",
   "execution_count": 82,
   "metadata": {},
   "outputs": [],
   "source": [
    "#preprocessing\n",
    "headerStream = np.array([])\n",
    "for number in rawHeaderData[0]:\n",
    "    headerStream = np.uint8(np.append(headerStream,number[0]))"
   ]
  },
  {
   "cell_type": "code",
   "execution_count": 83,
   "metadata": {},
   "outputs": [],
   "source": [
    "def readHeader(recieveHeader):\n",
    "    headerContent = dict()\n",
    "    index = 0\n",
    "    \n",
    "    headerContent['magicBytes'] = recieveHeader[index:index+8]\n",
    "    index += 20\n",
    "    \n",
    "    headerContent['packetLength'] = recieveHeader[index:index+4].view(dtype=np.uint32)\n",
    "    index += 4\n",
    "        \n",
    "    headerContent['frameNumber'] = recieveHeader[index:index+4].view(dtype=np.uint32)\n",
    "    index += 24\n",
    "    \n",
    "    headerContent['numTLVs'] = recieveHeader[index:index+2].view(dtype=np.uint16)\n",
    "    \n",
    "    return headerContent"
   ]
  },
  {
   "cell_type": "code",
   "execution_count": 84,
   "metadata": {},
   "outputs": [],
   "source": [
    "#initialise variables\n",
    "lostSync = False\n",
    "\n",
    "#valid header variables and constant\n",
    "magicBytes = np.array([2,1,4,3,6,5,8,7], dtype= 'uint8')\n",
    "\n",
    "isMagicOk = False\n",
    "isDataOk = False\n",
    "gotHeader = False\n",
    "\n",
    "frameHeaderLength = 52 #52 bytes long\n",
    "tlvHeaderLengthInBytes = 8\n",
    "pointLengthInBytes = 16\n",
    "frameNumber = 1\n",
    "targetFrameNumber = 0\n",
    "\n"
   ]
  },
  {
   "cell_type": "code",
   "execution_count": 85,
   "metadata": {},
   "outputs": [],
   "source": [
    "header = readHeader(headerStream)"
   ]
  },
  {
   "cell_type": "code",
   "execution_count": 86,
   "metadata": {},
   "outputs": [
    {
     "data": {
      "text/plain": [
       "{'magicBytes': array([2, 1, 4, 3, 6, 5, 8, 7], dtype=uint8),\n",
       " 'packetLength': array([1146], dtype=uint32),\n",
       " 'frameNumber': array([11758], dtype=uint32),\n",
       " 'numTLVs': array([3], dtype=uint16)}"
      ]
     },
     "execution_count": 86,
     "metadata": {},
     "output_type": "execute_result"
    }
   ],
   "source": [
    "header"
   ]
  },
  {
   "cell_type": "code",
   "execution_count": 87,
   "metadata": {},
   "outputs": [],
   "source": [
    "dataLength = int(header['packetLength'] - frameHeaderLength)"
   ]
  },
  {
   "cell_type": "code",
   "execution_count": 88,
   "metadata": {},
   "outputs": [],
   "source": [
    "tlvData = (loadmat('C:\\\\Users\\\\hasna\\\\Documents\\\\GitHub\\\\OccupancyDetection\\\\Data\\\\tlvData.mat'))['tlvData'][0][0]"
   ]
  },
  {
   "cell_type": "code",
   "execution_count": 89,
   "metadata": {},
   "outputs": [],
   "source": [
    "tlvStream = np.frombuffer(tlvData, dtype = 'uint8')"
   ]
  },
  {
   "cell_type": "code",
   "execution_count": 90,
   "metadata": {},
   "outputs": [],
   "source": [
    "#tlv header\n",
    "index = 0\n",
    "#tlv header parsing\n",
    "tlvType = tlvStream[index:index+4].view(dtype=np.uint32)\n",
    "tlvLength = tlvStream[index+4:index+8].view(dtype=np.uint32)"
   ]
  },
  {
   "cell_type": "code",
   "execution_count": 91,
   "metadata": {},
   "outputs": [
    {
     "name": "stdout",
     "output_type": "stream",
     "text": [
      "[6]\n",
      "[888]\n"
     ]
    }
   ],
   "source": [
    "print(tlvType)\n",
    "print(tlvLength)"
   ]
  },
  {
   "cell_type": "code",
   "execution_count": 92,
   "metadata": {},
   "outputs": [],
   "source": [
    "index += tlvHeaderLengthInBytes\n",
    "tlvDataLength = tlvLength - tlvHeaderLengthInBytes"
   ]
  },
  {
   "cell_type": "code",
   "execution_count": 105,
   "metadata": {},
   "outputs": [],
   "source": [
    "if tlvType == 6: \n",
    "     numberOfPoints = tlvDataLength/pointLengthInBytes\n",
    "     p = tlvStream[index:index+tlvDataLength[0]].view(np.single)\n",
    "     pointCloud = np.reshape(p,(4, int(numberOfPoints)),order=\"F\")"
   ]
  },
  {
   "cell_type": "code",
   "execution_count": 106,
   "metadata": {},
   "outputs": [],
   "source": [
    "if not(pointCloud is None):\n",
    "    posX = np.multiply(pointCloud[0,:], np.sin(pointCloud[1,:]))\n",
    "    posY = np.multiply(pointCloud[0,:], np.cos(pointCloud[1,:]))\n"
   ]
  },
  {
   "cell_type": "code",
   "execution_count": 107,
   "metadata": {},
   "outputs": [
    {
     "data": {
      "text/plain": [
       "array([-1.8993163 ,  3.1347146 ,  3.0488634 ,  0.76953757,  0.78524244,\n",
       "        0.9737006 ,  0.65240383,  0.6665865 ,  0.68076926,  0.6949519 ,\n",
       "        0.7091346 ,  0.54375   ,  0.5563953 ,  0.581686  ,  0.5943314 ,\n",
       "        0.60697675,  0.6322674 ,  1.1760174 ,  0.4326841 ,  0.44377854,\n",
       "        0.454873  ,  0.46596748,  0.47706196,  0.48815638,  0.49925086,\n",
       "        0.51034534,  0.5214398 ,  0.5325343 ,  1.0317851 ,  0.37173626,\n",
       "        0.38126794,  0.39079964,  0.40033135,  0.40986305,  0.41939473,\n",
       "        0.42892644,  0.43845814,  0.44798985,  0.31039032,  0.31834906,\n",
       "        0.3263078 ,  0.3342665 ,  0.34222525,  0.35018396,  0.3581427 ,\n",
       "        0.3661014 ,  0.37406015,  0.3820189 ,  0.26146653,  0.26784378,\n",
       "        0.27422103,  0.3061072 ,  0.20592311,  0.22986765,  0.153382  ],\n",
       "      dtype=float32)"
      ]
     },
     "execution_count": 107,
     "metadata": {},
     "output_type": "execute_result"
    }
   ],
   "source": [
    "posX"
   ]
  },
  {
   "cell_type": "code",
   "execution_count": 104,
   "metadata": {},
   "outputs": [
    {
     "data": {
      "text/plain": [
       "array([1.4573966, 2.5725937, 2.6737814, 2.2669847, 2.3132496, 2.8684294,\n",
       "       2.1506875, 2.1974416, 2.2441957, 2.2909496, 2.3377037, 2.0293026,\n",
       "       2.0764956, 2.1708817, 2.218075 , 2.265268 , 2.3596542, 4.3889565,\n",
       "       1.8556808, 1.9032623, 1.9508439, 1.9984255, 2.0460072, 2.0935886,\n",
       "       2.14117  , 2.1887517, 2.2363334, 2.283915 , 4.4250846, 1.8688443,\n",
       "       1.9167633, 1.9646825, 2.0126016, 2.0605206, 2.1084397, 2.1563587,\n",
       "       2.2042778, 2.252197 , 1.8800066, 1.9282118, 1.9764171, 2.0246224,\n",
       "       2.0728278, 2.121033 , 2.1692383, 2.2174437, 2.265649 , 2.3138542,\n",
       "       1.9860355, 2.0344753, 2.0829153, 2.325115 , 2.0907724, 2.3338854,\n",
       "       2.340157 ], dtype=float32)"
      ]
     },
     "execution_count": 104,
     "metadata": {},
     "output_type": "execute_result"
    }
   ],
   "source": [
    "posY"
   ]
  },
  {
   "cell_type": "code",
   "execution_count": null,
   "metadata": {},
   "outputs": [],
   "source": []
  }
 ],
 "metadata": {
  "kernelspec": {
   "display_name": "Python 3",
   "language": "python",
   "name": "python3"
  },
  "language_info": {
   "codemirror_mode": {
    "name": "ipython",
    "version": 3
   },
   "file_extension": ".py",
   "mimetype": "text/x-python",
   "name": "python",
   "nbconvert_exporter": "python",
   "pygments_lexer": "ipython3",
   "version": "3.7.1"
  }
 },
 "nbformat": 4,
 "nbformat_minor": 2
}
