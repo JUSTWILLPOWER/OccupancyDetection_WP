{
 "cells": [
  {
   "cell_type": "code",
   "execution_count": 115,
   "metadata": {},
   "outputs": [],
   "source": [
    "import serial\n",
    "import time\n",
    "import numpy as np\n",
    "\n",
    "#pyqtgraph -> fast plotting\n",
    "import pyqtgraph as pg\n",
    "from pyqtgraph.Qt import QtGui\n",
    "\n",
    "#matplotlib -> normal plotting\n",
    "import matplotlib.pyplot as plt\n",
    "%matplotlib inline\n",
    "\n",
    "import copy"
   ]
  },
  {
   "cell_type": "code",
   "execution_count": 116,
   "metadata": {},
   "outputs": [],
   "source": [
    "# Change the configuration file name\n",
    "configFileName = 'mmw_pplcount_demo_default.cfg'\n",
    "\n",
    "global CLIport\n",
    "global Dataport\n",
    "\n",
    "CLIport = {}\n",
    "Dataport = {}\n",
    "\n",
    "CLIport = serial.Serial('COM4', 115200)\n",
    "if not(CLIport.is_open):\n",
    "    CLIport.open()\n",
    "Dataport = serial.Serial('COM3', 921600)\n",
    "if not(Dataport.is_open):\n",
    "    Dataport.open()"
   ]
  },
  {
   "cell_type": "code",
   "execution_count": 117,
   "metadata": {},
   "outputs": [
    {
     "name": "stdout",
     "output_type": "stream",
     "text": [
      "dfeDataOutputMode 1\n",
      "channelCfg 15 3 0\n",
      "adcCfg 2 1\n",
      "adcbufCfg 0 1 1 1 \n",
      "profileCfg 0 77 30 7 62 0 0 60 1 128 2500 0 0 30\n",
      "chirpCfg 0 0 0 0 0 0 0 1\n",
      "chirpCfg 1 1 0 0 0 0 0 2\n",
      "frameCfg 0 1 128 0 50 1 0\n",
      "lowPower 0 1\n",
      "guiMonitor 1 1 0 0\n",
      "cfarCfg 6 4 4 4 4 16 16 4 4 50 62 0\n",
      "doaCfg 600 1875 30 1\n",
      "SceneryParam -6 6 0.05 6\n",
      "GatingParam 4 3 2 0\n",
      "StateParam 10 5 10 100 5\n",
      "AllocationParam 450 0.01 25 1 2\n",
      "VariationParam 0.289 0.289 1.0\n",
      "PointCloudEn 1\n",
      "trackingCfg 1 2 250 20 200 50 90\n",
      "sensorStart\n"
     ]
    }
   ],
   "source": [
    "# Read the configuration file and send it to the board\n",
    "config = [line.rstrip('\\r\\n') for line in open(configFileName)]\n",
    "for i in config:\n",
    "    CLIport.write((i+'\\n').encode())\n",
    "    print(i)\n",
    "    time.sleep(0.01)\n",
    "\n",
    "#close control port\n",
    "CLIport.close()"
   ]
  },
  {
   "cell_type": "code",
   "execution_count": 118,
   "metadata": {},
   "outputs": [],
   "source": [
    "#initialise variables\n",
    "lostSync = False\n",
    "\n",
    "#valid header variables and constant\n",
    "magicBytes = np.array([2,1,4,3,6,5,8,7], dtype= 'uint8')\n",
    "\n",
    "isMagicOk = False\n",
    "isDataOk = False\n",
    "gotHeader = False\n",
    "\n",
    "frameHeaderLength = 52 #52 bytes long\n",
    "tlvHeaderLengthInBytes = 8\n",
    "pointLengthInBytes = 16\n",
    "frameNumber = 1\n",
    "targetFrameNumber = 0\n",
    "\n"
   ]
  },
  {
   "cell_type": "code",
   "execution_count": 119,
   "metadata": {},
   "outputs": [],
   "source": [
    "def validateChecksum(recieveHeader):\n",
    "    uint32Convertor = [1, 2**8, 2**16, 2**24]\n",
    "    uint16Convertor = uint32Convertor[0:2]\n",
    "    h = np.uint16(recieveHeader)\n",
    "    a = np.uint32(sum(h))\n",
    "    b = np.uint16(a)\n",
    "    CS = np.uint16(~(b))\n",
    "    return CS"
   ]
  },
  {
   "cell_type": "code",
   "execution_count": 120,
   "metadata": {},
   "outputs": [],
   "source": [
    "def readHeader(recieveHeader):\n",
    "    headerContent = dict()\n",
    "    index = 0\n",
    "    \n",
    "    headerContent['magicBytes'] = recieveHeader[index:index+8]\n",
    "    index += 20\n",
    "    \n",
    "    headerContent['packetLength'] = recieveHeader[index:index+4].view(dtype=np.uint32)\n",
    "    index += 4\n",
    "        \n",
    "    headerContent['frameNumber'] = recieveHeader[index:index+4].view(dtype=np.uint32)\n",
    "    index += 24\n",
    "    \n",
    "    headerContent['numTLVs'] = recieveHeader[index:index+2].view(dtype=np.uint16)\n",
    "    \n",
    "    return headerContent"
   ]
  },
  {
   "cell_type": "code",
   "execution_count": 129,
   "metadata": {},
   "outputs": [],
   "source": [
    "def tlvParsing(data, dataLength, tlvHeaderLengthInBytes, pointLengthInBytes):\n",
    "    \n",
    "    \n",
    "    index = 0\n",
    "    #tlv header parsing\n",
    "    tlvType = data[index:index+4].view(dtype=np.uint32)\n",
    "    tlvLength = data[index+4:index+8].view(dtype=np.uint32)\n",
    "    \n",
    "    #TLV size check\n",
    "    print(tlvLength + index)\n",
    "    print(dataLength)\n",
    "    print(tlvLength + index > dataLength)\n",
    "    if (tlvLength + index > dataLength):\n",
    "        print('TLV SIZE IS WRONG')\n",
    "        lostSync = True\n",
    "        return\n",
    "    \n",
    "    index += tlvHeaderLengthInBytes\n",
    "    tlvDataLength = tlvLength - tlvHeaderLengthInBytes\n",
    "    if tlvType == 6: #point cloud TLV\n",
    "        numberOfPoints = tlvDataLength/pointLengthInBytes\n",
    "        print('NUMBER OF POINTS ', str(numberOfPoints))\n",
    "        if numberOfPoints > 0:\n",
    "           \n",
    "            p = data[index:index+tlvDataLength]\n",
    "            print(p)\n",
    "            #form the appropriate array \n",
    "            #each point is 16 bytes - 4 bytes for each property - range, azimuth, doppler, snr\n",
    "            \n",
    "                \n",
    "            \n",
    "            return p\n",
    "        \n",
    "    "
   ]
  },
  {
   "cell_type": "code",
   "execution_count": 130,
   "metadata": {},
   "outputs": [
    {
     "name": "stdout",
     "output_type": "stream",
     "text": [
      "{'magicBytes': array([2, 1, 4, 3, 6, 5, 8, 7], dtype=uint8), 'packetLength': array([330], dtype=uint32), 'frameNumber': array([419887], dtype=uint32), 'numTLVs': array([3], dtype=uint16)}\n",
      "DONE\n",
      "[120]\n",
      "278\n",
      "[False]\n",
      "NUMBER OF POINTS  [7.]\n"
     ]
    },
    {
     "ename": "TypeError",
     "evalue": "only integer scalar arrays can be converted to a scalar index",
     "output_type": "error",
     "traceback": [
      "\u001b[1;31m---------------------------------------------------------------------------\u001b[0m",
      "\u001b[1;31mTypeError\u001b[0m                                 Traceback (most recent call last)",
      "\u001b[1;32m<ipython-input-130-d3d1e81664c8>\u001b[0m in \u001b[0;36m<module>\u001b[1;34m\u001b[0m\n\u001b[0;32m     41\u001b[0m             \u001b[0mrawData\u001b[0m \u001b[1;33m=\u001b[0m \u001b[0mDataport\u001b[0m\u001b[1;33m.\u001b[0m\u001b[0mread\u001b[0m\u001b[1;33m(\u001b[0m\u001b[0mdataLength\u001b[0m\u001b[1;33m)\u001b[0m\u001b[1;33m\u001b[0m\u001b[1;33m\u001b[0m\u001b[0m\n\u001b[0;32m     42\u001b[0m             \u001b[0mdata\u001b[0m \u001b[1;33m=\u001b[0m \u001b[0mnp\u001b[0m\u001b[1;33m.\u001b[0m\u001b[0mfrombuffer\u001b[0m\u001b[1;33m(\u001b[0m\u001b[0mrawData\u001b[0m\u001b[1;33m,\u001b[0m \u001b[0mdtype\u001b[0m \u001b[1;33m=\u001b[0m \u001b[1;34m'uint8'\u001b[0m\u001b[1;33m)\u001b[0m\u001b[1;33m\u001b[0m\u001b[1;33m\u001b[0m\u001b[0m\n\u001b[1;32m---> 43\u001b[1;33m             \u001b[0mpointCloud\u001b[0m \u001b[1;33m=\u001b[0m \u001b[0mtlvParsing\u001b[0m\u001b[1;33m(\u001b[0m\u001b[0mdata\u001b[0m\u001b[1;33m,\u001b[0m \u001b[0mdataLength\u001b[0m\u001b[1;33m,\u001b[0m \u001b[0mtlvHeaderLengthInBytes\u001b[0m\u001b[1;33m,\u001b[0m \u001b[0mpointLengthInBytes\u001b[0m\u001b[1;33m)\u001b[0m\u001b[1;33m\u001b[0m\u001b[1;33m\u001b[0m\u001b[0m\n\u001b[0m\u001b[0;32m     44\u001b[0m             \u001b[0mprint\u001b[0m\u001b[1;33m(\u001b[0m\u001b[0mpointCloud\u001b[0m\u001b[1;33m)\u001b[0m\u001b[1;33m\u001b[0m\u001b[1;33m\u001b[0m\u001b[0m\n\u001b[0;32m     45\u001b[0m \u001b[1;33m\u001b[0m\u001b[0m\n",
      "\u001b[1;32m<ipython-input-129-5080412cda65>\u001b[0m in \u001b[0;36mtlvParsing\u001b[1;34m(data, dataLength, tlvHeaderLengthInBytes, pointLengthInBytes)\u001b[0m\n\u001b[0;32m     23\u001b[0m         \u001b[1;32mif\u001b[0m \u001b[0mnumberOfPoints\u001b[0m \u001b[1;33m>\u001b[0m \u001b[1;36m0\u001b[0m\u001b[1;33m:\u001b[0m\u001b[1;33m\u001b[0m\u001b[1;33m\u001b[0m\u001b[0m\n\u001b[0;32m     24\u001b[0m \u001b[1;33m\u001b[0m\u001b[0m\n\u001b[1;32m---> 25\u001b[1;33m             \u001b[0mp\u001b[0m \u001b[1;33m=\u001b[0m \u001b[0mdata\u001b[0m\u001b[1;33m[\u001b[0m\u001b[0mindex\u001b[0m\u001b[1;33m:\u001b[0m\u001b[0mindex\u001b[0m\u001b[1;33m+\u001b[0m\u001b[0mtlvDataLength\u001b[0m\u001b[1;33m]\u001b[0m\u001b[1;33m\u001b[0m\u001b[1;33m\u001b[0m\u001b[0m\n\u001b[0m\u001b[0;32m     26\u001b[0m             \u001b[0mprint\u001b[0m\u001b[1;33m(\u001b[0m\u001b[0mp\u001b[0m\u001b[1;33m)\u001b[0m\u001b[1;33m\u001b[0m\u001b[1;33m\u001b[0m\u001b[0m\n\u001b[0;32m     27\u001b[0m             \u001b[1;31m#form the appropriate array\u001b[0m\u001b[1;33m\u001b[0m\u001b[1;33m\u001b[0m\u001b[1;33m\u001b[0m\u001b[0m\n",
      "\u001b[1;31mTypeError\u001b[0m: only integer scalar arrays can be converted to a scalar index"
     ]
    }
   ],
   "source": [
    "#read and parse data\n",
    "\n",
    "while Dataport.is_open:\n",
    "    \n",
    "    while (not(lostSync) and Dataport.is_open):\n",
    "        #check for a valid frame header\n",
    "        if not(gotHeader):\n",
    "            \n",
    "            #in_waiting = amount of bytes in the buffer\n",
    "            rawRecieveHeader = Dataport.read(frameHeaderLength)\n",
    "            recieveHeader = np.frombuffer(rawRecieveHeader, dtype = 'uint8')\n",
    "            \n",
    "        #magic byte check\n",
    "        if not(np.array_equal(recieveHeader[0:8],magicBytes)):\n",
    "            print('NO SYNC PATTERN')\n",
    "            lostSync = True\n",
    "            break\n",
    "\n",
    "        #valid the checksum\n",
    "#         CS = validateChecksum(recieveHeader)\n",
    "        \n",
    "        #have a valid frame header\n",
    "        headerContent = readHeader(recieveHeader)\n",
    "        print(headerContent)\n",
    "        print('DONE')\n",
    "        \n",
    "        if (gotHeader):\n",
    "            if headerContent['frameNumber'] > targetFrameNumber:\n",
    "                targetFrameNumber = headerContent['frameNumber']\n",
    "                gotHeader = False\n",
    "                print('FOUND SYNC AT FRAME NUMBER ' + str(targetFrameNumber))\n",
    "            else:\n",
    "                print('OLD FRAME')\n",
    "                gotHeader = False\n",
    "                lostSync = True\n",
    "                break\n",
    "                \n",
    "        dataLength = int(headerContent['packetLength'] - frameHeaderLength)\n",
    "        if dataLength > 0:\n",
    "            #read the rest of the packet\n",
    "            rawData = Dataport.read(dataLength)\n",
    "            data = np.frombuffer(rawData, dtype = 'uint8')\n",
    "            pointCloud = tlvParsing(data, dataLength, tlvHeaderLengthInBytes, pointLengthInBytes)\n",
    "            print(pointCloud)\n",
    "            \n",
    "            \n",
    "            \n",
    "            "
   ]
  },
  {
   "cell_type": "code",
   "execution_count": 85,
   "metadata": {},
   "outputs": [
    {
     "name": "stdout",
     "output_type": "stream",
     "text": [
      "None\n"
     ]
    }
   ],
   "source": [
    "print(pointCloud)"
   ]
  },
  {
   "cell_type": "code",
   "execution_count": 95,
   "metadata": {},
   "outputs": [],
   "source": []
  },
  {
   "cell_type": "code",
   "execution_count": 98,
   "metadata": {},
   "outputs": [
    {
     "name": "stdout",
     "output_type": "stream",
     "text": [
      "[0.6351524]\n"
     ]
    }
   ],
   "source": [
    "x = np.array([89,153,34,63], dtype=np.uint8)\n",
    "print(x.view(dtype=np.single))"
   ]
  },
  {
   "cell_type": "code",
   "execution_count": null,
   "metadata": {},
   "outputs": [],
   "source": []
  }
 ],
 "metadata": {
  "kernelspec": {
   "display_name": "Python 3",
   "language": "python",
   "name": "python3"
  },
  "language_info": {
   "codemirror_mode": {
    "name": "ipython",
    "version": 3
   },
   "file_extension": ".py",
   "mimetype": "text/x-python",
   "name": "python",
   "nbconvert_exporter": "python",
   "pygments_lexer": "ipython3",
   "version": "3.7.1"
  }
 },
 "nbformat": 4,
 "nbformat_minor": 2
}
