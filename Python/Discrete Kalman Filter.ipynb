{
 "cells": [
  {
   "cell_type": "markdown",
   "metadata": {},
   "source": [
    "# Discrete Kalman Filter"
   ]
  },
  {
   "cell_type": "code",
   "execution_count": 1,
   "metadata": {},
   "outputs": [],
   "source": [
    "import numpy as np\n",
    "import pandas as pd\n",
    "from scipy.linalg import expm"
   ]
  },
  {
   "cell_type": "markdown",
   "metadata": {},
   "source": [
    "### Helper Functions"
   ]
  },
  {
   "cell_type": "code",
   "execution_count": 2,
   "metadata": {},
   "outputs": [],
   "source": [
    "def predictStep(x, A):\n",
    "    xPred = np.matmul(A,x)\n",
    "    return xPred"
   ]
  },
  {
   "cell_type": "code",
   "execution_count": 3,
   "metadata": {},
   "outputs": [],
   "source": [
    "def innovationStep(xPred,z, H):\n",
    "    innovation = np.subtract(z, np.matmul(H, xPred)) #innovation\n",
    "    return innovation"
   ]
  },
  {
   "cell_type": "code",
   "execution_count": 4,
   "metadata": {},
   "outputs": [],
   "source": [
    "def UpdateStep(xPred, nu, K):\n",
    "    xNew = np.add(xPred, np.matmul(K, innovation))\n",
    "    return xNew"
   ]
  },
  {
   "cell_type": "code",
   "execution_count": 542,
   "metadata": {},
   "outputs": [],
   "source": [
    "def dataAssociation(centroidFrame, filteredCentroidPolarFrames):\n",
    "    rThetaMeasurement = convertCartesianToPolar(centroidFrame)\n",
    "    #predict\n",
    "    previousCentroids = filteredCentroidPolarFrames[-1]\n",
    "    xPredAll = np.array([])\n",
    "    for centroidIndex in list(previousCentroids['CentroidNumber']):\n",
    "        xPrev = np.expand_dims(previousCentroids.loc[centroidIndex][:-1].values, axis=1)\n",
    "        xPred = predictStep(xPrev, A)\n",
    "        if len(xPredAll) == 0:\n",
    "            xPredAll = xPred\n",
    "        else:\n",
    "            xPredAll = np.hstack((xPredAll, xPred))\n",
    "\n",
    "    xPredAll = np.transpose(xPredAll) #keep consistent with other dataframes\n",
    "    xPredDf = pd.DataFrame(xPredAll)\n",
    "    xPredDf.columns = ['PredictedRange', 'PredictedDoppler', 'PredictedTheta', 'PredictedAngularVelocity']\n",
    "    xPredDf['CentroidNumber'] = pd.Series(np.arange(xPredDf.shape[0]))\n",
    "\n",
    "    #data associate\n",
    "    distanceMatrix = np.eye(xPredDf.shape[0], rThetaMeasurement.shape[0])\n",
    "    #create distance matrix\n",
    "    for centroidIndex in xPredDf['CentroidNumber']:\n",
    "        #access prev centroid information\n",
    "        prevCentroidInfo = xPredDf.loc[centroidIndex]\n",
    "        #compare against measurement centroid stats and find distances\n",
    "        for centroidNumber in rThetaMeasurement['CentroidNumber']:\n",
    "            #access measured centroid information\n",
    "            measurementCentroidInfo = rThetaMeasurement.loc[centroidNumber]\n",
    "            #find distances between measured and predicted centroids\n",
    "            length = np.sqrt((prevCentroidInfo.PredictedRange**2) + (measurementCentroidInfo.R ** 2) - \\\n",
    "            (2*measurementCentroidInfo.R*prevCentroidInfo.PredictedRange*np.cos((prevCentroidInfo.PredictedTheta - measurementCentroidInfo.Theta))))\n",
    "            #fill in distance matrix\n",
    "            distanceMatrix[centroidIndex, centroidNumber] = length\n",
    "    #global association\n",
    "    correctAssociationMatrix = np.array([])\n",
    "    #loop as many times as needed\n",
    "    for loopIterator in range(0, min(max(xPredDf['CentroidNumber']),max(rThetaMeasurement['CentroidNumber']))+1) :\n",
    "        #find minimum distance \n",
    "        predictedCentroidNumber, measuredCentroidNumber = (np.where(distanceMatrix == np.min(distanceMatrix))[0][0], \\\n",
    "                                                           np.where(distanceMatrix == np.min(distanceMatrix))[1][0])\n",
    "        if len(correctAssociationMatrix) == 0:\n",
    "            correctAssociationMatrix = np.array([rThetaMeasurement.loc[measuredCentroidNumber].R,\\\n",
    "                                                        rThetaMeasurement.loc[measuredCentroidNumber].Theta,predictedCentroidNumber])\n",
    "        else:\n",
    "            correctAssociationMatrix = np.vstack((correctAssociationMatrix,\\\n",
    "                                                  np.array([rThetaMeasurement.loc[measuredCentroidNumber].R,\\\n",
    "                                                            rThetaMeasurement.loc[measuredCentroidNumber].Theta,predictedCentroidNumber])))\n",
    "\n",
    "        #fill in with Inf where the centroid has been associated\n",
    "        distanceMatrix[predictedCentroidNumber, :] = np.Inf\n",
    "\n",
    "    associatedDf = pd.DataFrame(correctAssociationMatrix, columns=['MeasuredRange', 'MeasuredTheta', 'CentroidNumber'])\n",
    "    print('DONE ASSOCIATING')\n",
    "\n",
    "    #measurement has more centroids than associated\n",
    "    if associatedDf.shape[0] < rThetaMeasurement.shape[0]:\n",
    "        print('MORE')\n",
    "        #add those extra centoids \n",
    "        for centroidIndex in range(0,rThetaMeasurement.shape[0]):\n",
    "            measurement = rThetaMeasurement.loc[centroidIndex]\n",
    "            if measurement.R not in list(associatedDf['MeasuredRange']):\n",
    "                measurement = {'MeasuredRange': measurement.R, 'MeasuredTheta':measurement.Theta, 'CentroidNumber': max(associatedDf['CentroidNumber']+1)}\n",
    "                measurement = pd.DataFrame(data=measurement, index=range(1))\n",
    "                associatedDf = pd.concat([associatedDf,measurement], axis=0, ignore_index = True)                       \n",
    "\n",
    "    #measurement has less centroids than predicted - add the predicted value of the unassociated centroid into the associatedDf\n",
    "    if not((np.isinf(distanceMatrix)).all()):\n",
    "        print('LESS')\n",
    "        #add predicted value of unassociated centroid to the dataframe\n",
    "        np.isfinite(distanceMatrix[:,0])\n",
    "        for centroidIndex in range(0,xPredDf.shape[0]):\n",
    "            predicted = xPredDf.loc[centroidIndex]\n",
    "            if predicted.CentroidNumber not in list(associatedDf['CentroidNumber']):\n",
    "                predicted = {'MeasuredRange': predicted.Range, 'MeasuredTheta':predicted.Theta, 'CentroidNumber': predicted.CentroidNumber}\n",
    "                predicted = pd.DataFrame(data=predicted, index=range(1))\n",
    "                associatedDf = pd.concat([associatedDf,predicted], axis=0, ignore_index = True)    \n",
    "    return associatedDf, xPredDf"
   ]
  },
  {
   "cell_type": "code",
   "execution_count": 6,
   "metadata": {},
   "outputs": [],
   "source": [
    "#convert x,y to r,theta\n",
    "def convertCartesianToPolar(cartesianMeasurementCentroidDf):\n",
    "    measurementR = np.sqrt(np.square(cartesianMeasurementCentroidDf['X']) + np.square(cartesianMeasurementCentroidDf['Y']))\n",
    "    measurementTheta = np.arctan(cartesianMeasurementCentroidDf['Y']/cartesianMeasurementCentroidDf['X'])\n",
    "    polarCentroidDf = pd.DataFrame({'CentroidNumber':cartesianMeasurementCentroidDf['CentroidNumber'], \n",
    "                                   'R': measurementR,\n",
    "                                   'Theta': measurementTheta})\n",
    "    return polarCentroidDf"
   ]
  },
  {
   "cell_type": "code",
   "execution_count": 7,
   "metadata": {},
   "outputs": [],
   "source": [
    "#initialize variables\n",
    "deltaT = 50*10**-3 #50ms\n",
    "\n",
    "#system matrix\n",
    "A = np.array([\n",
    "    [1, deltaT, 0,0],\n",
    "    [0,1,0,0],\n",
    "    [0,0,1,deltaT],\n",
    "    [0,0,0,1]\n",
    "])\n",
    "#state transition matrix\n",
    "F = expm(A*deltaT)\n",
    "#output matrix\n",
    "H = np.array([[1,0,0,0],\n",
    "              [0,0,1,0]])\n",
    "#covariance matrices\n",
    "Q = np.eye(4)\n",
    "R = np.ones(2).reshape(-1,1)\n",
    "Pc = np.eye(4)\n",
    "\n",
    "Pd = np.add(np.matmul(np.matmul(A,Pc), np.transpose(A)), Q) #prediction covariance\n",
    "S = np.add(R, np.matmul(np.matmul(H, Pd), np.transpose(H))) #innovation covariance\n",
    "K = np.matmul(Pd, np.matmul(np.transpose(H), np.linalg.inv(S))) #kalman gain\n",
    "Pupdate = np.subtract(Pd, np.matmul(np.matmul(K, S), np.transpose(K))) #update covariance"
   ]
  },
  {
   "cell_type": "markdown",
   "metadata": {},
   "source": [
    "### Unit Testing"
   ]
  },
  {
   "cell_type": "code",
   "execution_count": 8,
   "metadata": {},
   "outputs": [
    {
     "data": {
      "text/plain": [
       "array([[1.025],\n",
       "       [0.5  ],\n",
       "       [0.   ],\n",
       "       [0.   ]])"
      ]
     },
     "execution_count": 8,
     "metadata": {},
     "output_type": "execute_result"
    }
   ],
   "source": [
    "#test predict step\n",
    "x = np.expand_dims(np.array([1,0.5,0,0]), axis=1) #previous state\n",
    "xPred = predictStep(x, A) #predicted state\n",
    "xPred"
   ]
  },
  {
   "cell_type": "code",
   "execution_count": 9,
   "metadata": {},
   "outputs": [
    {
     "data": {
      "text/plain": [
       "array([[-0.025],\n",
       "       [ 0.5  ]])"
      ]
     },
     "execution_count": 9,
     "metadata": {},
     "output_type": "execute_result"
    }
   ],
   "source": [
    "#test innovation\n",
    "#use xPred from previous step\n",
    "# innovation(xPred, Pd, z, H, R)\n",
    "z = np.expand_dims(np.array([1,0.5]), axis=1) #create column vector\n",
    "innovation = innovationStep(xPred, z, H)\n",
    "innovation"
   ]
  },
  {
   "cell_type": "code",
   "execution_count": 10,
   "metadata": {},
   "outputs": [
    {
     "data": {
      "text/plain": [
       "array([[0.88132417],\n",
       "       [0.49641259],\n",
       "       [0.38132417],\n",
       "       [0.0095212 ]])"
      ]
     },
     "execution_count": 10,
     "metadata": {},
     "output_type": "execute_result"
    }
   ],
   "source": [
    "#test update step\n",
    "xNew = UpdateStep(xPred, innovation, K)\n",
    "xNew"
   ]
  },
  {
   "cell_type": "code",
   "execution_count": 555,
   "metadata": {},
   "outputs": [],
   "source": [
    "#test centroid dataset\n",
    "#centroidDf_A contains 2 centroids\n",
    "centroidDfCartesian_A = pd.DataFrame({'CentroidNumber':np.arange(0,2), \n",
    "                             'X':np.array([-1,0]), \n",
    "                             'Y':np.array([3,1])})\n",
    "#centroidDf_B contains 2 centroids and continues on from centroidDf_A\n",
    "centroidDfCartesian_B = pd.DataFrame({'CentroidNumber':np.arange(0,2), \n",
    "                             'X':np.array([-1,0.5]), \n",
    "                             'Y':np.array([2.5,0.7])})\n",
    "#centroidDf_C contains 3 centroids continuing from centroidDf_B\n",
    "centroidDfCartesian_C = pd.DataFrame({'CentroidNumber':np.arange(0,3), \n",
    "                             'X':np.array([-1,0.7, 0.3]), \n",
    "                             'Y':np.array([1.2,0.5, 3.2])})\n",
    "\n",
    "#contains the centroid frames, where each frame represents a mmWave capture frame\n",
    "# centroidFramesCartesianMeasurement = [centroidDfCartesian_A,centroidDfCartesian_B,centroidDfCartesian_C]\n",
    "centroidFramesCartesianMeasurement = [centroidDfCartesian_A, centroidDfCartesian_B,centroidDfCartesian_C]"
   ]
  },
  {
   "cell_type": "code",
   "execution_count": 556,
   "metadata": {},
   "outputs": [
    {
     "name": "stdout",
     "output_type": "stream",
     "text": [
      "DONE ASSOCIATING\n",
      "DONE ASSOCIATING\n",
      "MORE\n"
     ]
    },
    {
     "ename": "KeyError",
     "evalue": "'Range'",
     "output_type": "error",
     "traceback": [
      "\u001b[1;31m---------------------------------------------------------------------------\u001b[0m",
      "\u001b[1;31mKeyError\u001b[0m                                  Traceback (most recent call last)",
      "\u001b[1;32m~\\Anaconda3\\lib\\site-packages\\pandas\\core\\indexes\\base.py\u001b[0m in \u001b[0;36mget_loc\u001b[1;34m(self, key, method, tolerance)\u001b[0m\n\u001b[0;32m   2656\u001b[0m             \u001b[1;32mtry\u001b[0m\u001b[1;33m:\u001b[0m\u001b[1;33m\u001b[0m\u001b[1;33m\u001b[0m\u001b[0m\n\u001b[1;32m-> 2657\u001b[1;33m                 \u001b[1;32mreturn\u001b[0m \u001b[0mself\u001b[0m\u001b[1;33m.\u001b[0m\u001b[0m_engine\u001b[0m\u001b[1;33m.\u001b[0m\u001b[0mget_loc\u001b[0m\u001b[1;33m(\u001b[0m\u001b[0mkey\u001b[0m\u001b[1;33m)\u001b[0m\u001b[1;33m\u001b[0m\u001b[1;33m\u001b[0m\u001b[0m\n\u001b[0m\u001b[0;32m   2658\u001b[0m             \u001b[1;32mexcept\u001b[0m \u001b[0mKeyError\u001b[0m\u001b[1;33m:\u001b[0m\u001b[1;33m\u001b[0m\u001b[1;33m\u001b[0m\u001b[0m\n",
      "\u001b[1;32mpandas/_libs/index.pyx\u001b[0m in \u001b[0;36mpandas._libs.index.IndexEngine.get_loc\u001b[1;34m()\u001b[0m\n",
      "\u001b[1;32mpandas/_libs/index.pyx\u001b[0m in \u001b[0;36mpandas._libs.index.IndexEngine.get_loc\u001b[1;34m()\u001b[0m\n",
      "\u001b[1;32mpandas/_libs/hashtable_class_helper.pxi\u001b[0m in \u001b[0;36mpandas._libs.hashtable.PyObjectHashTable.get_item\u001b[1;34m()\u001b[0m\n",
      "\u001b[1;32mpandas/_libs/hashtable_class_helper.pxi\u001b[0m in \u001b[0;36mpandas._libs.hashtable.PyObjectHashTable.get_item\u001b[1;34m()\u001b[0m\n",
      "\u001b[1;31mKeyError\u001b[0m: 'Range'",
      "\nDuring handling of the above exception, another exception occurred:\n",
      "\u001b[1;31mKeyError\u001b[0m                                  Traceback (most recent call last)",
      "\u001b[1;32m<ipython-input-556-6985cdb8ecda>\u001b[0m in \u001b[0;36m<module>\u001b[1;34m\u001b[0m\n\u001b[0;32m     19\u001b[0m     \u001b[1;32melse\u001b[0m\u001b[1;33m:\u001b[0m\u001b[1;33m\u001b[0m\u001b[1;33m\u001b[0m\u001b[0m\n\u001b[0;32m     20\u001b[0m \u001b[1;33m\u001b[0m\u001b[0m\n\u001b[1;32m---> 21\u001b[1;33m         \u001b[0massociatedDf\u001b[0m\u001b[1;33m,\u001b[0m \u001b[0mxPredDf\u001b[0m \u001b[1;33m=\u001b[0m \u001b[0mdataAssociation\u001b[0m\u001b[1;33m(\u001b[0m\u001b[0mcentroidFrame\u001b[0m\u001b[1;33m,\u001b[0m \u001b[0mfilteredCentroidPolarFrames\u001b[0m\u001b[1;33m)\u001b[0m\u001b[1;33m\u001b[0m\u001b[1;33m\u001b[0m\u001b[0m\n\u001b[0m\u001b[0;32m     22\u001b[0m         \u001b[0moverallDf\u001b[0m \u001b[1;33m=\u001b[0m \u001b[0mpd\u001b[0m\u001b[1;33m.\u001b[0m\u001b[0mmerge\u001b[0m\u001b[1;33m(\u001b[0m\u001b[0massociatedDf\u001b[0m\u001b[1;33m,\u001b[0m \u001b[0mxPredDf\u001b[0m\u001b[1;33m,\u001b[0m \u001b[0mon\u001b[0m\u001b[1;33m=\u001b[0m\u001b[1;34m'CentroidNumber'\u001b[0m\u001b[1;33m,\u001b[0m \u001b[0mhow\u001b[0m\u001b[1;33m=\u001b[0m\u001b[1;34m'inner'\u001b[0m\u001b[1;33m)\u001b[0m\u001b[1;33m\u001b[0m\u001b[1;33m\u001b[0m\u001b[0m\n\u001b[0;32m     23\u001b[0m         \u001b[1;32mfor\u001b[0m \u001b[0mindex\u001b[0m \u001b[1;32min\u001b[0m \u001b[0mrange\u001b[0m\u001b[1;33m(\u001b[0m\u001b[1;36m0\u001b[0m \u001b[1;33m,\u001b[0m \u001b[0moverallDf\u001b[0m\u001b[1;33m.\u001b[0m\u001b[0mshape\u001b[0m\u001b[1;33m[\u001b[0m\u001b[1;36m0\u001b[0m\u001b[1;33m]\u001b[0m\u001b[1;33m)\u001b[0m\u001b[1;33m:\u001b[0m\u001b[1;33m\u001b[0m\u001b[1;33m\u001b[0m\u001b[0m\n",
      "\u001b[1;32m<ipython-input-542-74c823d67116>\u001b[0m in \u001b[0;36mdataAssociation\u001b[1;34m(centroidFrame, filteredCentroidPolarFrames)\u001b[0m\n\u001b[0;32m     59\u001b[0m         \u001b[1;32mfor\u001b[0m \u001b[0mcentroidIndex\u001b[0m \u001b[1;32min\u001b[0m \u001b[0mrange\u001b[0m\u001b[1;33m(\u001b[0m\u001b[1;36m0\u001b[0m\u001b[1;33m,\u001b[0m\u001b[0mrThetaMeasurement\u001b[0m\u001b[1;33m.\u001b[0m\u001b[0mshape\u001b[0m\u001b[1;33m[\u001b[0m\u001b[1;36m0\u001b[0m\u001b[1;33m]\u001b[0m\u001b[1;33m)\u001b[0m\u001b[1;33m:\u001b[0m\u001b[1;33m\u001b[0m\u001b[1;33m\u001b[0m\u001b[0m\n\u001b[0;32m     60\u001b[0m             \u001b[0mmeasurement\u001b[0m \u001b[1;33m=\u001b[0m \u001b[0mrThetaMeasurement\u001b[0m\u001b[1;33m.\u001b[0m\u001b[0mloc\u001b[0m\u001b[1;33m[\u001b[0m\u001b[0mcentroidIndex\u001b[0m\u001b[1;33m]\u001b[0m\u001b[1;33m\u001b[0m\u001b[1;33m\u001b[0m\u001b[0m\n\u001b[1;32m---> 61\u001b[1;33m             \u001b[1;32mif\u001b[0m \u001b[0mmeasurement\u001b[0m\u001b[1;33m.\u001b[0m\u001b[0mR\u001b[0m \u001b[1;32mnot\u001b[0m \u001b[1;32min\u001b[0m \u001b[0mlist\u001b[0m\u001b[1;33m(\u001b[0m\u001b[0massociatedDf\u001b[0m\u001b[1;33m[\u001b[0m\u001b[1;34m'Range'\u001b[0m\u001b[1;33m]\u001b[0m\u001b[1;33m)\u001b[0m\u001b[1;33m:\u001b[0m\u001b[1;33m\u001b[0m\u001b[1;33m\u001b[0m\u001b[0m\n\u001b[0m\u001b[0;32m     62\u001b[0m                 \u001b[0mmeasurement\u001b[0m \u001b[1;33m=\u001b[0m \u001b[1;33m{\u001b[0m\u001b[1;34m'MeasuredRange'\u001b[0m\u001b[1;33m:\u001b[0m \u001b[0mmeasurement\u001b[0m\u001b[1;33m.\u001b[0m\u001b[0mR\u001b[0m\u001b[1;33m,\u001b[0m \u001b[1;34m'MeasuredTheta'\u001b[0m\u001b[1;33m:\u001b[0m\u001b[0mmeasurement\u001b[0m\u001b[1;33m.\u001b[0m\u001b[0mTheta\u001b[0m\u001b[1;33m,\u001b[0m \u001b[1;34m'CentroidNumber'\u001b[0m\u001b[1;33m:\u001b[0m \u001b[0mmax\u001b[0m\u001b[1;33m(\u001b[0m\u001b[0massociatedDf\u001b[0m\u001b[1;33m[\u001b[0m\u001b[1;34m'CentroidNumber'\u001b[0m\u001b[1;33m]\u001b[0m\u001b[1;33m+\u001b[0m\u001b[1;36m1\u001b[0m\u001b[1;33m)\u001b[0m\u001b[1;33m}\u001b[0m\u001b[1;33m\u001b[0m\u001b[1;33m\u001b[0m\u001b[0m\n\u001b[0;32m     63\u001b[0m                 \u001b[0mmeasurement\u001b[0m \u001b[1;33m=\u001b[0m \u001b[0mpd\u001b[0m\u001b[1;33m.\u001b[0m\u001b[0mDataFrame\u001b[0m\u001b[1;33m(\u001b[0m\u001b[0mdata\u001b[0m\u001b[1;33m=\u001b[0m\u001b[0mmeasurement\u001b[0m\u001b[1;33m,\u001b[0m \u001b[0mindex\u001b[0m\u001b[1;33m=\u001b[0m\u001b[0mrange\u001b[0m\u001b[1;33m(\u001b[0m\u001b[1;36m1\u001b[0m\u001b[1;33m)\u001b[0m\u001b[1;33m)\u001b[0m\u001b[1;33m\u001b[0m\u001b[1;33m\u001b[0m\u001b[0m\n",
      "\u001b[1;32m~\\Anaconda3\\lib\\site-packages\\pandas\\core\\frame.py\u001b[0m in \u001b[0;36m__getitem__\u001b[1;34m(self, key)\u001b[0m\n\u001b[0;32m   2925\u001b[0m             \u001b[1;32mif\u001b[0m \u001b[0mself\u001b[0m\u001b[1;33m.\u001b[0m\u001b[0mcolumns\u001b[0m\u001b[1;33m.\u001b[0m\u001b[0mnlevels\u001b[0m \u001b[1;33m>\u001b[0m \u001b[1;36m1\u001b[0m\u001b[1;33m:\u001b[0m\u001b[1;33m\u001b[0m\u001b[1;33m\u001b[0m\u001b[0m\n\u001b[0;32m   2926\u001b[0m                 \u001b[1;32mreturn\u001b[0m \u001b[0mself\u001b[0m\u001b[1;33m.\u001b[0m\u001b[0m_getitem_multilevel\u001b[0m\u001b[1;33m(\u001b[0m\u001b[0mkey\u001b[0m\u001b[1;33m)\u001b[0m\u001b[1;33m\u001b[0m\u001b[1;33m\u001b[0m\u001b[0m\n\u001b[1;32m-> 2927\u001b[1;33m             \u001b[0mindexer\u001b[0m \u001b[1;33m=\u001b[0m \u001b[0mself\u001b[0m\u001b[1;33m.\u001b[0m\u001b[0mcolumns\u001b[0m\u001b[1;33m.\u001b[0m\u001b[0mget_loc\u001b[0m\u001b[1;33m(\u001b[0m\u001b[0mkey\u001b[0m\u001b[1;33m)\u001b[0m\u001b[1;33m\u001b[0m\u001b[1;33m\u001b[0m\u001b[0m\n\u001b[0m\u001b[0;32m   2928\u001b[0m             \u001b[1;32mif\u001b[0m \u001b[0mis_integer\u001b[0m\u001b[1;33m(\u001b[0m\u001b[0mindexer\u001b[0m\u001b[1;33m)\u001b[0m\u001b[1;33m:\u001b[0m\u001b[1;33m\u001b[0m\u001b[1;33m\u001b[0m\u001b[0m\n\u001b[0;32m   2929\u001b[0m                 \u001b[0mindexer\u001b[0m \u001b[1;33m=\u001b[0m \u001b[1;33m[\u001b[0m\u001b[0mindexer\u001b[0m\u001b[1;33m]\u001b[0m\u001b[1;33m\u001b[0m\u001b[1;33m\u001b[0m\u001b[0m\n",
      "\u001b[1;32m~\\Anaconda3\\lib\\site-packages\\pandas\\core\\indexes\\base.py\u001b[0m in \u001b[0;36mget_loc\u001b[1;34m(self, key, method, tolerance)\u001b[0m\n\u001b[0;32m   2657\u001b[0m                 \u001b[1;32mreturn\u001b[0m \u001b[0mself\u001b[0m\u001b[1;33m.\u001b[0m\u001b[0m_engine\u001b[0m\u001b[1;33m.\u001b[0m\u001b[0mget_loc\u001b[0m\u001b[1;33m(\u001b[0m\u001b[0mkey\u001b[0m\u001b[1;33m)\u001b[0m\u001b[1;33m\u001b[0m\u001b[1;33m\u001b[0m\u001b[0m\n\u001b[0;32m   2658\u001b[0m             \u001b[1;32mexcept\u001b[0m \u001b[0mKeyError\u001b[0m\u001b[1;33m:\u001b[0m\u001b[1;33m\u001b[0m\u001b[1;33m\u001b[0m\u001b[0m\n\u001b[1;32m-> 2659\u001b[1;33m                 \u001b[1;32mreturn\u001b[0m \u001b[0mself\u001b[0m\u001b[1;33m.\u001b[0m\u001b[0m_engine\u001b[0m\u001b[1;33m.\u001b[0m\u001b[0mget_loc\u001b[0m\u001b[1;33m(\u001b[0m\u001b[0mself\u001b[0m\u001b[1;33m.\u001b[0m\u001b[0m_maybe_cast_indexer\u001b[0m\u001b[1;33m(\u001b[0m\u001b[0mkey\u001b[0m\u001b[1;33m)\u001b[0m\u001b[1;33m)\u001b[0m\u001b[1;33m\u001b[0m\u001b[1;33m\u001b[0m\u001b[0m\n\u001b[0m\u001b[0;32m   2660\u001b[0m         \u001b[0mindexer\u001b[0m \u001b[1;33m=\u001b[0m \u001b[0mself\u001b[0m\u001b[1;33m.\u001b[0m\u001b[0mget_indexer\u001b[0m\u001b[1;33m(\u001b[0m\u001b[1;33m[\u001b[0m\u001b[0mkey\u001b[0m\u001b[1;33m]\u001b[0m\u001b[1;33m,\u001b[0m \u001b[0mmethod\u001b[0m\u001b[1;33m=\u001b[0m\u001b[0mmethod\u001b[0m\u001b[1;33m,\u001b[0m \u001b[0mtolerance\u001b[0m\u001b[1;33m=\u001b[0m\u001b[0mtolerance\u001b[0m\u001b[1;33m)\u001b[0m\u001b[1;33m\u001b[0m\u001b[1;33m\u001b[0m\u001b[0m\n\u001b[0;32m   2661\u001b[0m         \u001b[1;32mif\u001b[0m \u001b[0mindexer\u001b[0m\u001b[1;33m.\u001b[0m\u001b[0mndim\u001b[0m \u001b[1;33m>\u001b[0m \u001b[1;36m1\u001b[0m \u001b[1;32mor\u001b[0m \u001b[0mindexer\u001b[0m\u001b[1;33m.\u001b[0m\u001b[0msize\u001b[0m \u001b[1;33m>\u001b[0m \u001b[1;36m1\u001b[0m\u001b[1;33m:\u001b[0m\u001b[1;33m\u001b[0m\u001b[1;33m\u001b[0m\u001b[0m\n",
      "\u001b[1;32mpandas/_libs/index.pyx\u001b[0m in \u001b[0;36mpandas._libs.index.IndexEngine.get_loc\u001b[1;34m()\u001b[0m\n",
      "\u001b[1;32mpandas/_libs/index.pyx\u001b[0m in \u001b[0;36mpandas._libs.index.IndexEngine.get_loc\u001b[1;34m()\u001b[0m\n",
      "\u001b[1;32mpandas/_libs/hashtable_class_helper.pxi\u001b[0m in \u001b[0;36mpandas._libs.hashtable.PyObjectHashTable.get_item\u001b[1;34m()\u001b[0m\n",
      "\u001b[1;32mpandas/_libs/hashtable_class_helper.pxi\u001b[0m in \u001b[0;36mpandas._libs.hashtable.PyObjectHashTable.get_item\u001b[1;34m()\u001b[0m\n",
      "\u001b[1;31mKeyError\u001b[0m: 'Range'"
     ]
    }
   ],
   "source": [
    "filteredCentroidPolarFrames = list()\n",
    "\n",
    "#load in frames\n",
    "for centroidFrame in centroidFramesCartesianMeasurement:\n",
    "    filteredPolarFrame = np.array([])\n",
    "    \n",
    "    if len(filteredCentroidPolarFrames) == 0: #first iteration of the kalman filter\n",
    "        polarCentroidFrameMeasurement = convertCartesianToPolar(centroidFrame)\n",
    "        for centroid in polarCentroidFrameMeasurement['CentroidNumber']:\n",
    "            xPred = np.expand_dims(np.array([0,0,0,0]), axis=1) #initialise \n",
    "            xPred = predictStep(x, A)\n",
    "            measurement = np.expand_dims(polarCentroidFrameMeasurement.values[centroid][1:], axis=1)\n",
    "            innovation = innovationStep(xPred, measurement, H)\n",
    "            xUpdate = UpdateStep(xPred, innovation, K)\n",
    "            if len(filteredPolarFrame) == 0:\n",
    "                filteredPolarFrame = xUpdate\n",
    "            else:\n",
    "                filteredPolarFrame = np.hstack((filteredPolarFrame,xUpdate))\n",
    "    else:\n",
    "        \n",
    "        associatedDf, xPredDf = dataAssociation(centroidFrame, filteredCentroidPolarFrames)\n",
    "        overallDf = pd.merge(associatedDf, xPredDf, on='CentroidNumber', how='inner')\n",
    "        for index in range(0 , overallDf.shape[0]):\n",
    "            centroidData = overallDf.loc[index]\n",
    "            measurement = np.expand_dims(np.array([centroidData.MeasuredRange, centroidData.MeasuredTheta]), axis=1)\n",
    "            xPred = np.expand_dims(np.array([centroidData.PredictedRange, centroidData.PredictedDoppler,centroidData.PredictedTheta, centroidData.PredictedAngularVelocity]), axis=1)\n",
    "            innovation = innovationStep(xPred, measurement, H)\n",
    "            xUpdate = UpdateStep(xPred, innovation, K)\n",
    "            if len(filteredPolarFrame) == 0:\n",
    "                filteredPolarFrame = xUpdate\n",
    "            else:\n",
    "                filteredPolarFrame = np.hstack((filteredPolarFrame,xUpdate))\n",
    "                \n",
    "    filteredPolarDf = pd.DataFrame(np.transpose(filteredPolarFrame))\n",
    "    filteredPolarDf.columns = ['Filtered Range', 'Filtered Doppler', 'Filtered Theta', 'Filtered Angular Velocity']\n",
    "    filteredPolarDf['CentroidNumber'] = pd.Series(np.arange(filteredPolarDf.shape[0]))\n",
    "    filteredCentroidPolarFrames.append(filteredPolarDf)"
   ]
  },
  {
   "cell_type": "code",
   "execution_count": 552,
   "metadata": {},
   "outputs": [
    {
     "name": "stdout",
     "output_type": "stream",
     "text": [
      "[[0.86023253]\n",
      " [0.95054684]]\n"
     ]
    }
   ],
   "source": [
    "centroidData = overallDf.loc[0]\n",
    "measurement = np.expand_dims(np.array([centroidData.MeasuredRange, centroidData.MeasuredTheta]), axis=1)\n",
    "xPred = np.expand_dims(np.array([centroidData.PredictedRange, centroidData.PredictedDoppler,centroidData.PredictedTheta, centroidData.PredictedAngularVelocity]), axis=1)\n"
   ]
  },
  {
   "cell_type": "code",
   "execution_count": 550,
   "metadata": {},
   "outputs": [
    {
     "data": {
      "text/plain": [
       "MeasuredRange               0.860233\n",
       "MeasuredTheta               0.950547\n",
       "CentroidNumber              1.000000\n",
       "PredictedRange              0.638279\n",
       "PredictedDoppler            0.489733\n",
       "PredictedTheta              1.186068\n",
       "PredictedAngularVelocity    0.029578\n",
       "Name: 0, dtype: float64"
      ]
     },
     "execution_count": 550,
     "metadata": {},
     "output_type": "execute_result"
    }
   ],
   "source": [
    "centroidData"
   ]
  },
  {
   "cell_type": "code",
   "execution_count": 539,
   "metadata": {},
   "outputs": [
    {
     "ename": "SyntaxError",
     "evalue": "invalid syntax (<ipython-input-539-cbc1eba16218>, line 29)",
     "output_type": "error",
     "traceback": [
      "\u001b[1;36m  File \u001b[1;32m\"<ipython-input-539-cbc1eba16218>\"\u001b[1;36m, line \u001b[1;32m29\u001b[0m\n\u001b[1;33m    length = np.sqrt((prevCentroidInfo.\"Predicted Range\"**2) + (measurementCentroidInfo.R ** 2) - \\\u001b[0m\n\u001b[1;37m                                                       ^\u001b[0m\n\u001b[1;31mSyntaxError\u001b[0m\u001b[1;31m:\u001b[0m invalid syntax\n"
     ]
    }
   ],
   "source": [
    "rThetaMeasurement = convertCartesianToPolar(centroidFrame)\n",
    "#predict\n",
    "previousCentroids = filteredCentroidPolarFrames[-1]\n",
    "xPredAll = np.array([])\n",
    "for centroidIndex in list(previousCentroids['CentroidNumber']):\n",
    "    xPrev = np.expand_dims(previousCentroids.loc[centroidIndex][:-1].values, axis=1)\n",
    "    xPred = predictStep(xPrev, A)\n",
    "    if len(xPredAll) == 0:\n",
    "        xPredAll = xPred\n",
    "    else:\n",
    "        xPredAll = np.hstack((xPredAll, xPred))\n",
    "\n",
    "xPredAll = np.transpose(xPredAll) #keep consistent with other dataframes\n",
    "xPredDf = pd.DataFrame(xPredAll)\n",
    "xPredDf.columns = ['Predicted_Range', 'Predicted_ Doppler', 'Predicted_Theta', 'Predicted_Angular_Velocity']\n",
    "xPredDf['CentroidNumber'] = pd.Series(np.arange(xPredDf.shape[0]))\n",
    "\n",
    "#data associate\n",
    "distanceMatrix = np.eye(xPredDf.shape[0], rThetaMeasurement.shape[0])\n",
    "#create distance matrix\n",
    "for centroidIndex in xPredDf['CentroidNumber']:\n",
    "    #access prev centroid information\n",
    "    prevCentroidInfo = xPredDf.loc[centroidIndex]\n",
    "    #compare against measurement centroid stats and find distances\n",
    "    for centroidNumber in rThetaMeasurement['CentroidNumber']:\n",
    "        #access measured centroid information\n",
    "        measurementCentroidInfo = rThetaMeasurement.loc[centroidNumber]\n",
    "        #find distances between measured and predicted centroids\n",
    "        length = np.sqrt((prevCentroidInfo.\"Predicted Range\"**2) + (measurementCentroidInfo.R ** 2) - \\\n",
    "        (2*measurementCentroidInfo.R*prevCentroidInfo.Range*np.cos((prevCentroidInfo.Theta - measurementCentroidInfo.Theta))))\n",
    "        #fill in distance matrix\n",
    "        distanceMatrix[centroidIndex, centroidNumber] = length\n",
    "#global association\n",
    "correctAssociationMatrix = np.array([])\n",
    "#loop as many times as needed\n",
    "for loopIterator in range(0, min(max(xPredDf['CentroidNumber']),max(rThetaMeasurement['CentroidNumber']))+1) :\n",
    "    #find minimum distance \n",
    "    predictedCentroidNumber, measuredCentroidNumber = (np.where(distanceMatrix == np.min(distanceMatrix))[0][0], \\\n",
    "                                                       np.where(distanceMatrix == np.min(distanceMatrix))[1][0])\n",
    "    if len(correctAssociationMatrix) == 0:\n",
    "        correctAssociationMatrix = np.array([rThetaMeasurement.loc[measuredCentroidNumber].R,\\\n",
    "                                                    rThetaMeasurement.loc[measuredCentroidNumber].Theta,predictedCentroidNumber])\n",
    "    else:\n",
    "        correctAssociationMatrix = np.vstack((correctAssociationMatrix,\\\n",
    "                                              np.array([rThetaMeasurement.loc[measuredCentroidNumber].R,\\\n",
    "                                                        rThetaMeasurement.loc[measuredCentroidNumber].Theta,predictedCentroidNumber])))\n",
    "\n",
    "    #fill in with Inf where the centroid has been associated\n",
    "    distanceMatrix[predictedCentroidNumber, :] = np.Inf\n",
    "\n",
    "associatedDf = pd.DataFrame(correctAssociationMatrix, columns=['Measured Range', 'Measured Theta', 'CentroidNumber'])\n",
    "print('DONE ASSOCIATING')\n",
    "\n",
    "#measurement has more centroids than associated\n",
    "if associatedDf.shape[0] < rThetaMeasurement.shape[0]:\n",
    "    print('MORE')\n",
    "    #add those extra centoids \n",
    "    for centroidIndex in range(0,rThetaMeasurement.shape[0]):\n",
    "        measurement = rThetaMeasurement.loc[centroidIndex]\n",
    "        if measurement.R not in list(associatedDf['Range']):\n",
    "            measurement = {'Measured Range': measurement.R, 'Measured Theta':measurement.Theta, 'CentroidNumber': max(associatedDf['CentroidNumber']+1)}\n",
    "            measurement = pd.DataFrame(data=measurement, index=range(1))\n",
    "            associatedDf = pd.concat([associatedDf,measurement], axis=0, ignore_index = True)                       \n",
    "\n",
    "#measurement has less centroids than predicted - add the predicted value of the unassociated centroid into the associatedDf\n",
    "if not((np.isinf(distanceMatrix)).all()):\n",
    "    print('LESS')\n",
    "    #add predicted value of unassociated centroid to the dataframe\n",
    "    np.isfinite(distanceMatrix[:,0])\n",
    "    for centroidIndex in range(0,xPredDf.shape[0]):\n",
    "        predicted = xPredDf.loc[centroidIndex]\n",
    "        if predicted.CentroidNumber not in list(associatedDf['CentroidNumber']):\n",
    "            predicted = {'Measured Range': predicted.Range, 'Measured Theta':predicted.Theta, 'CentroidNumber': predicted.CentroidNumber}\n",
    "            predicted = pd.DataFrame(data=predicted, index=range(1))\n",
    "            associatedDf = pd.concat([associatedDf,predicted], axis=0, ignore_index = True)    "
   ]
  },
  {
   "cell_type": "code",
   "execution_count": null,
   "metadata": {},
   "outputs": [],
   "source": []
  },
  {
   "cell_type": "code",
   "execution_count": 486,
   "metadata": {},
   "outputs": [],
   "source": [
    "distanceMAtrixTest = distanceMatrix[2,:] = np.inf"
   ]
  },
  {
   "cell_type": "code",
   "execution_count": 381,
   "metadata": {},
   "outputs": [
    {
     "data": {
      "text/plain": [
       "array([3.21403174, 1.47731955, 2.        ])"
      ]
     },
     "execution_count": 381,
     "metadata": {},
     "output_type": "execute_result"
    }
   ],
   "source": [
    "measurement"
   ]
  },
  {
   "cell_type": "code",
   "execution_count": 335,
   "metadata": {},
   "outputs": [
    {
     "data": {
      "text/plain": [
       "0    0\n",
       "1    1\n",
       "2    2\n",
       "Name: CentroidNumber, dtype: int32"
      ]
     },
     "execution_count": 335,
     "metadata": {},
     "output_type": "execute_result"
    }
   ],
   "source": [
    "rThetaMeasurement['CentroidNumber']"
   ]
  },
  {
   "cell_type": "code",
   "execution_count": 170,
   "metadata": {},
   "outputs": [],
   "source": [
    "#unit test - DATA ASSOCIATION\n",
    "rThetaMeasurement = convertCartesianToPolar(centroidDfCartesian_B) #next measurement \n",
    "\n",
    "previousCentroids = filteredCentroidPolar[-1]\n",
    "xPredAll = np.array([])\n",
    "#predict\n",
    "for centroidIndex in list(previousCentroids.columns):\n",
    "    xPrev = np.expand_dims(previousCentroids[centroidIndex].values, axis=1)\n",
    "    xPred = predictStep(xPrev, A)\n",
    "    if len(xPredAll) == 0:\n",
    "        xPredAll = xPred\n",
    "    else:\n",
    "        xPredAll = np.vstack((xPredAll, xPred))\n",
    "        \n",
    "xPredDf = pd.DataFrame(xPredAll)\n",
    "xPredDf.index = ['Range', 'Doppler', 'Theta', 'Angular Velocity']\n",
    "\n",
    "#data associate and update\n",
    "distanceMatrix = np.eye(xPredDf.shape[1], rThetaMeasurement.shape[0])\n",
    "for centroidIndex in xPredDf.columns:\n",
    "    #access prev centroid information\n",
    "    prevCentroidInfo = xPredDf[centroidIndex]\n",
    "    for centroidNumber in rThetaMeasurement['CentroidNumber']:\n",
    "        measurementCentroidInfo = rThetaMeasurement.loc[centroidNumber]\n",
    "        length = np.sqrt((prevCentroidInfo.Range**2) + (measurementCentroidInfo.R ** 2) - \\\n",
    "        (2*measurementCentroidInfo.R*prevCentroidInfo.Range*np.cos((prevCentroidInfo.Theta - measurementCentroidInfo.Theta))))\n",
    "        distanceMatrix[centroidIndex, centroidNumber] = length\n",
    "\n",
    "#global association\n",
    "correctAssociationMatrix = np.eye(xPredDf.shape[1],xPredDf.shape[1])\n",
    "for centroidNumber in xPredDf.columns:\n",
    "    #find global minimum\n",
    "    rowIndex, colIndex = (np.where(distanceMatrix == np.min(distanceMatrix))[0][0], np.where(distanceMatrix == np.min(distanceMatrix))[1][0])\n",
    "    #replace the associated row with inf \n",
    "    distanceMatrix[rowIndex, :] = np.Inf\n",
    "    #row index gives the prev centroid number that associates to the measurement centroid \n",
    "    #col index gives the measurement centroid number that associates to the prev centroid \n",
    "    correctAssociationMatrix[rowIndex,0] = rThetaMeasurement.loc[colIndex].R #correctly associated range\n",
    "    correctAssociationMatrix[rowIndex,1] = rThetaMeasurement.loc[colIndex].Theta #correctly associated theta\n",
    "measurementDf = pd.DataFrame(correctAssociationMatrix, columns=['Range', 'Theta'])\n",
    "measurementDf['CentroidNumber'] = pd.Series(np.arange(correctAssociationMatrix.shape[0]))\n",
    "#number of measured centroids is not equal to number of previously known centroids \n",
    "#too many centroids\n",
    "if np.isfinite(distanceMatrix).all():\n",
    "    #find rows that are not associated\n",
    "    newCentroids = rThetaMeasurement.values[np.isfinite(distanceMatrix[:,0])]\n",
    "    measurementDf = pd.concat([measurementDf, pd.DataFrame(newCentroids))\n",
    "    #if too many\n",
    "    \n",
    "    \n",
    "measurementDf['CentroidNumber'] = pd.Series(np.arange(correctAssociationMatrix.shape[0]))"
   ]
  },
  {
   "cell_type": "code",
   "execution_count": 177,
   "metadata": {},
   "outputs": [
    {
     "data": {
      "text/html": [
       "<div>\n",
       "<style scoped>\n",
       "    .dataframe tbody tr th:only-of-type {\n",
       "        vertical-align: middle;\n",
       "    }\n",
       "\n",
       "    .dataframe tbody tr th {\n",
       "        vertical-align: top;\n",
       "    }\n",
       "\n",
       "    .dataframe thead th {\n",
       "        text-align: right;\n",
       "    }\n",
       "</style>\n",
       "<table border=\"1\" class=\"dataframe\">\n",
       "  <thead>\n",
       "    <tr style=\"text-align: right;\">\n",
       "      <th></th>\n",
       "      <th>CentroidNumber</th>\n",
       "      <th>R</th>\n",
       "      <th>Theta</th>\n",
       "    </tr>\n",
       "  </thead>\n",
       "  <tbody>\n",
       "    <tr>\n",
       "      <th>0</th>\n",
       "      <td>0</td>\n",
       "      <td>2.692582</td>\n",
       "      <td>-1.190290</td>\n",
       "    </tr>\n",
       "    <tr>\n",
       "      <th>1</th>\n",
       "      <td>1</td>\n",
       "      <td>0.860233</td>\n",
       "      <td>0.950547</td>\n",
       "    </tr>\n",
       "  </tbody>\n",
       "</table>\n",
       "</div>"
      ],
      "text/plain": [
       "   CentroidNumber         R     Theta\n",
       "0               0  2.692582 -1.190290\n",
       "1               1  0.860233  0.950547"
      ]
     },
     "execution_count": 177,
     "metadata": {},
     "output_type": "execute_result"
    }
   ],
   "source": [
    "rThetaMeasurement"
   ]
  },
  {
   "cell_type": "code",
   "execution_count": 176,
   "metadata": {},
   "outputs": [
    {
     "data": {
      "text/plain": [
       "array([[ 0.86023253,  0.95054684],\n",
       "       [ 2.6925824 , -1.19028995]])"
      ]
     },
     "execution_count": 176,
     "metadata": {},
     "output_type": "execute_result"
    }
   ],
   "source": [
    "correctAssociationMatrix"
   ]
  },
  {
   "cell_type": "code",
   "execution_count": 123,
   "metadata": {},
   "outputs": [],
   "source": []
  },
  {
   "cell_type": "code",
   "execution_count": 124,
   "metadata": {},
   "outputs": [
    {
     "data": {
      "text/plain": [
       "1"
      ]
     },
     "execution_count": 124,
     "metadata": {},
     "output_type": "execute_result"
    }
   ],
   "source": [
    "colIndex"
   ]
  },
  {
   "cell_type": "code",
   "execution_count": null,
   "metadata": {},
   "outputs": [],
   "source": []
  }
 ],
 "metadata": {
  "kernelspec": {
   "display_name": "Python 3",
   "language": "python",
   "name": "python3"
  },
  "language_info": {
   "codemirror_mode": {
    "name": "ipython",
    "version": 3
   },
   "file_extension": ".py",
   "mimetype": "text/x-python",
   "name": "python",
   "nbconvert_exporter": "python",
   "pygments_lexer": "ipython3",
   "version": "3.7.1"
  }
 },
 "nbformat": 4,
 "nbformat_minor": 2
}
