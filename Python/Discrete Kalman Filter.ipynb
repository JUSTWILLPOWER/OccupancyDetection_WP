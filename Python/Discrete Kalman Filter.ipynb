{
 "cells": [
  {
   "cell_type": "markdown",
   "metadata": {},
   "source": [
    "# Discrete Kalman Filter"
   ]
  },
  {
   "cell_type": "code",
   "execution_count": 1,
   "metadata": {},
   "outputs": [],
   "source": [
    "import numpy as np\n",
    "import pandas as pd\n",
    "from scipy.linalg import expm"
   ]
  },
  {
   "cell_type": "markdown",
   "metadata": {},
   "source": [
    "### Helper Functions"
   ]
  },
  {
   "cell_type": "code",
   "execution_count": 2,
   "metadata": {},
   "outputs": [],
   "source": [
    "def predictStep(x, A):\n",
    "    xPred = np.matmul(A,x)\n",
    "    return xPred"
   ]
  },
  {
   "cell_type": "code",
   "execution_count": 29,
   "metadata": {},
   "outputs": [],
   "source": [
    "def innovationStep(xPred,z, H):\n",
    "    innovation = np.subtract(z, np.matmul(H, xPred)) #innovation\n",
    "    return innovation"
   ]
  },
  {
   "cell_type": "code",
   "execution_count": 42,
   "metadata": {},
   "outputs": [],
   "source": [
    "def UpdateStep(xPred, nu, K):\n",
    "    xNew = np.add(xPred, np.matmul(K, innovation))\n",
    "    return xNew"
   ]
  },
  {
   "cell_type": "code",
   "execution_count": 6,
   "metadata": {},
   "outputs": [],
   "source": [
    "def dataAssociation(xPred, rThetaMeasurement):\n",
    "    pass"
   ]
  },
  {
   "cell_type": "code",
   "execution_count": 31,
   "metadata": {},
   "outputs": [],
   "source": [
    "#initialize variables\n",
    "deltaT = 50*10**-3 #50ms\n",
    "\n",
    "#system matrix\n",
    "A = np.array([\n",
    "    [1, deltaT, 0,0],\n",
    "    [0,1,0,0],\n",
    "    [0,0,1,deltaT],\n",
    "    [0,0,0,1]\n",
    "])\n",
    "#state transition matrix\n",
    "F = expm(A*deltaT)\n",
    "#output matrix\n",
    "H = np.array([[1,0,0,0],\n",
    "              [0,0,1,0]])\n",
    "#covariance matrices\n",
    "Q = np.eye(4)\n",
    "R = np.ones(2).reshape(-1,1)\n",
    "Pc = np.eye(4)\n",
    "\n",
    "Ppred = np.add(np.matmul(np.matmul(A,Pc), np.transpose(A)), Q) #prediction covariance\n",
    "S = np.add(R, np.matmul(np.matmul(H, Pd), np.transpose(H))) #innovation covariance\n",
    "K = np.matmul(Pd, np.matmul(np.transpose(H), np.linalg.inv(S))) #kalman gain\n",
    "Pupdate = np.subtract(Ppred, np.matmul(np.matmul(K, S), np.transpose(K))) #update covariance"
   ]
  },
  {
   "cell_type": "code",
   "execution_count": 21,
   "metadata": {},
   "outputs": [],
   "source": [
    "#load in centroid data\n",
    "#centroids are loaded in as a pandas dataframe (cartesianMeasurementCentroidDf)\n",
    "#Header\n",
    "# CentroidNumber | X | Y\n"
   ]
  },
  {
   "cell_type": "code",
   "execution_count": 9,
   "metadata": {},
   "outputs": [],
   "source": [
    "#convert x,y to r,theta\n",
    "measurementR = np.sqrt(np.square(cartesianMeasurementCentroidDf['X']) + np.square(cartesianMeasurementCentroidDf['Y']))\n",
    "measurementTheta = np.arctan(cartesianMeasurementCentroidDf['Y']/cartesianMeasurementCentroidDf['X'])\n",
    "polarCentroidDf = pd.DataFrame({'CentroidNumber':cartesianMeasurementCentroidDf['CentroidNumber'], \n",
    "                               'R': measurementR,\n",
    "                               'Theta': measurementTheta})\n"
   ]
  },
  {
   "cell_type": "markdown",
   "metadata": {},
   "source": [
    "### Unit Testing"
   ]
  },
  {
   "cell_type": "code",
   "execution_count": 32,
   "metadata": {},
   "outputs": [
    {
     "data": {
      "text/plain": [
       "array([[1.025],\n",
       "       [0.5  ],\n",
       "       [0.   ],\n",
       "       [0.   ]])"
      ]
     },
     "execution_count": 32,
     "metadata": {},
     "output_type": "execute_result"
    }
   ],
   "source": [
    "#test predict step\n",
    "x = np.expand_dims(np.array([1,0.5,0,0]), axis=1) #previous state\n",
    "xPred = predictStep(x, A) #predicted state\n",
    "xPred"
   ]
  },
  {
   "cell_type": "code",
   "execution_count": 35,
   "metadata": {},
   "outputs": [
    {
     "data": {
      "text/plain": [
       "array([[-0.025],\n",
       "       [ 0.5  ]])"
      ]
     },
     "execution_count": 35,
     "metadata": {},
     "output_type": "execute_result"
    }
   ],
   "source": [
    "#test innovation\n",
    "#use xPred from previous step\n",
    "# innovation(xPred, Pd, z, H, R)\n",
    "z = np.expand_dims(np.array([1,0.5]), axis=1) #create column vector\n",
    "innovation = innovationStep(xPred, z, H)\n",
    "innovation"
   ]
  },
  {
   "cell_type": "code",
   "execution_count": 43,
   "metadata": {},
   "outputs": [
    {
     "data": {
      "text/plain": [
       "array([[0.88132417],\n",
       "       [0.49641259],\n",
       "       [0.38132417],\n",
       "       [0.0095212 ]])"
      ]
     },
     "execution_count": 43,
     "metadata": {},
     "output_type": "execute_result"
    }
   ],
   "source": [
    "#test update step\n",
    "xNew = UpdateStep(xPred, innovation, K)\n",
    "xNew"
   ]
  },
  {
   "cell_type": "code",
   "execution_count": null,
   "metadata": {},
   "outputs": [],
   "source": []
  },
  {
   "cell_type": "code",
   "execution_count": null,
   "metadata": {},
   "outputs": [],
   "source": []
  }
 ],
 "metadata": {
  "kernelspec": {
   "display_name": "Python 3",
   "language": "python",
   "name": "python3"
  },
  "language_info": {
   "codemirror_mode": {
    "name": "ipython",
    "version": 3
   },
   "file_extension": ".py",
   "mimetype": "text/x-python",
   "name": "python",
   "nbconvert_exporter": "python",
   "pygments_lexer": "ipython3",
   "version": "3.7.1"
  }
 },
 "nbformat": 4,
 "nbformat_minor": 2
}
