{
 "cells": [
  {
   "cell_type": "code",
   "execution_count": null,
   "metadata": {},
   "outputs": [],
   "source": [
    "import numpy as np \n",
    "import pandas as pd\n",
    "from sklearn.metrics import zero_one_loss\n",
    "import time\n",
    "import matplotlib.pyplot as plt\n",
    "import os\n",
    "import seaborn as sns "
   ]
  },
  {
   "cell_type": "code",
   "execution_count": null,
   "metadata": {},
   "outputs": [],
   "source": [
    "#get all required dataset files\n",
    "tiVsAlgFiles = os.listdir('C:\\\\Users\\\\hasna\\\\Documents\\\\GitHub\\\\OccupancyDetection\\\\Results\\\\Algorithm vs TI')\n",
    "groundTruthFiles = os.listdir('C:\\\\Users\\\\hasna\\\\Documents\\\\GitHub\\\\OccupancyDetection\\\\Results\\\\Ground Truth')"
   ]
  },
  {
   "cell_type": "markdown",
   "metadata": {},
   "source": [
    "### Main Code"
   ]
  },
  {
   "cell_type": "code",
   "execution_count": 65,
   "metadata": {},
   "outputs": [
    {
     "data": {
      "text/plain": [
       "<matplotlib.axes._subplots.AxesSubplot at 0x1b3c4c837f0>"
      ]
     },
     "execution_count": 65,
     "metadata": {},
     "output_type": "execute_result"
    },
    {
     "data": {
      "image/png": "[encoded data removed]",
      "text/plain": [
       "<Figure size 432x288 with 1 Axes>"
      ]
     },
     "metadata": {
      "needs_background": "light"
     },
     "output_type": "display_data"
    }
   ],
   "source": [
    "missclassifications = np.array([])\n",
    "for name in tiVsAlgFiles:\n",
    "    path = 'C:\\\\Users\\\\hasna\\\\Documents\\\\GitHub\\\\OccupancyDetection\\\\Results\\\\Algorithm vs TI\\\\' + name\n",
    "    tiVsAlgDf = pd.read_csv(path, usecols=['TI', 'Group 16'], dtype=int)\n",
    "    path = 'C:\\\\Users\\\\hasna\\\\Documents\\\\GitHub\\\\OccupancyDetection\\\\Results\\\\Ground Truth\\\\' + name\n",
    "    groundTruthDf = pd.read_csv(path, usecols=['Expected Kalman'], dtype=int)\n",
    "    \n",
    "    #compare the ground truth to TI\n",
    "    if missclassifications.size == 0:\n",
    "        missclassifications = np.array([zero_one_loss(groundTruthDf['Expected Kalman'], tiVsAlgDf['TI'])*100, 'TI', name])\n",
    "        missclassifications = np.vstack((missclassifications,\n",
    "                                        np.array([zero_one_loss(groundTruthDf['Expected Kalman'], tiVsAlgDf['Group 16'])*100, 'Group16',name])))\n",
    "    else:\n",
    "        missclassifications = np.vstack((missclassifications,\n",
    "                                        np.array([zero_one_loss(groundTruthDf['Expected Kalman'], tiVsAlgDf['TI'])*100, 'TI',name])))\n",
    "        missclassifications = np.vstack((missclassifications,\n",
    "                                        np.array([zero_one_loss(groundTruthDf['Expected Kalman'], tiVsAlgDf['Group 16'])*100, 'Group16',name])))\n",
    "    \n",
    "    \n",
    "missclassificationsDf = pd.DataFrame(missclassifications)\n",
    "missclassificationsDf.columns = ['% Missclassifications', 'Group', 'Dataset']\n",
    "missclassificationsDf['% Missclassifications'] = missclassificationsDf['% Missclassifications'].astype(dtype=np.float32)\n",
    "sns.barplot(x='Dataset', y='% Missclassifications', hue='Group', data=missclassificationsDf)"
   ]
  },
  {
   "cell_type": "code",
   "execution_count": 66,
   "metadata": {},
   "outputs": [
    {
     "data": {
      "text/html": [
       "<div>\n",
       "<style scoped>\n",
       "    .dataframe tbody tr th:only-of-type {\n",
       "        vertical-align: middle;\n",
       "    }\n",
       "\n",
       "    .dataframe tbody tr th {\n",
       "        vertical-align: top;\n",
       "    }\n",
       "\n",
       "    .dataframe thead th {\n",
       "        text-align: right;\n",
       "    }\n",
       "</style>\n",
       "<table border=\"1\" class=\"dataframe\">\n",
       "  <thead>\n",
       "    <tr style=\"text-align: right;\">\n",
       "      <th></th>\n",
       "      <th>% Missclassifications</th>\n",
       "      <th>Group</th>\n",
       "      <th>Dataset</th>\n",
       "    </tr>\n",
       "  </thead>\n",
       "  <tbody>\n",
       "    <tr>\n",
       "      <th>0</th>\n",
       "      <td>13.805522</td>\n",
       "      <td>TI</td>\n",
       "      <td>1PersonWalkingLocationAlan.csv</td>\n",
       "    </tr>\n",
       "    <tr>\n",
       "      <th>1</th>\n",
       "      <td>6.362545</td>\n",
       "      <td>Group16</td>\n",
       "      <td>1PersonWalkingLocationAlan.csv</td>\n",
       "    </tr>\n",
       "    <tr>\n",
       "      <th>2</th>\n",
       "      <td>59.880241</td>\n",
       "      <td>TI</td>\n",
       "      <td>4PeopleTableInterview.csv</td>\n",
       "    </tr>\n",
       "    <tr>\n",
       "      <th>3</th>\n",
       "      <td>75.149704</td>\n",
       "      <td>Group16</td>\n",
       "      <td>4PeopleTableInterview.csv</td>\n",
       "    </tr>\n",
       "    <tr>\n",
       "      <th>4</th>\n",
       "      <td>63.510391</td>\n",
       "      <td>TI</td>\n",
       "      <td>4PeopleWalking.csv</td>\n",
       "    </tr>\n",
       "    <tr>\n",
       "      <th>5</th>\n",
       "      <td>16.743649</td>\n",
       "      <td>Group16</td>\n",
       "      <td>4PeopleWalking.csv</td>\n",
       "    </tr>\n",
       "  </tbody>\n",
       "</table>\n",
       "</div>"
      ],
      "text/plain": [
       "   % Missclassifications    Group                         Dataset\n",
       "0              13.805522       TI  1PersonWalkingLocationAlan.csv\n",
       "1               6.362545  Group16  1PersonWalkingLocationAlan.csv\n",
       "2              59.880241       TI       4PeopleTableInterview.csv\n",
       "3              75.149704  Group16       4PeopleTableInterview.csv\n",
       "4              63.510391       TI              4PeopleWalking.csv\n",
       "5              16.743649  Group16              4PeopleWalking.csv"
      ]
     },
     "execution_count": 66,
     "metadata": {},
     "output_type": "execute_result"
    }
   ],
   "source": [
    "missclassificationsDf"
   ]
  },
  {
   "cell_type": "code",
   "execution_count": 56,
   "metadata": {},
   "outputs": [
    {
     "data": {
      "text/html": [
       "<div>\n",
       "<style scoped>\n",
       "    .dataframe tbody tr th:only-of-type {\n",
       "        vertical-align: middle;\n",
       "    }\n",
       "\n",
       "    .dataframe tbody tr th {\n",
       "        vertical-align: top;\n",
       "    }\n",
       "\n",
       "    .dataframe thead th {\n",
       "        text-align: right;\n",
       "    }\n",
       "</style>\n",
       "<table border=\"1\" class=\"dataframe\">\n",
       "  <thead>\n",
       "    <tr style=\"text-align: right;\">\n",
       "      <th></th>\n",
       "      <th>% Missclassifications</th>\n",
       "      <th>Group</th>\n",
       "      <th>Dataset</th>\n",
       "    </tr>\n",
       "  </thead>\n",
       "  <tbody>\n",
       "    <tr>\n",
       "      <th>0</th>\n",
       "      <td>13.805522</td>\n",
       "      <td>TI</td>\n",
       "      <td>1PersonWalkingLocationAlan.csv</td>\n",
       "    </tr>\n",
       "    <tr>\n",
       "      <th>1</th>\n",
       "      <td>6.362545</td>\n",
       "      <td>Group16</td>\n",
       "      <td>1PersonWalkingLocationAlan.csv</td>\n",
       "    </tr>\n",
       "    <tr>\n",
       "      <th>2</th>\n",
       "      <td>59.880241</td>\n",
       "      <td>TI</td>\n",
       "      <td>4PeopleTableInterview.csv</td>\n",
       "    </tr>\n",
       "    <tr>\n",
       "      <th>3</th>\n",
       "      <td>55.389221</td>\n",
       "      <td>Group16</td>\n",
       "      <td>4PeopleTableInterview.csv</td>\n",
       "    </tr>\n",
       "    <tr>\n",
       "      <th>4</th>\n",
       "      <td>63.510391</td>\n",
       "      <td>TI</td>\n",
       "      <td>4PeopleWalking.csv</td>\n",
       "    </tr>\n",
       "    <tr>\n",
       "      <th>5</th>\n",
       "      <td>52.886837</td>\n",
       "      <td>Group16</td>\n",
       "      <td>4PeopleWalking.csv</td>\n",
       "    </tr>\n",
       "  </tbody>\n",
       "</table>\n",
       "</div>"
      ],
      "text/plain": [
       "   % Missclassifications    Group                         Dataset\n",
       "0              13.805522       TI  1PersonWalkingLocationAlan.csv\n",
       "1               6.362545  Group16  1PersonWalkingLocationAlan.csv\n",
       "2              59.880241       TI       4PeopleTableInterview.csv\n",
       "3              55.389221  Group16       4PeopleTableInterview.csv\n",
       "4              63.510391       TI              4PeopleWalking.csv\n",
       "5              52.886837  Group16              4PeopleWalking.csv"
      ]
     },
     "execution_count": 56,
     "metadata": {},
     "output_type": "execute_result"
    }
   ],
   "source": [
    "missclassificationsDf"
   ]
  },
  {
   "cell_type": "code",
   "execution_count": null,
   "metadata": {},
   "outputs": [],
   "source": []
  },
  {
   "cell_type": "code",
   "execution_count": null,
   "metadata": {},
   "outputs": [],
   "source": []
  }
 ],
 "metadata": {
  "kernelspec": {
   "display_name": "Python 3",
   "language": "python",
   "name": "python3"
  },
  "language_info": {
   "codemirror_mode": {
    "name": "ipython",
    "version": 3
   },
   "file_extension": ".py",
   "mimetype": "text/x-python",
   "name": "python",
   "nbconvert_exporter": "python",
   "pygments_lexer": "ipython3",
   "version": "3.7.1"
  }
 },
 "nbformat": 4,
 "nbformat_minor": 2
}
